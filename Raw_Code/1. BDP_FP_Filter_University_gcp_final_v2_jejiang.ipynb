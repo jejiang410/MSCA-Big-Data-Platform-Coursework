{
 "cells": [
  {
   "cell_type": "code",
   "execution_count": 1,
   "metadata": {},
   "outputs": [],
   "source": [
    "import os\n",
    "import subprocess\n",
    "from pyspark.sql.functions import *\n",
    "from pyspark.sql.types import *"
   ]
  },
  {
   "cell_type": "code",
   "execution_count": 2,
   "metadata": {},
   "outputs": [],
   "source": [
    "spark.conf.set(\"spark.sql.repl.eagerEval.enabled\", True)"
   ]
  },
  {
   "cell_type": "code",
   "execution_count": 3,
   "metadata": {},
   "outputs": [
    {
     "name": "stdout",
     "output_type": "stream",
     "text": [
      "2.3 T  2.3 T  gs://msca-bdp-tweets/Tweets\n"
     ]
    }
   ],
   "source": [
    "!hadoop fs -du -s -h 'gs://msca-bdp-tweets/Tweets/'"
   ]
  },
  {
   "cell_type": "markdown",
   "metadata": {},
   "source": [
    "## 1. Load data and filter relevant features"
   ]
  },
  {
   "cell_type": "code",
   "execution_count": 4,
   "metadata": {},
   "outputs": [],
   "source": [
    "directory = \"gs://msca-bdp-tweets/Tweets/\"\n",
    "file = '*.json'\n",
    "path = directory + file"
   ]
  },
  {
   "cell_type": "code",
   "execution_count": null,
   "metadata": {},
   "outputs": [],
   "source": [
    "tweets_df = spark.read.json(path)"
   ]
  },
  {
   "cell_type": "code",
   "execution_count": null,
   "metadata": {},
   "outputs": [
    {
     "data": {
      "text/plain": [
       "['contributors',\n",
       " 'coordinates',\n",
       " 'created_at',\n",
       " 'display_text_range',\n",
       " 'entities',\n",
       " 'extended_entities',\n",
       " 'extended_tweet',\n",
       " 'favorite_count',\n",
       " 'favorited',\n",
       " 'filter_level',\n",
       " 'geo',\n",
       " 'id',\n",
       " 'id_str',\n",
       " 'in_reply_to_screen_name',\n",
       " 'in_reply_to_status_id',\n",
       " 'in_reply_to_status_id_str',\n",
       " 'in_reply_to_user_id',\n",
       " 'in_reply_to_user_id_str',\n",
       " 'is_quote_status',\n",
       " 'lang',\n",
       " 'limit',\n",
       " 'place',\n",
       " 'possibly_sensitive',\n",
       " 'quote_count',\n",
       " 'quoted_status',\n",
       " 'quoted_status_id',\n",
       " 'quoted_status_id_str',\n",
       " 'quoted_status_permalink',\n",
       " 'reply_count',\n",
       " 'retweet_count',\n",
       " 'retweeted',\n",
       " 'retweeted_status',\n",
       " 'scopes',\n",
       " 'source',\n",
       " 'text',\n",
       " 'timestamp_ms',\n",
       " 'truncated',\n",
       " 'user',\n",
       " 'withheld_copyright',\n",
       " 'withheld_in_countries']"
      ]
     },
     "execution_count": 6,
     "metadata": {},
     "output_type": "execute_result"
    }
   ],
   "source": [
    "tweets_df.schema.names"
   ]
  },
  {
   "cell_type": "code",
   "execution_count": null,
   "metadata": {},
   "outputs": [],
   "source": [
    "tweets_df1 = tweets_df.select(col('created_at'), col('favorite_count'), col('id'), col('lang'), \\\n",
    "                              col('retweeted_status.retweet_count').alias('rs_retweet_count'), col('reply_count'), \\\n",
    "                              col('retweet_count'), col('text'),col('timestamp_ms'), col('user.id').alias('user_id'), col('user.name').alias('user_name'), \\\n",
    "                              col('user.screen_name').alias('user_screen_name'), col('user.location').alias('user_location'), col('user.verified').alias('user_verified'), \\\n",
    "                              col('user.followers_count').alias('user_followers_count'), col('user.friends_count').alias('user_friends_count'), \\\n",
    "                              col('user.favourites_count').alias('user_favourites_count'), col('user.created_at').alias('user_created_at'))"
   ]
  },
  {
   "cell_type": "code",
   "execution_count": 8,
   "metadata": {},
   "outputs": [
    {
     "data": {
      "text/html": [
       "<table border='1'>\n",
       "<tr><th>created_at</th><th>favorite_count</th><th>id</th><th>lang</th><th>rs_retweet_count</th><th>reply_count</th><th>retweet_count</th><th>text</th><th>timestamp_ms</th><th>user_id</th><th>user_name</th><th>user_screen_name</th><th>user_location</th><th>user_verified</th><th>user_followers_count</th><th>user_friends_count</th><th>user_favourites_count</th><th>user_created_at</th></tr>\n",
       "<tr><td>Tue Aug 22 01:15:...</td><td>0</td><td>899802055317082112</td><td>en</td><td>17</td><td>null</td><td>0</td><td>RT @jprince713: T...</td><td>1503364502158</td><td>1869685285</td><td>Stephen Erickson</td><td>StephenErickso</td><td>Erbenova CZ  </td><td>false</td><td>1440</td><td>1310</td><td>4655</td><td>Mon Sep 16 00:16:...</td></tr>\n",
       "<tr><td>Tue Aug 22 01:15:...</td><td>0</td><td>899802054645882881</td><td>en</td><td>null</td><td>null</td><td>0</td><td>You not from AMER...</td><td>1503364501998</td><td>286886991</td><td>Dwayne mckell</td><td>officialmckell</td><td>Philadelphia, PA</td><td>false</td><td>119618</td><td>9892</td><td>3421</td><td>Sat Apr 23 22:18:...</td></tr>\n",
       "<tr><td>Tue Aug 22 01:15:...</td><td>0</td><td>899802053492432896</td><td>en</td><td>30860</td><td>null</td><td>0</td><td>RT @_liyahhhhhhh_...</td><td>1503364501723</td><td>1016646704</td><td>John Garabedian</td><td>john_garabedian</td><td>null</td><td>false</td><td>569</td><td>277</td><td>32024</td><td>Mon Dec 17 04:05:...</td></tr>\n",
       "<tr><td>Tue Aug 22 01:15:...</td><td>0</td><td>899802055824551936</td><td>en</td><td>null</td><td>null</td><td>0</td><td>For anyone wonder...</td><td>1503364502279</td><td>3342588748</td><td>LaurieLou</td><td>LauraTrent11</td><td>null</td><td>false</td><td>149</td><td>21</td><td>14061</td><td>Tue Jun 23 10:32:...</td></tr>\n",
       "<tr><td>Tue Aug 22 01:15:...</td><td>0</td><td>899802056017367041</td><td>en</td><td>326</td><td>null</td><td>0</td><td>RT @FoxNews: High...</td><td>1503364502325</td><td>4149769393</td><td>kye stephens</td><td>kyestephens4</td><td>null</td><td>false</td><td>76</td><td>179</td><td>2707</td><td>Fri Nov 06 20:34:...</td></tr>\n",
       "</table>\n"
      ],
      "text/plain": [
       "+--------------------+--------------+------------------+----+----------------+-----------+-------------+--------------------+-------------+------------------+--------------------+----------------+--------------------+-------------+--------------------+------------------+---------------------+--------------------+\n",
       "|          created_at|favorite_count|                id|lang|rs_retweet_count|reply_count|retweet_count|                text| timestamp_ms|           user_id|           user_name|user_screen_name|       user_location|user_verified|user_followers_count|user_friends_count|user_favourites_count|     user_created_at|\n",
       "+--------------------+--------------+------------------+----+----------------+-----------+-------------+--------------------+-------------+------------------+--------------------+----------------+--------------------+-------------+--------------------+------------------+---------------------+--------------------+\n",
       "|Fri Mar 30 15:15:...|             0|979738780788764672|  en|            null|          0|            0|@CriticalReader7 ...|1522422902663|890951004455391232|                BIMC|      hmedic1995|       United States|        false|                  59|               157|                 1227|Fri Jul 28 15:04:...|\n",
       "|Fri Mar 30 15:15:...|             0|979738779094257664|  en|            null|          0|            0|\"A university is ...|1522422902259|         483195215|         MacCocktail|     MacCocktail|         New Orleans|        false|              304341|             58309|               113275|Sat Feb 04 18:58:...|\n",
       "|Fri Mar 30 15:15:...|             0|979738780448915462|  en|               1|          0|            0|RT @ProfShahee: P...|1522422902582|        3311096262|κ!ґДДκ♭д((нд ☜~( ●̮̃|   Kiraak_baccha|#∂єєρ-ιηѕι∂є-υя-н...|        false|                 503|                64|                67114|Mon Aug 10 05:12:...|\n",
       "|Fri Mar 30 15:15:...|             0|979738780679712771|  en|           13872|          0|            0|RT @Codeybab: Hi,...|1522422902637|        1727315738|          Zach Laird|       Lairddddd|        Edgewood, MD|        false|                 674|               461|                38954|Wed Sep 04 02:26:...|\n",
       "|Fri Mar 30 15:15:...|             0|979738780881031174|  en|            null|          0|            0|WATCH: ‘Immediate...|1522422902685|897781362442285057|            Newsaloo|        newsaloo|      Washington, DC|        false|                  23|                 1|                    0|Wed Aug 16 11:25:...|\n",
       "+--------------------+--------------+------------------+----+----------------+-----------+-------------+--------------------+-------------+------------------+--------------------+----------------+--------------------+-------------+--------------------+------------------+---------------------+--------------------+"
      ]
     },
     "execution_count": 8,
     "metadata": {},
     "output_type": "execute_result"
    }
   ],
   "source": [
    "tweets_df1.limit(5)"
   ]
  },
  {
   "cell_type": "markdown",
   "metadata": {},
   "source": [
    "## 2. Filter universities"
   ]
  },
  {
   "cell_type": "code",
   "execution_count": null,
   "metadata": {},
   "outputs": [
    {
     "data": {
      "text/html": [
       "<table border='1'>\n",
       "<tr><th>created_at</th><th>favorite_count</th><th>id</th><th>lang</th><th>rs_retweet_count</th><th>reply_count</th><th>retweet_count</th><th>text</th><th>timestamp_ms</th><th>user_id</th><th>user_name</th><th>user_screen_name</th><th>user_location</th><th>user_verified</th><th>user_followers_count</th><th>user_friends_count</th><th>user_favourites_count</th><th>user_created_at</th></tr>\n",
       "<tr><td>Thu Jun 22 23:17:...</td><td>0</td><td>878029090665541633</td><td>en</td><td>2</td><td>null</td><td>0</td><td>RT @SGVNSports: S...</td><td>1498173422863</td><td>2858376295</td><td>audrey sellers</td><td>_audreysellers_</td><td>probably at the f...</td><td>false</td><td>558</td><td>403</td><td>7390</td><td>Thu Oct 16 19:05:...</td></tr>\n",
       "<tr><td>Thu Jun 22 23:19:...</td><td>0</td><td>878029655277617152</td><td>en</td><td>3</td><td>null</td><td>0</td><td>RT @SGVNSports: S...</td><td>1498173557477</td><td>3002070924</td><td>Marcellus Pearson</td><td>cellyp32</td><td>Upland, CA</td><td>false</td><td>783</td><td>677</td><td>3725</td><td>Thu Jan 29 19:30:...</td></tr>\n",
       "<tr><td>Thu Jun 22 23:32:...</td><td>0</td><td>878032945352716288</td><td>en</td><td>null</td><td>null</td><td>0</td><td>Good evening Nort...</td><td>1498174341892</td><td>795645416473853954</td><td>Northeastern WxSTEM</td><td>NUWxSTEM</td><td>Boston, MA</td><td>false</td><td>55</td><td>10</td><td>0</td><td>Mon Nov 07 15:13:...</td></tr>\n",
       "<tr><td>Thu Jun 22 23:35:...</td><td>0</td><td>878033732753432576</td><td>en</td><td>null</td><td>null</td><td>0</td><td>Professor Bruce C...</td><td>1498174529623</td><td>103719930</td><td>tbs eFM This Morning</td><td>efmthismorning</td><td>Seoul, South Korea</td><td>false</td><td>1283</td><td>690</td><td>196</td><td>Mon Jan 11 01:33:...</td></tr>\n",
       "<tr><td>Thu Jun 22 23:36:...</td><td>0</td><td>878034060903186432</td><td>en</td><td>null</td><td>null</td><td>0</td><td>Debunking Fake Ne...</td><td>1498174607860</td><td>22257074</td><td>Eric Newton</td><td>EricNewton1</td><td>Phoenix, Miami, S...</td><td>false</td><td>3478</td><td>2530</td><td>25</td><td>Sat Feb 28 14:01:...</td></tr>\n",
       "<tr><td>Thu Jun 22 23:53:...</td><td>0</td><td>878038274115239941</td><td>en</td><td>null</td><td>null</td><td>0</td><td>Isaac Asimov was ...</td><td>1498175612368</td><td>808611253275029504</td><td>Thomas Bergere</td><td>drivinsouth429</td><td>null</td><td>false</td><td>1</td><td>6</td><td>2</td><td>Tue Dec 13 09:55:...</td></tr>\n",
       "<tr><td>Thu Jun 22 23:53:...</td><td>0</td><td>878038287461392384</td><td>en</td><td>80</td><td>null</td><td>0</td><td>RT @_audreyseller...</td><td>1498175615550</td><td>1340688360</td><td>deanna</td><td>deanna_aa</td><td>Riverside, CA</td><td>false</td><td>287</td><td>227</td><td>2155</td><td>Wed Apr 10 01:25:...</td></tr>\n",
       "<tr><td>Thu Jun 22 23:55:...</td><td>0</td><td>878038679796670464</td><td>en</td><td>1</td><td>null</td><td>0</td><td>RT @efmthismornin...</td><td>1498175709090</td><td>287999434</td><td>tbs eFM 101.3MHz</td><td>1013eFM</td><td>Seoul, Korea</td><td>true</td><td>2304</td><td>2269</td><td>36</td><td>Tue Apr 26 02:11:...</td></tr>\n",
       "<tr><td>Thu Jun 22 23:55:...</td><td>0</td><td>878038831911510016</td><td>en</td><td>4</td><td>null</td><td>0</td><td>RT @SGVNSports: S...</td><td>1498175745357</td><td>2329383511</td><td>Dakota Casper</td><td>Dakotacameron_</td><td>null</td><td>false</td><td>230</td><td>206</td><td>1162</td><td>Wed Feb 05 21:26:...</td></tr>\n",
       "<tr><td>Thu Jun 22 23:56:...</td><td>0</td><td>878038928179298304</td><td>en</td><td>null</td><td>null</td><td>0</td><td>Congratulations t...</td><td>1498175768309</td><td>220073795</td><td>Presunto Culpable</td><td>PresuntoC</td><td>Berkeley, CA</td><td>false</td><td>33120</td><td>8917</td><td>2310</td><td>Fri Nov 26 18:11:...</td></tr>\n",
       "<tr><td>Fri Jun 23 00:19:...</td><td>0</td><td>878044693887500288</td><td>en</td><td>8</td><td>null</td><td>0</td><td>RT @The_Elite_Hoo...</td><td>1498177142961</td><td>764096901469855744</td><td>Southfield Christian</td><td>SC_Hoop</td><td>null</td><td>false</td><td>91</td><td>92</td><td>392</td><td>Fri Aug 12 13:51:...</td></tr>\n",
       "<tr><td>Fri Jun 23 00:29:...</td><td>0</td><td>878047212986441729</td><td>en</td><td>null</td><td>null</td><td>0</td><td>🏵🌹🌺🌼🌸 all ov...</td><td>1498177743561</td><td>130393869</td><td>JV 🌱 ㅈㅂ</td><td>jvfmarcelino</td><td>City of Dasmariña...</td><td>false</td><td>232</td><td>125</td><td>845</td><td>Wed Apr 07 04:50:...</td></tr>\n",
       "<tr><td>Fri Jun 23 00:41:...</td><td>0</td><td>878050273272492032</td><td>en</td><td>null</td><td>null</td><td>0</td><td>Barack Hussein Ob...</td><td>1498178473190</td><td>50021977</td><td>Jayme</td><td>dem_apples</td><td>Mid-West USA</td><td>false</td><td>3060</td><td>3009</td><td>9969</td><td>Tue Jun 23 16:25:...</td></tr>\n",
       "<tr><td>Fri Jun 23 00:48:...</td><td>0</td><td>878052107856867330</td><td>en</td><td>6</td><td>null</td><td>0</td><td>RT @SportsPaperIn...</td><td>1498178910589</td><td>3626874797</td><td>Acres of Cherries</td><td>acresofcherries</td><td>Temple University</td><td>false</td><td>2455</td><td>3471</td><td>20343</td><td>Sat Sep 12 03:03:...</td></tr>\n",
       "<tr><td>Fri Jun 23 00:51:...</td><td>0</td><td>878052856250515456</td><td>en</td><td>null</td><td>null</td><td>0</td><td>Alicia Garza on t...</td><td>1498179089020</td><td>864831672180760576</td><td>Need Justice</td><td>need_justice9</td><td>null</td><td>false</td><td>1648</td><td>827</td><td>0</td><td>Wed May 17 13:15:...</td></tr>\n",
       "<tr><td>Fri Jun 23 00:54:...</td><td>0</td><td>878053681467359232</td><td>en</td><td>null</td><td>null</td><td>0</td><td>northwestern univ...</td><td>1498179285767</td><td>873253481305571328</td><td>Shae Niehaus</td><td>NiehausShae</td><td>null</td><td>false</td><td>1</td><td>0</td><td>0</td><td>Fri Jun 09 19:00:...</td></tr>\n",
       "<tr><td>Fri Jun 23 00:55:...</td><td>0</td><td>878053861159608321</td><td>en</td><td>null</td><td>null</td><td>0</td><td>Tempus and Univer...</td><td>1498179328609</td><td>14562968</td><td>Wafik El-Deiry MDPhD</td><td>weldeiry</td><td>Pennsylvania</td><td>false</td><td>5621</td><td>4898</td><td>955</td><td>Sun Apr 27 23:44:...</td></tr>\n",
       "<tr><td>Fri Jun 23 00:56:...</td><td>0</td><td>878054074851090433</td><td>en</td><td>null</td><td>null</td><td>0</td><td>Super excited to ...</td><td>1498179379557</td><td>3132158593</td><td>Liz🍀</td><td>elizabethc3201</td><td>null</td><td>false</td><td>253</td><td>281</td><td>330</td><td>Thu Apr 02 17:09:...</td></tr>\n",
       "<tr><td>Fri Jun 23 00:56:...</td><td>0</td><td>878054135974817792</td><td>en</td><td>2</td><td>null</td><td>0</td><td>RT @comerpedschie...</td><td>1498179394130</td><td>351332449</td><td>Anna Rodenbough</td><td>annarodenbough</td><td>chicago</td><td>false</td><td>275</td><td>254</td><td>47</td><td>Tue Aug 09 03:10:...</td></tr>\n",
       "<tr><td>Fri Jun 23 00:58:...</td><td>0</td><td>878054548979326978</td><td>en</td><td>5</td><td>null</td><td>0</td><td>RT @SGVNSports: S...</td><td>1498179492598</td><td>1663064352</td><td>erica ✨</td><td>eriicaarosee</td><td>CA</td><td>false</td><td>805</td><td>691</td><td>11696</td><td>Sun Aug 11 17:47:...</td></tr>\n",
       "</table>\n",
       "only showing top 20 rows\n"
      ],
      "text/plain": [
       "+--------------------+--------------+------------------+----+----------------+-----------+-------------+--------------------+-------------+------------------+--------------------+----------------+--------------------+-------------+--------------------+------------------+---------------------+--------------------+\n",
       "|          created_at|favorite_count|                id|lang|rs_retweet_count|reply_count|retweet_count|                text| timestamp_ms|           user_id|           user_name|user_screen_name|       user_location|user_verified|user_followers_count|user_friends_count|user_favourites_count|     user_created_at|\n",
       "+--------------------+--------------+------------------+----+----------------+-----------+-------------+--------------------+-------------+------------------+--------------------+----------------+--------------------+-------------+--------------------+------------------+---------------------+--------------------+\n",
       "|Thu Jun 22 23:17:...|             0|878029090665541633|  en|               2|       null|            0|RT @SGVNSports: S...|1498173422863|        2858376295|      audrey sellers| _audreysellers_|probably at the f...|        false|                 558|               403|                 7390|Thu Oct 16 19:05:...|\n",
       "|Thu Jun 22 23:19:...|             0|878029655277617152|  en|               3|       null|            0|RT @SGVNSports: S...|1498173557477|        3002070924|   Marcellus Pearson|        cellyp32|          Upland, CA|        false|                 783|               677|                 3725|Thu Jan 29 19:30:...|\n",
       "|Thu Jun 22 23:32:...|             0|878032945352716288|  en|            null|       null|            0|Good evening Nort...|1498174341892|795645416473853954| Northeastern WxSTEM|        NUWxSTEM|          Boston, MA|        false|                  55|                10|                    0|Mon Nov 07 15:13:...|\n",
       "|Thu Jun 22 23:35:...|             0|878033732753432576|  en|            null|       null|            0|Professor Bruce C...|1498174529623|         103719930|tbs eFM This Morning|  efmthismorning|  Seoul, South Korea|        false|                1283|               690|                  196|Mon Jan 11 01:33:...|\n",
       "|Thu Jun 22 23:36:...|             0|878034060903186432|  en|            null|       null|            0|Debunking Fake Ne...|1498174607860|          22257074|         Eric Newton|     EricNewton1|Phoenix, Miami, S...|        false|                3478|              2530|                   25|Sat Feb 28 14:01:...|\n",
       "|Thu Jun 22 23:53:...|             0|878038274115239941|  en|            null|       null|            0|Isaac Asimov was ...|1498175612368|808611253275029504|      Thomas Bergere|  drivinsouth429|                null|        false|                   1|                 6|                    2|Tue Dec 13 09:55:...|\n",
       "|Thu Jun 22 23:53:...|             0|878038287461392384|  en|              80|       null|            0|RT @_audreyseller...|1498175615550|        1340688360|              deanna|       deanna_aa|       Riverside, CA|        false|                 287|               227|                 2155|Wed Apr 10 01:25:...|\n",
       "|Thu Jun 22 23:55:...|             0|878038679796670464|  en|               1|       null|            0|RT @efmthismornin...|1498175709090|         287999434|    tbs eFM 101.3MHz|         1013eFM|        Seoul, Korea|         true|                2304|              2269|                   36|Tue Apr 26 02:11:...|\n",
       "|Thu Jun 22 23:55:...|             0|878038831911510016|  en|               4|       null|            0|RT @SGVNSports: S...|1498175745357|        2329383511|       Dakota Casper|  Dakotacameron_|                null|        false|                 230|               206|                 1162|Wed Feb 05 21:26:...|\n",
       "|Thu Jun 22 23:56:...|             0|878038928179298304|  en|            null|       null|            0|Congratulations t...|1498175768309|         220073795|   Presunto Culpable|       PresuntoC|        Berkeley, CA|        false|               33120|              8917|                 2310|Fri Nov 26 18:11:...|\n",
       "|Fri Jun 23 00:19:...|             0|878044693887500288|  en|               8|       null|            0|RT @The_Elite_Hoo...|1498177142961|764096901469855744|Southfield Christian|         SC_Hoop|                null|        false|                  91|                92|                  392|Fri Aug 12 13:51:...|\n",
       "|Fri Jun 23 00:29:...|             0|878047212986441729|  en|            null|       null|            0|🏵🌹🌺🌼🌸 all ov...|1498177743561|         130393869|          JV 🌱 ㅈㅂ|    jvfmarcelino|City of Dasmariña...|        false|                 232|               125|                  845|Wed Apr 07 04:50:...|\n",
       "|Fri Jun 23 00:41:...|             0|878050273272492032|  en|            null|       null|            0|Barack Hussein Ob...|1498178473190|          50021977|               Jayme|      dem_apples|        Mid-West USA|        false|                3060|              3009|                 9969|Tue Jun 23 16:25:...|\n",
       "|Fri Jun 23 00:48:...|             0|878052107856867330|  en|               6|       null|            0|RT @SportsPaperIn...|1498178910589|        3626874797|   Acres of Cherries| acresofcherries|   Temple University|        false|                2455|              3471|                20343|Sat Sep 12 03:03:...|\n",
       "|Fri Jun 23 00:51:...|             0|878052856250515456|  en|            null|       null|            0|Alicia Garza on t...|1498179089020|864831672180760576|        Need Justice|   need_justice9|                null|        false|                1648|               827|                    0|Wed May 17 13:15:...|\n",
       "|Fri Jun 23 00:54:...|             0|878053681467359232|  en|            null|       null|            0|northwestern univ...|1498179285767|873253481305571328|        Shae Niehaus|     NiehausShae|                null|        false|                   1|                 0|                    0|Fri Jun 09 19:00:...|\n",
       "|Fri Jun 23 00:55:...|             0|878053861159608321|  en|            null|       null|            0|Tempus and Univer...|1498179328609|          14562968|Wafik El-Deiry MDPhD|        weldeiry|        Pennsylvania|        false|                5621|              4898|                  955|Sun Apr 27 23:44:...|\n",
       "|Fri Jun 23 00:56:...|             0|878054074851090433|  en|            null|       null|            0|Super excited to ...|1498179379557|        3132158593|               Liz🍀|  elizabethc3201|                null|        false|                 253|               281|                  330|Thu Apr 02 17:09:...|\n",
       "|Fri Jun 23 00:56:...|             0|878054135974817792|  en|               2|       null|            0|RT @comerpedschie...|1498179394130|         351332449|     Anna Rodenbough|  annarodenbough|             chicago|        false|                 275|               254|                   47|Tue Aug 09 03:10:...|\n",
       "|Fri Jun 23 00:58:...|             0|878054548979326978|  en|               5|       null|            0|RT @SGVNSports: S...|1498179492598|        1663064352|             erica ✨|    eriicaarosee|                  CA|        false|                 805|               691|                11696|Sun Aug 11 17:47:...|\n",
       "+--------------------+--------------+------------------+----+----------------+-----------+-------------+--------------------+-------------+------------------+--------------------+----------------+--------------------+-------------+--------------------+------------------+---------------------+--------------------+\n",
       "only showing top 20 rows"
      ]
     },
     "execution_count": 8,
     "metadata": {},
     "output_type": "execute_result"
    }
   ],
   "source": [
    "tweets_df2 = tweets_df1.where(\"lower(text) like '%university of chicago%' or lower(text) like '%northwestern university%' or lower(text) like '%boston university%' or lower(text) like '%northeastern university%'\")\n",
    "tweets_df2.cache()"
   ]
  },
  {
   "cell_type": "code",
   "execution_count": 9,
   "metadata": {},
   "outputs": [
    {
     "data": {
      "text/plain": [
       "299651"
      ]
     },
     "execution_count": 9,
     "metadata": {},
     "output_type": "execute_result"
    }
   ],
   "source": [
    "tweets_df2.where(\"lower(text) like '%university of chicago%'\").count()"
   ]
  },
  {
   "cell_type": "code",
   "execution_count": 10,
   "metadata": {},
   "outputs": [
    {
     "data": {
      "text/plain": [
       "129090"
      ]
     },
     "execution_count": 10,
     "metadata": {},
     "output_type": "execute_result"
    }
   ],
   "source": [
    "tweets_df2.where(\"lower(text) like '%northwestern university%'\").count()"
   ]
  },
  {
   "cell_type": "code",
   "execution_count": 11,
   "metadata": {},
   "outputs": [
    {
     "data": {
      "text/plain": [
       "352727"
      ]
     },
     "execution_count": 11,
     "metadata": {},
     "output_type": "execute_result"
    }
   ],
   "source": [
    "tweets_df2.where(\"lower(text) like '%boston university%'\").count()"
   ]
  },
  {
   "cell_type": "code",
   "execution_count": 12,
   "metadata": {},
   "outputs": [
    {
     "data": {
      "text/plain": [
       "96366"
      ]
     },
     "execution_count": 12,
     "metadata": {},
     "output_type": "execute_result"
    }
   ],
   "source": [
    "tweets_df2.where(\"lower(text) like '%northeastern university%'\").count()"
   ]
  },
  {
   "cell_type": "code",
   "execution_count": null,
   "metadata": {},
   "outputs": [],
   "source": [
    "# For Hadoop\n",
    "tweets_df2.write.json('temp2')"
   ]
  },
  {
   "cell_type": "code",
   "execution_count": null,
   "metadata": {},
   "outputs": [],
   "source": [
    "# For cloud\n",
    "dir_out = 'temp4'\n",
    "bucket_write = 'msca-bdp-students-bucket/shared_data/jejiang'\n",
    "\n",
    "tweets_df2.write.json('gs://' + bucket_write + '/' + dir_out)"
   ]
  },
  {
   "cell_type": "code",
   "execution_count": 11,
   "metadata": {},
   "outputs": [
    {
     "name": "stdout",
     "output_type": "stream",
     "text": [
      "493.3 M  493.3 M  gs://msca-bdp-students-bucket/shared_data/jejiang/temp4\n"
     ]
    }
   ],
   "source": [
    "!hadoop fs -du -s -h 'gs://msca-bdp-students-bucket/shared_data/jejiang/temp4/'"
   ]
  },
  {
   "cell_type": "markdown",
   "metadata": {},
   "source": [
    "## 3. Filter influential users"
   ]
  },
  {
   "cell_type": "code",
   "execution_count": null,
   "metadata": {},
   "outputs": [
    {
     "data": {
      "text/html": [
       "<table border='1'>\n",
       "<tr><th>created_at</th><th>favorite_count</th><th>id</th><th>lang</th><th>rs_retweet_count</th><th>reply_count</th><th>retweet_count</th><th>text</th><th>timestamp_ms</th><th>user_id</th><th>user_name</th><th>user_screen_name</th><th>user_location</th><th>user_verified</th><th>user_followers_count</th><th>user_friends_count</th><th>user_favourites_count</th><th>user_created_at</th></tr>\n",
       "<tr><td>Thu Jun 22 23:32:...</td><td>0</td><td>878032945352716288</td><td>en</td><td>null</td><td>null</td><td>0</td><td>Good evening Nort...</td><td>1498174341892</td><td>795645416473853954</td><td>Northeastern WxSTEM</td><td>NUWxSTEM</td><td>Boston, MA</td><td>false</td><td>55</td><td>10</td><td>0</td><td>Mon Nov 07 15:13:...</td></tr>\n",
       "<tr><td>Sat Jul 29 20:48:...</td><td>0</td><td>891400093756252160</td><td>en</td><td>null</td><td>null</td><td>0</td><td>It&#x27;s windy at Nor...</td><td>1501361318421</td><td>795645416473853954</td><td>Northeastern WxSTEM</td><td>NUWxSTEM</td><td>Boston, MA</td><td>false</td><td>55</td><td>10</td><td>0</td><td>Mon Nov 07 15:13:...</td></tr>\n",
       "<tr><td>Sat Aug 19 15:19:...</td><td>0</td><td>898927291409084416</td><td>en</td><td>null</td><td>null</td><td>0</td><td>Updated eclipse f...</td><td>1503155942190</td><td>795645416473853954</td><td>Northeastern WxSTEM</td><td>NUWxSTEM</td><td>Boston, MA</td><td>false</td><td>58</td><td>10</td><td>0</td><td>Mon Nov 07 15:13:...</td></tr>\n",
       "<tr><td>Mon Aug 21 22:15:...</td><td>0</td><td>899756974069436416</td><td>en</td><td>null</td><td>null</td><td>0</td><td>#brooklineapartme...</td><td>1503353753951</td><td>48053733</td><td>Brookline Apartments</td><td>BrooklinePads</td><td>Brookline, MA</td><td>false</td><td>129</td><td>217</td><td>1</td><td>Wed Jun 17 18:10:...</td></tr>\n",
       "<tr><td>Mon Aug 21 23:24:...</td><td>0</td><td>899774305554321409</td><td>en</td><td>null</td><td>null</td><td>0</td><td>Northeastern Univ...</td><td>1503357886099</td><td>795645416473853954</td><td>Northeastern WxSTEM</td><td>NUWxSTEM</td><td>Boston, MA</td><td>false</td><td>59</td><td>10</td><td>0</td><td>Mon Nov 07 15:13:...</td></tr>\n",
       "<tr><td>Mon Aug 21 23:32:...</td><td>0</td><td>899776347479748608</td><td>en</td><td>null</td><td>null</td><td>0</td><td>Good evening Nort...</td><td>1503358372932</td><td>795645416473853954</td><td>Northeastern WxSTEM</td><td>NUWxSTEM</td><td>Boston, MA</td><td>false</td><td>59</td><td>10</td><td>0</td><td>Mon Nov 07 15:13:...</td></tr>\n",
       "<tr><td>Mon Sep 04 20:26:...</td><td>0</td><td>904802832523681792</td><td>en</td><td>null</td><td>0</td><td>0</td><td>It&#x27;s windy at Nor...</td><td>1504556780354</td><td>795645416473853954</td><td>Northeastern WxSTEM</td><td>NUWxSTEM</td><td>Boston, MA</td><td>false</td><td>61</td><td>10</td><td>0</td><td>Mon Nov 07 15:13:...</td></tr>\n",
       "<tr><td>Mon Sep 04 23:01:...</td><td>0</td><td>904841786950127617</td><td>en</td><td>null</td><td>0</td><td>0</td><td>Northeastern Univ...</td><td>1504566067813</td><td>795645416473853954</td><td>Northeastern WxSTEM</td><td>NUWxSTEM</td><td>Boston, MA</td><td>false</td><td>61</td><td>10</td><td>0</td><td>Mon Nov 07 15:13:...</td></tr>\n",
       "<tr><td>Mon Sep 04 23:33:...</td><td>0</td><td>904849807658950656</td><td>en</td><td>null</td><td>0</td><td>0</td><td>Good evening Nort...</td><td>1504567980099</td><td>795645416473853954</td><td>Northeastern WxSTEM</td><td>NUWxSTEM</td><td>Boston, MA</td><td>false</td><td>61</td><td>10</td><td>0</td><td>Mon Nov 07 15:13:...</td></tr>\n",
       "<tr><td>Tue Sep 05 00:04:...</td><td>0</td><td>904857733484171268</td><td>en</td><td>null</td><td>0</td><td>0</td><td>It&#x27;s windy at Nor...</td><td>1504569869763</td><td>795645416473853954</td><td>Northeastern WxSTEM</td><td>NUWxSTEM</td><td>Boston, MA</td><td>false</td><td>61</td><td>10</td><td>0</td><td>Mon Nov 07 15:13:...</td></tr>\n",
       "<tr><td>Tue Sep 05 16:34:...</td><td>0</td><td>905106809962291200</td><td>en</td><td>null</td><td>0</td><td>0</td><td>It&#x27;s windy at Nor...</td><td>1504629254223</td><td>795645416473853954</td><td>Northeastern WxSTEM</td><td>NUWxSTEM</td><td>Boston, MA</td><td>false</td><td>61</td><td>10</td><td>0</td><td>Mon Nov 07 15:13:...</td></tr>\n",
       "<tr><td>Tue Sep 26 22:23:...</td><td>0</td><td>912804725816479744</td><td>en</td><td>null</td><td>0</td><td>0</td><td>Northeastern Univ...</td><td>1506464580383</td><td>795645416473853954</td><td>Northeastern WxSTEM</td><td>NUWxSTEM</td><td>Boston, MA</td><td>false</td><td>65</td><td>10</td><td>0</td><td>Mon Nov 07 15:13:...</td></tr>\n",
       "<tr><td>Tue Sep 26 23:37:...</td><td>0</td><td>912823587958116353</td><td>en</td><td>null</td><td>0</td><td>0</td><td>Good evening Nort...</td><td>1506469077468</td><td>795645416473853954</td><td>Northeastern WxSTEM</td><td>NUWxSTEM</td><td>Boston, MA</td><td>false</td><td>65</td><td>10</td><td>0</td><td>Mon Nov 07 15:13:...</td></tr>\n",
       "<tr><td>Wed Sep 27 14:25:...</td><td>0</td><td>913046833798303744</td><td>en</td><td>1</td><td>0</td><td>0</td><td>RT @thefatshallot...</td><td>1506522303424</td><td>1017433423</td><td>Trucks at UChicago</td><td>chiftf_uchicago</td><td>Chicago, IL</td><td>false</td><td>1435</td><td>6</td><td>1</td><td>Mon Dec 17 13:00:...</td></tr>\n",
       "<tr><td>Wed Sep 27 17:57:...</td><td>0</td><td>913100330883264512</td><td>en</td><td>null</td><td>0</td><td>0</td><td>It&#x27;s windy at Nor...</td><td>1506535058123</td><td>795645416473853954</td><td>Northeastern WxSTEM</td><td>NUWxSTEM</td><td>Boston, MA</td><td>false</td><td>65</td><td>10</td><td>0</td><td>Mon Nov 07 15:13:...</td></tr>\n",
       "<tr><td>Wed Sep 27 23:37:...</td><td>0</td><td>913185808542203904</td><td>en</td><td>null</td><td>0</td><td>0</td><td>Good evening Nort...</td><td>1506555437585</td><td>795645416473853954</td><td>Northeastern WxSTEM</td><td>NUWxSTEM</td><td>Boston, MA</td><td>false</td><td>65</td><td>10</td><td>0</td><td>Mon Nov 07 15:13:...</td></tr>\n",
       "<tr><td>Wed Nov 08 17:18:...</td><td>0</td><td>928310851144216576</td><td>en</td><td>null</td><td>0</td><td>0</td><td>It&#x27;s windy at Nor...</td><td>1510161528751</td><td>795645416473853954</td><td>Northeastern WxSTEM</td><td>NUWxSTEM</td><td>Boston, MA</td><td>false</td><td>64</td><td>10</td><td>0</td><td>Mon Nov 07 15:13:...</td></tr>\n",
       "<tr><td>Wed Nov 08 17:50:...</td><td>0</td><td>928318735290691584</td><td>en</td><td>775</td><td>0</td><td>0</td><td>RT @1992AngelM: O...</td><td>1510163408478</td><td>825430889198940160</td><td>Dree Province</td><td>DreeProvince</td><td>null</td><td>false</td><td>917</td><td>280</td><td>28753</td><td>Sat Jan 28 19:50:...</td></tr>\n",
       "<tr><td>Thu Nov 09 16:20:...</td><td>0</td><td>928658485247709184</td><td>en</td><td>1</td><td>0</td><td>0</td><td>RT @DMenTruck: He...</td><td>1510244411180</td><td>1017433423</td><td>Trucks at UChicago</td><td>chiftf_uchicago</td><td>Chicago, IL</td><td>false</td><td>1462</td><td>6</td><td>1</td><td>Mon Dec 17 13:00:...</td></tr>\n",
       "<tr><td>Thu Nov 09 17:00:...</td><td>0</td><td>928668523039219713</td><td>en</td><td>null</td><td>0</td><td>0</td><td>Trucks at Univers...</td><td>1510246804376</td><td>1017433423</td><td>Trucks at UChicago</td><td>chiftf_uchicago</td><td>Chicago, IL</td><td>false</td><td>1462</td><td>6</td><td>1</td><td>Mon Dec 17 13:00:...</td></tr>\n",
       "</table>\n",
       "only showing top 20 rows\n"
      ],
      "text/plain": [
       "+--------------------+--------------+------------------+----+----------------+-----------+-------------+--------------------+-------------+------------------+--------------------+----------------+-------------+-------------+--------------------+------------------+---------------------+--------------------+\n",
       "|          created_at|favorite_count|                id|lang|rs_retweet_count|reply_count|retweet_count|                text| timestamp_ms|           user_id|           user_name|user_screen_name|user_location|user_verified|user_followers_count|user_friends_count|user_favourites_count|     user_created_at|\n",
       "+--------------------+--------------+------------------+----+----------------+-----------+-------------+--------------------+-------------+------------------+--------------------+----------------+-------------+-------------+--------------------+------------------+---------------------+--------------------+\n",
       "|Thu Jun 22 23:32:...|             0|878032945352716288|  en|            null|       null|            0|Good evening Nort...|1498174341892|795645416473853954| Northeastern WxSTEM|        NUWxSTEM|   Boston, MA|        false|                  55|                10|                    0|Mon Nov 07 15:13:...|\n",
       "|Sat Jul 29 20:48:...|             0|891400093756252160|  en|            null|       null|            0|It's windy at Nor...|1501361318421|795645416473853954| Northeastern WxSTEM|        NUWxSTEM|   Boston, MA|        false|                  55|                10|                    0|Mon Nov 07 15:13:...|\n",
       "|Sat Aug 19 15:19:...|             0|898927291409084416|  en|            null|       null|            0|Updated eclipse f...|1503155942190|795645416473853954| Northeastern WxSTEM|        NUWxSTEM|   Boston, MA|        false|                  58|                10|                    0|Mon Nov 07 15:13:...|\n",
       "|Mon Aug 21 22:15:...|             0|899756974069436416|  en|            null|       null|            0|#brooklineapartme...|1503353753951|          48053733|Brookline Apartments|   BrooklinePads|Brookline, MA|        false|                 129|               217|                    1|Wed Jun 17 18:10:...|\n",
       "|Mon Aug 21 23:24:...|             0|899774305554321409|  en|            null|       null|            0|Northeastern Univ...|1503357886099|795645416473853954| Northeastern WxSTEM|        NUWxSTEM|   Boston, MA|        false|                  59|                10|                    0|Mon Nov 07 15:13:...|\n",
       "|Mon Aug 21 23:32:...|             0|899776347479748608|  en|            null|       null|            0|Good evening Nort...|1503358372932|795645416473853954| Northeastern WxSTEM|        NUWxSTEM|   Boston, MA|        false|                  59|                10|                    0|Mon Nov 07 15:13:...|\n",
       "|Mon Sep 04 20:26:...|             0|904802832523681792|  en|            null|          0|            0|It's windy at Nor...|1504556780354|795645416473853954| Northeastern WxSTEM|        NUWxSTEM|   Boston, MA|        false|                  61|                10|                    0|Mon Nov 07 15:13:...|\n",
       "|Mon Sep 04 23:01:...|             0|904841786950127617|  en|            null|          0|            0|Northeastern Univ...|1504566067813|795645416473853954| Northeastern WxSTEM|        NUWxSTEM|   Boston, MA|        false|                  61|                10|                    0|Mon Nov 07 15:13:...|\n",
       "|Mon Sep 04 23:33:...|             0|904849807658950656|  en|            null|          0|            0|Good evening Nort...|1504567980099|795645416473853954| Northeastern WxSTEM|        NUWxSTEM|   Boston, MA|        false|                  61|                10|                    0|Mon Nov 07 15:13:...|\n",
       "|Tue Sep 05 00:04:...|             0|904857733484171268|  en|            null|          0|            0|It's windy at Nor...|1504569869763|795645416473853954| Northeastern WxSTEM|        NUWxSTEM|   Boston, MA|        false|                  61|                10|                    0|Mon Nov 07 15:13:...|\n",
       "|Tue Sep 05 16:34:...|             0|905106809962291200|  en|            null|          0|            0|It's windy at Nor...|1504629254223|795645416473853954| Northeastern WxSTEM|        NUWxSTEM|   Boston, MA|        false|                  61|                10|                    0|Mon Nov 07 15:13:...|\n",
       "|Tue Sep 26 22:23:...|             0|912804725816479744|  en|            null|          0|            0|Northeastern Univ...|1506464580383|795645416473853954| Northeastern WxSTEM|        NUWxSTEM|   Boston, MA|        false|                  65|                10|                    0|Mon Nov 07 15:13:...|\n",
       "|Tue Sep 26 23:37:...|             0|912823587958116353|  en|            null|          0|            0|Good evening Nort...|1506469077468|795645416473853954| Northeastern WxSTEM|        NUWxSTEM|   Boston, MA|        false|                  65|                10|                    0|Mon Nov 07 15:13:...|\n",
       "|Wed Sep 27 14:25:...|             0|913046833798303744|  en|               1|          0|            0|RT @thefatshallot...|1506522303424|        1017433423|  Trucks at UChicago| chiftf_uchicago|  Chicago, IL|        false|                1435|                 6|                    1|Mon Dec 17 13:00:...|\n",
       "|Wed Sep 27 17:57:...|             0|913100330883264512|  en|            null|          0|            0|It's windy at Nor...|1506535058123|795645416473853954| Northeastern WxSTEM|        NUWxSTEM|   Boston, MA|        false|                  65|                10|                    0|Mon Nov 07 15:13:...|\n",
       "|Wed Sep 27 23:37:...|             0|913185808542203904|  en|            null|          0|            0|Good evening Nort...|1506555437585|795645416473853954| Northeastern WxSTEM|        NUWxSTEM|   Boston, MA|        false|                  65|                10|                    0|Mon Nov 07 15:13:...|\n",
       "|Wed Nov 08 17:18:...|             0|928310851144216576|  en|            null|          0|            0|It's windy at Nor...|1510161528751|795645416473853954| Northeastern WxSTEM|        NUWxSTEM|   Boston, MA|        false|                  64|                10|                    0|Mon Nov 07 15:13:...|\n",
       "|Wed Nov 08 17:50:...|             0|928318735290691584|  en|             775|          0|            0|RT @1992AngelM: O...|1510163408478|825430889198940160|       Dree Province|    DreeProvince|         null|        false|                 917|               280|                28753|Sat Jan 28 19:50:...|\n",
       "|Thu Nov 09 16:20:...|             0|928658485247709184|  en|               1|          0|            0|RT @DMenTruck: He...|1510244411180|        1017433423|  Trucks at UChicago| chiftf_uchicago|  Chicago, IL|        false|                1462|                 6|                    1|Mon Dec 17 13:00:...|\n",
       "|Thu Nov 09 17:00:...|             0|928668523039219713|  en|            null|          0|            0|Trucks at Univers...|1510246804376|        1017433423|  Trucks at UChicago| chiftf_uchicago|  Chicago, IL|        false|                1462|                 6|                    1|Mon Dec 17 13:00:...|\n",
       "+--------------------+--------------+------------------+----+----------------+-----------+-------------+--------------------+-------------+------------------+--------------------+----------------+-------------+-------------+--------------------+------------------+---------------------+--------------------+\n",
       "only showing top 20 rows"
      ]
     },
     "execution_count": 8,
     "metadata": {},
     "output_type": "execute_result"
    }
   ],
   "source": [
    "tweets_df3 = tweets_df1.where(\"lower(user_screen_name) like '%chiftf_uchicago%' or lower(user_screen_name) like '%money_personal%' or lower(user_screen_name) like '%brooklinepads%' or lower(user_screen_name) like '%nuwxstem%' or lower(user_screen_name) like '%goal58014091%' or lower(user_screen_name) like '%davidgura%' or lower(user_screen_name) like '%markosilberhand%' or lower(user_screen_name) like '%dreeprovince%'\")\n",
    "tweets_df3.cache()"
   ]
  },
  {
   "cell_type": "code",
   "execution_count": null,
   "metadata": {},
   "outputs": [],
   "source": [
    "# For cloud\n",
    "dir_out = 'temp5'\n",
    "bucket_write = 'msca-bdp-students-bucket/shared_data/jejiang'\n",
    "\n",
    "tweets_df3.write.json('gs://' + bucket_write + '/' + dir_out)"
   ]
  },
  {
   "cell_type": "code",
   "execution_count": null,
   "metadata": {},
   "outputs": [
    {
     "name": "stdout",
     "output_type": "stream",
     "text": [
      "28.4 M  28.4 M  gs://msca-bdp-students-bucket/shared_data/jejiang/temp5\n"
     ]
    }
   ],
   "source": [
    "!hadoop fs -du -s -h 'gs://msca-bdp-students-bucket/shared_data/jejiang/temp5/'"
   ]
  },
  {
   "cell_type": "code",
   "execution_count": null,
   "metadata": {},
   "outputs": [],
   "source": []
  }
 ],
 "metadata": {
  "kernelspec": {
   "display_name": "PySpark",
   "language": "python",
   "name": "pyspark"
  },
  "language_info": {
   "codemirror_mode": {
    "name": "ipython",
    "version": 3
   },
   "file_extension": ".py",
   "mimetype": "text/x-python",
   "name": "python",
   "nbconvert_exporter": "python",
   "pygments_lexer": "ipython3",
   "version": "3.8.5"
  }
 },
 "nbformat": 4,
 "nbformat_minor": 4
}
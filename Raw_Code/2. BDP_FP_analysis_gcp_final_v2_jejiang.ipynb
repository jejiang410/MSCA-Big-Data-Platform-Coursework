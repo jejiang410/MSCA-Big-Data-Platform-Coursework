{
 "cells": [
  {
   "cell_type": "code",
   "execution_count": 12,
   "metadata": {},
   "outputs": [
    {
     "name": "stderr",
     "output_type": "stream",
     "text": [
      "[nltk_data] Downloading package stopwords to /root/nltk_data...\n",
      "[nltk_data]   Unzipping corpora/stopwords.zip.\n"
     ]
    }
   ],
   "source": [
    "from pyspark.sql.types import *\n",
    "import pyspark.sql.functions as F\n",
    "from pyspark.sql.functions import *\n",
    "import pandas as pd\n",
    "import numpy as np\n",
    "import matplotlib.pyplot as plt\n",
    "import re\n",
    "\n",
    "from pyspark.ml.feature import MinHashLSH\n",
    "from pyspark.ml.feature import CountVectorizer, IDF, CountVectorizerModel, Tokenizer, RegexTokenizer, StopWordsRemover\n",
    "from pyspark import SparkContext\n",
    "from pyspark.sql import SQLContext\n",
    "from pyspark.sql import Row\n",
    "import nltk\n",
    "nltk.download('stopwords')\n",
    "from nltk.corpus import stopwords"
   ]
  },
  {
   "cell_type": "markdown",
   "metadata": {},
   "source": [
    "## 1. Load and preprocess data"
   ]
  },
  {
   "cell_type": "code",
   "execution_count": 1,
   "metadata": {},
   "outputs": [
    {
     "name": "stdout",
     "output_type": "stream",
     "text": [
      "493.3 M  493.3 M  gs://msca-bdp-students-bucket/shared_data/jejiang/temp4\n"
     ]
    }
   ],
   "source": [
    "!hadoop fs -du -s -h 'gs://msca-bdp-students-bucket/shared_data/jejiang/temp4/'"
   ]
  },
  {
   "cell_type": "code",
   "execution_count": 2,
   "metadata": {},
   "outputs": [],
   "source": [
    "# Declare data path\n",
    "path = 'gs://msca-bdp-students-bucket/shared_data/jejiang/temp4/'\n",
    "file = '*.json'"
   ]
  },
  {
   "cell_type": "code",
   "execution_count": 3,
   "metadata": {},
   "outputs": [],
   "source": [
    "spark.conf.set(\"spark.sql.repl.eagerEval.enabled\", True)"
   ]
  },
  {
   "cell_type": "code",
   "execution_count": 4,
   "metadata": {},
   "outputs": [],
   "source": [
    "# Load data\n",
    "raw_data = spark.read.json(path + file)"
   ]
  },
  {
   "cell_type": "code",
   "execution_count": 5,
   "metadata": {},
   "outputs": [
    {
     "data": {
      "text/html": [
       "<table border='1'>\n",
       "<tr><th>created_at</th><th>favorite_count</th><th>id</th><th>lang</th><th>reply_count</th><th>retweet_count</th><th>rs_retweet_count</th><th>text</th><th>timestamp_ms</th><th>user_created_at</th><th>user_favourites_count</th><th>user_followers_count</th><th>user_friends_count</th><th>user_id</th><th>user_location</th><th>user_name</th><th>user_screen_name</th><th>user_verified</th></tr>\n",
       "<tr><td>Tue Jan 28 21:15:...</td><td>0</td><td>1222267030163738624</td><td>en</td><td>0</td><td>0</td><td>3</td><td>RT @FluidImaging:...</td><td>1580246143271</td><td>Sun Jun 24 20:26:...</td><td>3623</td><td>3328</td><td>1116</td><td>617523894</td><td>U.S.A.</td><td>NMEA</td><td>NatlMarineEd</td><td>false</td></tr>\n",
       "<tr><td>Tue Jan 28 21:17:...</td><td>0</td><td>1222267490492764161</td><td>en</td><td>0</td><td>0</td><td>null</td><td>Brookline Apartme...</td><td>1580246253022</td><td>Wed Jun 17 18:10:...</td><td>1</td><td>120</td><td>207</td><td>48053733</td><td>Brookline, MA</td><td>Brookline Apartments</td><td>BrooklinePads</td><td>false</td></tr>\n",
       "<tr><td>Tue Jan 28 21:18:...</td><td>0</td><td>1222267690896760833</td><td>en</td><td>0</td><td>0</td><td>null</td><td>All female coachi...</td><td>1580246300802</td><td>Sat Jun 18 02:30:...</td><td>397</td><td>37436</td><td>955</td><td>319412729</td><td>United States</td><td>Kristine Lilly</td><td>KristineLilly</td><td>false</td></tr>\n",
       "<tr><td>Tue Jan 28 21:24:...</td><td>0</td><td>1222269174585659393</td><td>en</td><td>0</td><td>0</td><td>null</td><td>Ishuan Li and Hon...</td><td>1580246654541</td><td>Tue Oct 04 17:53:...</td><td>7</td><td>4</td><td>7</td><td>783364531493801984</td><td>null</td><td>ODE (Official)</td><td>ODEMedia</td><td>false</td></tr>\n",
       "<tr><td>Tue Jan 28 21:24:...</td><td>0</td><td>1222269235029794816</td><td>en</td><td>0</td><td>0</td><td>1</td><td>RT @KristineLilly...</td><td>1580246668952</td><td>Thu Sep 13 12:00:...</td><td>3323</td><td>16</td><td>305</td><td>821381772</td><td>Raleigh, NC</td><td>Emily</td><td>eadaly11</td><td>false</td></tr>\n",
       "</table>\n"
      ],
      "text/plain": [
       "+--------------------+--------------+------------------+----+-----------+-------------+----------------+--------------------+-------------+--------------------+---------------------+--------------------+------------------+------------------+----------------+----------------+----------------+-------------+\n",
       "|          created_at|favorite_count|                id|lang|reply_count|retweet_count|rs_retweet_count|                text| timestamp_ms|     user_created_at|user_favourites_count|user_followers_count|user_friends_count|           user_id|   user_location|       user_name|user_screen_name|user_verified|\n",
       "+--------------------+--------------+------------------+----+-----------+-------------+----------------+--------------------+-------------+--------------------+---------------------+--------------------+------------------+------------------+----------------+----------------+----------------+-------------+\n",
       "|Wed Mar 28 23:15:...|             0|979134976074526720|  en|          0|            0|            null|On March 27th han...|1522278944401|Sat Nov 05 00:45:...|                 1172|                 792|               616|794702170008514560|        Shanghai|        xiao jin| clouds621518171|        false|\n",
       "|Wed Mar 28 23:16:...|             0|979135118056050688|  en|          0|            0|               5|RT @BL_Alumni: A ...|1522278978252|Wed Oct 03 22:59:...|                  933|                 599|               473|         860475236|    Abingdon, MD|Alex Halouchanka| AlexHalouchanka|        false|\n",
       "|Wed Mar 28 23:16:...|             0|979135257084493825|  en|          0|            0|            null|On March 27th Fen...|1522279011399|Sat Nov 05 00:45:...|                 1172|                 792|               616|794702170008514560|        Shanghai|        xiao jin| clouds621518171|        false|\n",
       "|Wed Mar 28 23:18:...|             0|979135742273310720|  en|          0|            0|            null|@KurtSchlichter @...|1522279127077|Mon Dec 11 07:46:...|                 2554|                  27|                81|940125669996027905|            null|             Hal|   aanderson1329|        false|\n",
       "|Wed Mar 28 23:24:...|             0|979137111491309568|  en|          0|            0|               2|RT @jsunediger: A...|1522279453524|Tue Feb 23 19:21:...|                 1681|                 164|               156|702211821395124224|Toronto, Ontario|  Denise Salsman|  salsman_denise|        false|\n",
       "+--------------------+--------------+------------------+----+-----------+-------------+----------------+--------------------+-------------+--------------------+---------------------+--------------------+------------------+------------------+----------------+----------------+----------------+-------------+"
      ]
     },
     "execution_count": 5,
     "metadata": {},
     "output_type": "execute_result"
    }
   ],
   "source": [
    "raw_data.limit(5)"
   ]
  },
  {
   "cell_type": "code",
   "execution_count": 6,
   "metadata": {},
   "outputs": [
    {
     "name": "stdout",
     "output_type": "stream",
     "text": [
      "root\n",
      " |-- created_at: string (nullable = true)\n",
      " |-- favorite_count: long (nullable = true)\n",
      " |-- id: long (nullable = true)\n",
      " |-- lang: string (nullable = true)\n",
      " |-- reply_count: long (nullable = true)\n",
      " |-- retweet_count: long (nullable = true)\n",
      " |-- rs_retweet_count: long (nullable = true)\n",
      " |-- text: string (nullable = true)\n",
      " |-- timestamp_ms: string (nullable = true)\n",
      " |-- user_created_at: string (nullable = true)\n",
      " |-- user_favourites_count: long (nullable = true)\n",
      " |-- user_followers_count: long (nullable = true)\n",
      " |-- user_friends_count: long (nullable = true)\n",
      " |-- user_id: long (nullable = true)\n",
      " |-- user_location: string (nullable = true)\n",
      " |-- user_name: string (nullable = true)\n",
      " |-- user_screen_name: string (nullable = true)\n",
      " |-- user_verified: boolean (nullable = true)\n",
      "\n"
     ]
    }
   ],
   "source": [
    "# Print out schema\n",
    "raw_data.printSchema()"
   ]
  },
  {
   "cell_type": "code",
   "execution_count": 7,
   "metadata": {},
   "outputs": [
    {
     "name": "stdout",
     "output_type": "stream",
     "text": [
      "(877155, 18)\n"
     ]
    }
   ],
   "source": [
    "# Check how many rows and columns\n",
    "print((raw_data.count(), len(raw_data.columns)))"
   ]
  },
  {
   "cell_type": "code",
   "execution_count": 11,
   "metadata": {},
   "outputs": [
    {
     "data": {
      "text/html": [
       "<table border='1'>\n",
       "<tr><th>created_at</th><th>favorite_count</th><th>id</th><th>lang</th><th>reply_count</th><th>retweet_count</th><th>rs_retweet_count</th><th>text</th><th>timestamp_ms</th><th>user_created_at</th><th>user_favourites_count</th><th>user_followers_count</th><th>user_friends_count</th><th>user_id</th><th>user_location</th><th>user_name</th><th>user_screen_name</th><th>user_verified</th></tr>\n",
       "<tr><td>0</td><td>0</td><td>0</td><td>0</td><td>35002</td><td>0</td><td>264940</td><td>0</td><td>0</td><td>0</td><td>0</td><td>0</td><td>0</td><td>0</td><td>255787</td><td>0</td><td>0</td><td>0</td></tr>\n",
       "</table>\n"
      ],
      "text/plain": [
       "+----------+--------------+---+----+-----------+-------------+----------------+----+------------+---------------+---------------------+--------------------+------------------+-------+-------------+---------+----------------+-------------+\n",
       "|created_at|favorite_count| id|lang|reply_count|retweet_count|rs_retweet_count|text|timestamp_ms|user_created_at|user_favourites_count|user_followers_count|user_friends_count|user_id|user_location|user_name|user_screen_name|user_verified|\n",
       "+----------+--------------+---+----+-----------+-------------+----------------+----+------------+---------------+---------------------+--------------------+------------------+-------+-------------+---------+----------------+-------------+\n",
       "|         0|             0|  0|   0|      35002|            0|          264940|   0|           0|              0|                    0|                   0|                 0|      0|       255787|        0|               0|            0|\n",
       "+----------+--------------+---+----+-----------+-------------+----------------+----+------------+---------------+---------------------+--------------------+------------------+-------+-------------+---------+----------------+-------------+"
      ]
     },
     "execution_count": 11,
     "metadata": {},
     "output_type": "execute_result"
    }
   ],
   "source": [
    "# Check null values\n",
    "raw_data.agg(*[count(when(isnull(c), c)).alias(c) for c in raw_data.columns])"
   ]
  },
  {
   "cell_type": "code",
   "execution_count": 8,
   "metadata": {},
   "outputs": [],
   "source": [
    "# Fill relevant columns with null values\n",
    "raw_data = raw_data.na.fill({'rs_retweet_count': 0, 'reply_count': 0, 'user_location': 'no info'})"
   ]
  },
  {
   "cell_type": "code",
   "execution_count": 13,
   "metadata": {},
   "outputs": [
    {
     "data": {
      "text/html": [
       "<table border='1'>\n",
       "<tr><th>created_at</th><th>favorite_count</th><th>id</th><th>lang</th><th>reply_count</th><th>retweet_count</th><th>rs_retweet_count</th><th>text</th><th>timestamp_ms</th><th>user_created_at</th><th>user_favourites_count</th><th>user_followers_count</th><th>user_friends_count</th><th>user_id</th><th>user_location</th><th>user_name</th><th>user_screen_name</th><th>user_verified</th></tr>\n",
       "<tr><td>0</td><td>0</td><td>0</td><td>0</td><td>0</td><td>0</td><td>0</td><td>0</td><td>0</td><td>0</td><td>0</td><td>0</td><td>0</td><td>0</td><td>0</td><td>0</td><td>0</td><td>0</td></tr>\n",
       "</table>\n"
      ],
      "text/plain": [
       "+----------+--------------+---+----+-----------+-------------+----------------+----+------------+---------------+---------------------+--------------------+------------------+-------+-------------+---------+----------------+-------------+\n",
       "|created_at|favorite_count| id|lang|reply_count|retweet_count|rs_retweet_count|text|timestamp_ms|user_created_at|user_favourites_count|user_followers_count|user_friends_count|user_id|user_location|user_name|user_screen_name|user_verified|\n",
       "+----------+--------------+---+----+-----------+-------------+----------------+----+------------+---------------+---------------------+--------------------+------------------+-------+-------------+---------+----------------+-------------+\n",
       "|         0|             0|  0|   0|          0|            0|               0|   0|           0|              0|                    0|                   0|                 0|      0|            0|        0|               0|            0|\n",
       "+----------+--------------+---+----+-----------+-------------+----------------+----+------------+---------------+---------------------+--------------------+------------------+-------+-------------+---------+----------------+-------------+"
      ]
     },
     "execution_count": 13,
     "metadata": {},
     "output_type": "execute_result"
    }
   ],
   "source": [
    "# Check null values after fill null values\n",
    "raw_data.agg(*[count(when(isnull(c), c)).alias(c) for c in raw_data.columns])"
   ]
  },
  {
   "cell_type": "code",
   "execution_count": 9,
   "metadata": {},
   "outputs": [],
   "source": [
    "# Drop na values\n",
    "data = raw_data.dropna()"
   ]
  },
  {
   "cell_type": "code",
   "execution_count": 10,
   "metadata": {},
   "outputs": [
    {
     "name": "stdout",
     "output_type": "stream",
     "text": [
      "(877155, 18)\n"
     ]
    }
   ],
   "source": [
    "print((data.count(), len(data.columns)))"
   ]
  },
  {
   "cell_type": "code",
   "execution_count": 13,
   "metadata": {},
   "outputs": [],
   "source": [
    "# Change some of the string columns to integer or timestamp\n",
    "data = data.\\\n",
    "withColumn(\"favorite_count\", data[\"favorite_count\"].cast(IntegerType())).\\\n",
    "withColumn(\"rs_retweet_count\", data[\"rs_retweet_count\"].cast(IntegerType())).\\\n",
    "withColumn(\"reply_count\", data[\"reply_count\"].cast(IntegerType())).\\\n",
    "withColumn(\"retweet_count\", data[\"retweet_count\"].cast(IntegerType())).\\\n",
    "withColumn(\"user_followers_count\", data[\"user_followers_count\"].cast(IntegerType())).\\\n",
    "withColumn(\"user_friends_count\", data[\"user_friends_count\"].cast(IntegerType())).\\\n",
    "withColumn(\"user_favourites_count\", data[\"user_favourites_count\"].cast(IntegerType()))"
   ]
  },
  {
   "cell_type": "code",
   "execution_count": 14,
   "metadata": {},
   "outputs": [
    {
     "name": "stdout",
     "output_type": "stream",
     "text": [
      "root\n",
      " |-- created_at: string (nullable = true)\n",
      " |-- favorite_count: integer (nullable = true)\n",
      " |-- id: long (nullable = true)\n",
      " |-- lang: string (nullable = true)\n",
      " |-- reply_count: integer (nullable = false)\n",
      " |-- retweet_count: integer (nullable = true)\n",
      " |-- rs_retweet_count: integer (nullable = false)\n",
      " |-- text: string (nullable = true)\n",
      " |-- timestamp_ms: string (nullable = true)\n",
      " |-- user_created_at: string (nullable = true)\n",
      " |-- user_favourites_count: integer (nullable = true)\n",
      " |-- user_followers_count: integer (nullable = true)\n",
      " |-- user_friends_count: integer (nullable = true)\n",
      " |-- user_id: long (nullable = true)\n",
      " |-- user_location: string (nullable = false)\n",
      " |-- user_name: string (nullable = true)\n",
      " |-- user_screen_name: string (nullable = true)\n",
      " |-- user_verified: boolean (nullable = true)\n",
      "\n"
     ]
    }
   ],
   "source": [
    "data.printSchema()"
   ]
  },
  {
   "cell_type": "code",
   "execution_count": 15,
   "metadata": {},
   "outputs": [
    {
     "data": {
      "text/html": [
       "<table border='1'>\n",
       "<tr><th>created_at</th><th>favorite_count</th><th>id</th><th>lang</th><th>reply_count</th><th>retweet_count</th><th>rs_retweet_count</th><th>text</th><th>timestamp_ms</th><th>user_created_at</th><th>user_favourites_count</th><th>user_followers_count</th><th>user_friends_count</th><th>user_id</th><th>user_location</th><th>user_name</th><th>user_screen_name</th><th>user_verified</th></tr>\n",
       "<tr><td>Thu Jul 16 03:27:...</td><td>0</td><td>1283604036659355649</td><td>en</td><td>0</td><td>0</td><td>2</td><td>RT @Girl99Gone: #...</td><td>1594870025206</td><td>Mon Jun 15 13:43:...</td><td>1880</td><td>332</td><td>436</td><td>1272525140199342080</td><td>no info</td><td>Amy4PDJT</td><td>amy31223455</td><td>false</td></tr>\n",
       "<tr><td>Thu Jul 16 03:27:...</td><td>0</td><td>1283604057643339776</td><td>en</td><td>0</td><td>0</td><td>14</td><td>RT @ThinkerAmeric...</td><td>1594870030209</td><td>Thu Dec 19 20:12:...</td><td>26141</td><td>1889</td><td>2250</td><td>1207755448725585920</td><td>Phoenix</td><td>Trump Rocks 2020?...</td><td>GingerUSA20</td><td>false</td></tr>\n",
       "<tr><td>Thu Jul 16 03:28:...</td><td>0</td><td>1283604280520224770</td><td>en</td><td>0</td><td>0</td><td>15</td><td>RT @ThinkerAmeric...</td><td>1594870083347</td><td>Sun Jun 14 04:29:...</td><td>478</td><td>134</td><td>243</td><td>1272023230895669248</td><td>USA</td><td>If you can riot y...</td><td>destroydamatrix</td><td>false</td></tr>\n",
       "<tr><td>Thu Jul 16 03:59:...</td><td>0</td><td>1283612153325420544</td><td>en</td><td>0</td><td>0</td><td>0</td><td>this guy was give...</td><td>1594871960370</td><td>Fri Sep 24 03:31:...</td><td>1505</td><td>40</td><td>77</td><td>194439089</td><td>Vladivostok</td><td>🇳amed</td><td>postposadist</td><td>false</td></tr>\n",
       "<tr><td>Thu Jul 16 04:05:...</td><td>0</td><td>1283613600209416194</td><td>en</td><td>0</td><td>0</td><td>5</td><td>RT @numarchmadnes...</td><td>1594872305334</td><td>Tue Mar 31 06:53:...</td><td>661</td><td>61</td><td>72</td><td>1244880420698816512</td><td>no info</td><td>Eleanor Python</td><td>EleanorPython</td><td>false</td></tr>\n",
       "</table>\n"
      ],
      "text/plain": [
       "+--------------------+--------------+-------------------+----+-----------+-------------+----------------+--------------------+-------------+--------------------+---------------------+--------------------+------------------+-------------------+--------------------+---------------+----------------+-------------+\n",
       "|          created_at|favorite_count|                 id|lang|reply_count|retweet_count|rs_retweet_count|                text| timestamp_ms|     user_created_at|user_favourites_count|user_followers_count|user_friends_count|            user_id|       user_location|      user_name|user_screen_name|user_verified|\n",
       "+--------------------+--------------+-------------------+----+-----------+-------------+----------------+--------------------+-------------+--------------------+---------------------+--------------------+------------------+-------------------+--------------------+---------------+----------------+-------------+\n",
       "|Tue Jan 12 15:16:...|             0|1349012271926804480|  en|          0|            0|               0|@PregameEmpire Ju...|1610464563720|Sun Sep 11 21:16:...|                46005|                 619|              2077|          371963480|    Central Oklahoma|Free State Okie|     CESmith0770|        false|\n",
       "|Tue Jan 12 15:23:...|             0|1349014117340868608|  en|          0|            0|               7|RT @ASASexandGend...|1610465003701|Wed Mar 06 06:01:...|                 1452|                1481|               856|1103173687807598593|Vancouver, Britis...|  Michela Musto|    michelamusto|        false|\n",
       "|Tue Jan 12 15:42:...|             0|1349018954757505024|  en|          0|            0|               0|After being a fac...|1610466157031|Sun Jul 14 00:05:...|                 1674|                 482|              1200|1150194507335589889|        Indiana, USA|    Yan Liu Lab|     liustemcell|        false|\n",
       "|Tue Jan 12 15:46:...|             0|1349019923700473856|  en|          0|            0|               0|Boston University...|1610466388045|Thu Sep 27 02:25:...|                51537|                1394|              2005|          848510610|        NC Mountains|  ninja sullins|     nenasullins|        false|\n",
       "|Tue Jan 12 15:56:...|             0|1349022542795857925|  en|          0|            0|              20|RT @AsaMcmanamy: ...|1610467012486|Sun Feb 23 22:21:...|                   33|                  50|                27|1231705641883983872|             no info|  Joel Brutus 2|     brutus_joel|        false|\n",
       "+--------------------+--------------+-------------------+----+-----------+-------------+----------------+--------------------+-------------+--------------------+---------------------+--------------------+------------------+-------------------+--------------------+---------------+----------------+-------------+"
      ]
     },
     "execution_count": 15,
     "metadata": {},
     "output_type": "execute_result"
    }
   ],
   "source": [
    "data.limit(5)"
   ]
  },
  {
   "cell_type": "code",
   "execution_count": 16,
   "metadata": {},
   "outputs": [],
   "source": [
    "# Generate pyspark dataframe for each university\n",
    "uchicago = data.where(\"lower(text) like '%university of chicago%'\")\n",
    "northwestern = data.where(\"lower(text) like '%northwestern university%'\")\n",
    "boston = data.where(\"lower(text) like '%boston university%'\")\n",
    "northeastern = data.where(\"lower(text) like '%northeastern university%'\")"
   ]
  },
  {
   "cell_type": "markdown",
   "metadata": {},
   "source": [
    "## 2. Analyze tweets"
   ]
  },
  {
   "cell_type": "markdown",
   "metadata": {},
   "source": [
    "### 1). Find the most influential Twitters for each university"
   ]
  },
  {
   "cell_type": "markdown",
   "metadata": {},
   "source": [
    "#### By message volume"
   ]
  },
  {
   "cell_type": "code",
   "execution_count": 21,
   "metadata": {},
   "outputs": [
    {
     "data": {
      "text/html": [
       "<table border='1'>\n",
       "<tr><th>user_screen_name</th><th>number_of_tweets</th></tr>\n",
       "<tr><td>chiftf_uchicago</td><td>586</td></tr>\n",
       "<tr><td>haileysecretary</td><td>367</td></tr>\n",
       "<tr><td>sofiaorden</td><td>311</td></tr>\n",
       "<tr><td>n8taki</td><td>284</td></tr>\n",
       "<tr><td>wendchain</td><td>283</td></tr>\n",
       "</table>\n"
      ],
      "text/plain": [
       "+----------------+----------------+\n",
       "|user_screen_name|number_of_tweets|\n",
       "+----------------+----------------+\n",
       "| chiftf_uchicago|             586|\n",
       "| haileysecretary|             367|\n",
       "|      sofiaorden|             311|\n",
       "|          n8taki|             284|\n",
       "|       wendchain|             283|\n",
       "+----------------+----------------+"
      ]
     },
     "execution_count": 21,
     "metadata": {},
     "output_type": "execute_result"
    }
   ],
   "source": [
    "uchicago.groupBy(\"user_screen_name\").agg(count(\"*\").alias(\"number_of_tweets\")).orderBy(\"number_of_tweets\", ascending = False).limit(5)"
   ]
  },
  {
   "cell_type": "code",
   "execution_count": 22,
   "metadata": {},
   "outputs": [
    {
     "data": {
      "text/html": [
       "<table border='1'>\n",
       "<tr><th>user_screen_name</th><th>number_of_tweets</th></tr>\n",
       "<tr><td>money_personal</td><td>407</td></tr>\n",
       "<tr><td>Derek_Morgan_</td><td>336</td></tr>\n",
       "<tr><td>GamerGeekNews</td><td>279</td></tr>\n",
       "<tr><td>NUCatFan23</td><td>245</td></tr>\n",
       "<tr><td>meconway703</td><td>176</td></tr>\n",
       "</table>\n"
      ],
      "text/plain": [
       "+----------------+----------------+\n",
       "|user_screen_name|number_of_tweets|\n",
       "+----------------+----------------+\n",
       "|  money_personal|             407|\n",
       "|   Derek_Morgan_|             336|\n",
       "|   GamerGeekNews|             279|\n",
       "|      NUCatFan23|             245|\n",
       "|     meconway703|             176|\n",
       "+----------------+----------------+"
      ]
     },
     "execution_count": 22,
     "metadata": {},
     "output_type": "execute_result"
    }
   ],
   "source": [
    "northwestern.groupBy(\"user_screen_name\").agg(count(\"*\").alias(\"number_of_tweets\")).orderBy(\"number_of_tweets\", ascending = False).limit(5)"
   ]
  },
  {
   "cell_type": "code",
   "execution_count": 23,
   "metadata": {},
   "outputs": [
    {
     "data": {
      "text/html": [
       "<table border='1'>\n",
       "<tr><th>user_screen_name</th><th>number_of_tweets</th></tr>\n",
       "<tr><td>BrooklinePads</td><td>4551</td></tr>\n",
       "<tr><td>allstonpads</td><td>3901</td></tr>\n",
       "<tr><td>missionhillpads</td><td>3872</td></tr>\n",
       "<tr><td>brightonpads</td><td>3451</td></tr>\n",
       "<tr><td>chestnuthillpad</td><td>3405</td></tr>\n",
       "</table>\n"
      ],
      "text/plain": [
       "+----------------+----------------+\n",
       "|user_screen_name|number_of_tweets|\n",
       "+----------------+----------------+\n",
       "|   BrooklinePads|            4551|\n",
       "|     allstonpads|            3901|\n",
       "| missionhillpads|            3872|\n",
       "|    brightonpads|            3451|\n",
       "| chestnuthillpad|            3405|\n",
       "+----------------+----------------+"
      ]
     },
     "execution_count": 23,
     "metadata": {},
     "output_type": "execute_result"
    }
   ],
   "source": [
    "boston.groupBy(\"user_screen_name\").agg(count(\"*\").alias(\"number_of_tweets\")).orderBy(\"number_of_tweets\", ascending = False).limit(5)"
   ]
  },
  {
   "cell_type": "code",
   "execution_count": 24,
   "metadata": {},
   "outputs": [
    {
     "data": {
      "text/html": [
       "<table border='1'>\n",
       "<tr><th>user_screen_name</th><th>number_of_tweets</th></tr>\n",
       "<tr><td>NUWxSTEM</td><td>11489</td></tr>\n",
       "<tr><td>DisabledJobs</td><td>1369</td></tr>\n",
       "<tr><td>irfeed3</td><td>232</td></tr>\n",
       "<tr><td>NikBearBrown</td><td>97</td></tr>\n",
       "<tr><td>xuexiangzheng</td><td>89</td></tr>\n",
       "</table>\n"
      ],
      "text/plain": [
       "+----------------+----------------+\n",
       "|user_screen_name|number_of_tweets|\n",
       "+----------------+----------------+\n",
       "|        NUWxSTEM|           11489|\n",
       "|    DisabledJobs|            1369|\n",
       "|         irfeed3|             232|\n",
       "|    NikBearBrown|              97|\n",
       "|   xuexiangzheng|              89|\n",
       "+----------------+----------------+"
      ]
     },
     "execution_count": 24,
     "metadata": {},
     "output_type": "execute_result"
    }
   ],
   "source": [
    "northeastern.groupBy(\"user_screen_name\").agg(count(\"*\").alias(\"number_of_tweets\")).orderBy(\"number_of_tweets\", ascending = False).limit(5)"
   ]
  },
  {
   "cell_type": "markdown",
   "metadata": {},
   "source": [
    "Top twitterer for each university if evaluated by the number of tweets:\n",
    "<br>Uchicago: chiftf_uchicago\n",
    "<br>Northwestern: money_personal\n",
    "<br>Boston: BrooklinePads\n",
    "<br>Northeastern: NUWxSTEM"
   ]
  },
  {
   "cell_type": "markdown",
   "metadata": {},
   "source": [
    "#### By message retweet"
   ]
  },
  {
   "cell_type": "code",
   "execution_count": 25,
   "metadata": {},
   "outputs": [
    {
     "data": {
      "text/html": [
       "<table border='1'>\n",
       "<tr><th>user_screen_name</th><th>number_of_retweets</th></tr>\n",
       "<tr><td>Goal58014091</td><td>108780</td></tr>\n",
       "<tr><td>rajbhar9717</td><td>60334</td></tr>\n",
       "<tr><td>asli_chaiwala</td><td>42966</td></tr>\n",
       "<tr><td>RAMANTH06648831</td><td>41419</td></tr>\n",
       "<tr><td>RewantPrajapat1</td><td>35244</td></tr>\n",
       "</table>\n"
      ],
      "text/plain": [
       "+----------------+------------------+\n",
       "|user_screen_name|number_of_retweets|\n",
       "+----------------+------------------+\n",
       "|    Goal58014091|            108780|\n",
       "|     rajbhar9717|             60334|\n",
       "|   asli_chaiwala|             42966|\n",
       "| RAMANTH06648831|             41419|\n",
       "| RewantPrajapat1|             35244|\n",
       "+----------------+------------------+"
      ]
     },
     "execution_count": 25,
     "metadata": {},
     "output_type": "execute_result"
    }
   ],
   "source": [
    "uchicago.groupBy(\"user_screen_name\").agg(sum(\"rs_retweet_count\").alias(\"number_of_retweets\")).orderBy(\"number_of_retweets\", ascending = False).limit(5)"
   ]
  },
  {
   "cell_type": "code",
   "execution_count": 26,
   "metadata": {},
   "outputs": [
    {
     "data": {
      "text/html": [
       "<table border='1'>\n",
       "<tr><th>user_screen_name</th><th>number_of_retweets</th></tr>\n",
       "<tr><td>davidgura</td><td>12504</td></tr>\n",
       "<tr><td>HiJCP</td><td>11346</td></tr>\n",
       "<tr><td>HollyJo21438977</td><td>11240</td></tr>\n",
       "<tr><td>clbrownjr</td><td>10038</td></tr>\n",
       "<tr><td>ReadySetRock75</td><td>9878</td></tr>\n",
       "</table>\n"
      ],
      "text/plain": [
       "+----------------+------------------+\n",
       "|user_screen_name|number_of_retweets|\n",
       "+----------------+------------------+\n",
       "|       davidgura|             12504|\n",
       "|           HiJCP|             11346|\n",
       "| HollyJo21438977|             11240|\n",
       "|       clbrownjr|             10038|\n",
       "|  ReadySetRock75|              9878|\n",
       "+----------------+------------------+"
      ]
     },
     "execution_count": 26,
     "metadata": {},
     "output_type": "execute_result"
    }
   ],
   "source": [
    "northwestern.groupBy(\"user_screen_name\").agg(sum(\"rs_retweet_count\").alias(\"number_of_retweets\")).orderBy(\"number_of_retweets\", ascending = False).limit(5)"
   ]
  },
  {
   "cell_type": "code",
   "execution_count": 27,
   "metadata": {},
   "outputs": [
    {
     "data": {
      "text/html": [
       "<table border='1'>\n",
       "<tr><th>user_screen_name</th><th>number_of_retweets</th></tr>\n",
       "<tr><td>MarkoSilberhand</td><td>100629</td></tr>\n",
       "<tr><td>GoldfingerMarko</td><td>60912</td></tr>\n",
       "<tr><td>diaryofugo</td><td>60410</td></tr>\n",
       "<tr><td>cbrad1713</td><td>60260</td></tr>\n",
       "<tr><td>bakedvibez</td><td>56420</td></tr>\n",
       "</table>\n"
      ],
      "text/plain": [
       "+----------------+------------------+\n",
       "|user_screen_name|number_of_retweets|\n",
       "+----------------+------------------+\n",
       "| MarkoSilberhand|            100629|\n",
       "| GoldfingerMarko|             60912|\n",
       "|      diaryofugo|             60410|\n",
       "|       cbrad1713|             60260|\n",
       "|      bakedvibez|             56420|\n",
       "+----------------+------------------+"
      ]
     },
     "execution_count": 27,
     "metadata": {},
     "output_type": "execute_result"
    }
   ],
   "source": [
    "boston.groupBy(\"user_screen_name\").agg(sum(\"rs_retweet_count\").alias(\"number_of_retweets\")).orderBy(\"number_of_retweets\", ascending = False).limit(5)"
   ]
  },
  {
   "cell_type": "code",
   "execution_count": 28,
   "metadata": {},
   "outputs": [
    {
     "data": {
      "text/html": [
       "<table border='1'>\n",
       "<tr><th>user_screen_name</th><th>number_of_retweets</th></tr>\n",
       "<tr><td>DreeProvince</td><td>35189</td></tr>\n",
       "<tr><td>iHATErapists69</td><td>23402</td></tr>\n",
       "<tr><td>steven_thegypsy</td><td>22970</td></tr>\n",
       "<tr><td>2desi2function</td><td>22213</td></tr>\n",
       "<tr><td>DezisGOAT</td><td>22004</td></tr>\n",
       "</table>\n"
      ],
      "text/plain": [
       "+----------------+------------------+\n",
       "|user_screen_name|number_of_retweets|\n",
       "+----------------+------------------+\n",
       "|    DreeProvince|             35189|\n",
       "|  iHATErapists69|             23402|\n",
       "| steven_thegypsy|             22970|\n",
       "|  2desi2function|             22213|\n",
       "|       DezisGOAT|             22004|\n",
       "+----------------+------------------+"
      ]
     },
     "execution_count": 28,
     "metadata": {},
     "output_type": "execute_result"
    }
   ],
   "source": [
    "northeastern.groupBy(\"user_screen_name\").agg(sum(\"rs_retweet_count\").alias(\"number_of_retweets\")).orderBy(\"number_of_retweets\", ascending = False).limit(5)"
   ]
  },
  {
   "cell_type": "markdown",
   "metadata": {},
   "source": [
    "Top twitterer for each university if evaluated by retweets count:\n",
    "<br>Uchicago: Goal58014091\n",
    "<br>Northwestern: davidgura\n",
    "<br>Harvard: MarkoSilberhand\n",
    "<br>Northeastern: DreeProvince"
   ]
  },
  {
   "cell_type": "markdown",
   "metadata": {},
   "source": [
    "#### How much are they tweeting about the universities vs. other topics"
   ]
  },
  {
   "cell_type": "code",
   "execution_count": 94,
   "metadata": {},
   "outputs": [],
   "source": [
    "# Load json files that includes the tweets of above 8 influential twitterers\n",
    "twer_path = 'gs://msca-bdp-students-bucket/shared_data/jejiang/temp5/'\n",
    "twer_file = '*.json'"
   ]
  },
  {
   "cell_type": "code",
   "execution_count": 95,
   "metadata": {},
   "outputs": [],
   "source": [
    "spark.conf.set(\"spark.sql.repl.eagerEval.enabled\", True)"
   ]
  },
  {
   "cell_type": "code",
   "execution_count": 96,
   "metadata": {},
   "outputs": [],
   "source": [
    "top_tt = spark.read.json(twer_path + twer_file)"
   ]
  },
  {
   "cell_type": "code",
   "execution_count": 97,
   "metadata": {},
   "outputs": [
    {
     "data": {
      "text/html": [
       "<table border='1'>\n",
       "<tr><th>created_at</th><th>favorite_count</th><th>id</th><th>lang</th><th>reply_count</th><th>retweet_count</th><th>rs_retweet_count</th><th>text</th><th>timestamp_ms</th><th>user_created_at</th><th>user_favourites_count</th><th>user_followers_count</th><th>user_friends_count</th><th>user_id</th><th>user_location</th><th>user_name</th><th>user_screen_name</th><th>user_verified</th></tr>\n",
       "<tr><td>Wed Nov 13 14:44:...</td><td>0</td><td>1194626981104472064</td><td>en</td><td>0</td><td>0</td><td>null</td><td>Launch Strategy: ...</td><td>1573656242048</td><td>Sun Nov 25 09:28:...</td><td>56</td><td>572</td><td>291</td><td>1066624777807429632</td><td>null</td><td>Personal Growth a...</td><td>money_personal</td><td>false</td></tr>\n",
       "<tr><td>Thu Nov 14 04:33:...</td><td>0</td><td>1194835602727821315</td><td>en</td><td>0</td><td>0</td><td>null</td><td>Effective Communi...</td><td>1573705981319</td><td>Sun Nov 25 09:28:...</td><td>56</td><td>577</td><td>291</td><td>1066624777807429632</td><td>null</td><td>Personal Growth a...</td><td>money_personal</td><td>false</td></tr>\n",
       "<tr><td>Sun Nov 17 17:22:...</td><td>0</td><td>1196116291506978816</td><td>en</td><td>0</td><td>0</td><td>null</td><td>The American Sout...</td><td>1574011321318</td><td>Sun Nov 25 09:28:...</td><td>56</td><td>593</td><td>294</td><td>1066624777807429632</td><td>null</td><td>Personal Growth a...</td><td>money_personal</td><td>false</td></tr>\n",
       "<tr><td>Sun Nov 17 18:33:...</td><td>0</td><td>1196134161683083264</td><td>en</td><td>0</td><td>0</td><td>null</td><td>Internet of Thing...</td><td>1574015581900</td><td>Sun Nov 25 09:28:...</td><td>56</td><td>594</td><td>294</td><td>1066624777807429632</td><td>null</td><td>Personal Growth a...</td><td>money_personal</td><td>false</td></tr>\n",
       "<tr><td>Tue Nov 19 18:22:...</td><td>0</td><td>1196856170834624512</td><td>en</td><td>0</td><td>0</td><td>null</td><td>Health Care Deliv...</td><td>1574187722296</td><td>Sun Nov 25 09:28:...</td><td>56</td><td>601</td><td>294</td><td>1066624777807429632</td><td>null</td><td>Personal Growth a...</td><td>money_personal</td><td>false</td></tr>\n",
       "</table>\n"
      ],
      "text/plain": [
       "+--------------------+--------------+-------------------+----+-----------+-------------+----------------+--------------------+-------------+--------------------+---------------------+--------------------+------------------+-------------------+-------------+---------------+----------------+-------------+\n",
       "|          created_at|favorite_count|                 id|lang|reply_count|retweet_count|rs_retweet_count|                text| timestamp_ms|     user_created_at|user_favourites_count|user_followers_count|user_friends_count|            user_id|user_location|      user_name|user_screen_name|user_verified|\n",
       "+--------------------+--------------+-------------------+----+-----------+-------------+----------------+--------------------+-------------+--------------------+---------------------+--------------------+------------------+-------------------+-------------+---------------+----------------+-------------+\n",
       "|Mon Dec 14 19:22:...|             0|1338564921311645696|  en|          0|            0|            null|Recommender Syste...|1607973721231|Sun Nov 25 09:28:...|                   62|                 682|               309|1066624777807429632|         null|Personal Growth|  money_personal|        false|\n",
       "|Mon Dec 14 19:33:...|             0|1338567691251056640|  en|          0|            0|            null|Business of Games...|1607974381636|Sun Nov 25 09:28:...|                   62|                 682|               309|1066624777807429632|         null|Personal Growth|  money_personal|        false|\n",
       "|Mon Dec 14 19:44:...|             0|1338570459680391169|  en|          0|            0|            null|Business English ...|1607975041681|Sun Nov 25 09:28:...|                   62|                 682|               309|1066624777807429632|         null|Personal Growth|  money_personal|        false|\n",
       "|Mon Dec 14 19:55:...|             0|1338573226948009984|  en|          0|            0|            null|Image and Video P...|1607975701449|Sun Nov 25 09:28:...|                   62|                 682|               309|1066624777807429632|         null|Personal Growth|  money_personal|        false|\n",
       "|Mon Dec 14 20:11:...|             0|1338577255316910080|  en|          0|            0|            null|Introduction to D...|1607976661887|Sun Nov 25 09:28:...|                   62|                 682|               309|1066624777807429632|         null|Personal Growth|  money_personal|        false|\n",
       "+--------------------+--------------+-------------------+----+-----------+-------------+----------------+--------------------+-------------+--------------------+---------------------+--------------------+------------------+-------------------+-------------+---------------+----------------+-------------+"
      ]
     },
     "execution_count": 97,
     "metadata": {},
     "output_type": "execute_result"
    }
   ],
   "source": [
    "top_tt.limit(5)"
   ]
  },
  {
   "cell_type": "code",
   "execution_count": 98,
   "metadata": {},
   "outputs": [
    {
     "name": "stdout",
     "output_type": "stream",
     "text": [
      "67.04805491990847 % of the user chiftf_uchicago's tweets are about the university\n",
      "32.951945080091534 % of the user chiftf_uchicago's tweets are about other stuff\n"
     ]
    }
   ],
   "source": [
    "# University of Chicago - Twitterer tweets most about the university\n",
    "uch1 = top_tt.where(\"lower(user_screen_name) like '%chiftf_uchicago%'\")\n",
    "uch_uni1 = uch1.where(\"lower(text) like '%university of chicago%'\")\n",
    "\n",
    "uch_cnt1 = uch1.count()\n",
    "uch_uni_cnt1 = uch_uni1.count()\n",
    "\n",
    "uch_oth_cnt1 = uch_cnt1 - uch_uni_cnt1\n",
    "uch_uni1_ratio = uch_uni_cnt1/uch_cnt1*100\n",
    "uch_oth1_ratio = uch_oth_cnt1/uch_cnt1*100 \n",
    "\n",
    "print(uch_uni1_ratio, \"% of the user chiftf_uchicago's tweets are about the university\")\n",
    "print(uch_oth1_ratio, \"% of the user chiftf_uchicago's tweets are about other stuff\")"
   ]
  },
  {
   "cell_type": "code",
   "execution_count": 99,
   "metadata": {},
   "outputs": [
    {
     "name": "stdout",
     "output_type": "stream",
     "text": [
      "100.0 % of the user Goal58014091's tweets are about the university\n",
      "0.0 % of the user Goal58014091's tweets are about other stuff\n"
     ]
    }
   ],
   "source": [
    "# University of Chicago - Twitterer with most retweets count Goal58014091\n",
    "uch2 = top_tt.where(\"lower(user_screen_name) like '%goal58014091%'\")\n",
    "uch_uni2 = uch2.where(\"lower(text) like '%university of chicago%'\")\n",
    "\n",
    "uch_cnt2 = uch2.count()\n",
    "uch_uni_cnt2 = uch_uni2.count()\n",
    "\n",
    "uch_oth_cnt2 = uch_cnt2 - uch_uni_cnt2\n",
    "uch_uni2_ratio = uch_uni_cnt2/uch_cnt2*100\n",
    "uch_oth2_ratio = uch_oth_cnt2/uch_cnt2*100 \n",
    "\n",
    "print(uch_uni2_ratio, \"% of the user Goal58014091's tweets are about the university\")\n",
    "print(uch_oth2_ratio, \"% of the user Goal58014091's tweets are about other stuff\")"
   ]
  },
  {
   "cell_type": "code",
   "execution_count": 100,
   "metadata": {},
   "outputs": [
    {
     "name": "stdout",
     "output_type": "stream",
     "text": [
      "1.1659141567125795 % of the user money_personal's tweets are about the university\n",
      "98.83408584328743 % of the user money_personal's tweets are about other stuff\n"
     ]
    }
   ],
   "source": [
    "# Northwestern University - Twitterer tweets most about the university\n",
    "nw1 = top_tt.where(\"lower(user_screen_name) like '%money_personal%'\")\n",
    "nw_uni1 = nw1.where(\"lower(text) like '%northwestern university%'\")\n",
    "\n",
    "nw_cnt1 = nw1.count()\n",
    "nw_uni_cnt1 = nw_uni1.count()\n",
    "\n",
    "nw_oth_cnt1 = nw_cnt1 - nw_uni_cnt1\n",
    "nw_uni1_ratio = nw_uni_cnt1/nw_cnt1*100\n",
    "nw_oth1_ratio = nw_oth_cnt1/nw_cnt1*100 \n",
    "\n",
    "print(nw_uni1_ratio, \"% of the user money_personal's tweets are about the university\")\n",
    "print(nw_oth1_ratio, \"% of the user money_personal's tweets are about other stuff\")"
   ]
  },
  {
   "cell_type": "code",
   "execution_count": 101,
   "metadata": {},
   "outputs": [
    {
     "name": "stdout",
     "output_type": "stream",
     "text": [
      "4.3478260869565215 % of the user davidgura's tweets are about the university\n",
      "95.65217391304348 % of the user davidgura's tweets are about other stuff\n"
     ]
    }
   ],
   "source": [
    "# Northwestern University - Twitterer with most retweets count\n",
    "nw2 = top_tt.where(\"lower(user_screen_name) like '%davidgura%'\")\n",
    "nw_uni2 = nw2.where(\"lower(text) like '%northwestern university%'\")\n",
    "\n",
    "nw_cnt2 = nw2.count()\n",
    "nw_uni_cnt2 = nw_uni2.count()\n",
    "\n",
    "nw_oth_cnt2 = nw_cnt2 - nw_uni_cnt2\n",
    "nw_uni2_ratio = nw_uni_cnt2/nw_cnt2*100\n",
    "nw_oth2_ratio = nw_oth_cnt2/nw_cnt2*100 \n",
    "\n",
    "print(nw_uni2_ratio, \"% of the user davidgura's tweets are about the university\")\n",
    "print(nw_oth2_ratio, \"% of the user davidgura's tweets are about other stuff\")"
   ]
  },
  {
   "cell_type": "code",
   "execution_count": 102,
   "metadata": {},
   "outputs": [
    {
     "name": "stdout",
     "output_type": "stream",
     "text": [
      "96.74438143247217 % of the user BrooklinePads's tweets are about the university\n",
      "3.25561856752783 % of the user BrooklinePads's tweets are about other stuff\n"
     ]
    }
   ],
   "source": [
    "# Boston University - Twitterer tweets most about the university\n",
    "bos1 = top_tt.where(\"lower(user_screen_name) like '%brooklinepads%'\")\n",
    "bos_uni1 = bos1.where(\"lower(text) like '%boston university%'\")\n",
    "\n",
    "bos_cnt1 = bos1.count()\n",
    "bos_uni_cnt1 = bos_uni1.count()\n",
    "\n",
    "bos_oth_cnt1 = bos_cnt1 - bos_uni_cnt1\n",
    "bos_uni1_ratio = bos_uni_cnt1/bos_cnt1*100\n",
    "bos_oth1_ratio = bos_oth_cnt1/bos_cnt1*100 \n",
    "\n",
    "print(bos_uni1_ratio, \"% of the user BrooklinePads's tweets are about the university\")\n",
    "print(bos_oth1_ratio, \"% of the user BrooklinePads's tweets are about other stuff\")"
   ]
  },
  {
   "cell_type": "code",
   "execution_count": 103,
   "metadata": {},
   "outputs": [
    {
     "name": "stdout",
     "output_type": "stream",
     "text": [
      "0.8264462809917356 % of the user MarkoSilberhand's tweets are about the university\n",
      "99.17355371900827 % of the user MarkoSilberhand's tweets are about other stuff\n"
     ]
    }
   ],
   "source": [
    "# Boston University - Twitterer with most retweets count\n",
    "bos2 = top_tt.where(\"lower(user_screen_name) like '%markosilberhand%'\")\n",
    "bos_uni2 = bos2.where(\"lower(text) like '%boston university%'\")\n",
    "\n",
    "bos_cnt2 = bos2.count()\n",
    "bos_uni_cnt2 = bos_uni2.count()\n",
    "\n",
    "bos_oth_cnt2 = bos_cnt2 - bos_uni_cnt2\n",
    "bos_uni2_ratio = bos_uni_cnt2/bos_cnt2*100\n",
    "bos_oth2_ratio = bos_oth_cnt2/bos_cnt2*100 \n",
    "\n",
    "print(bos_uni2_ratio, \"% of the user MarkoSilberhand's tweets are about the university\")\n",
    "print(bos_oth2_ratio, \"% of the user MarkoSilberhand's tweets are about other stuff\")"
   ]
  },
  {
   "cell_type": "code",
   "execution_count": 104,
   "metadata": {},
   "outputs": [
    {
     "name": "stdout",
     "output_type": "stream",
     "text": [
      "99.99130585985047 % of the user NUWxSTEM's tweets are about the university\n",
      "0.00869414014953921 % of the user NUWxSTEM's tweets are about other stuff\n"
     ]
    }
   ],
   "source": [
    "# Northeastern University - Twitterer tweets most about the university\n",
    "neu1 = top_tt.where(\"lower(user_screen_name) like '%nuwxstem%'\")\n",
    "neu_uni1 = neu1.where(\"lower(text) like '%northeastern university%'\")\n",
    "\n",
    "neu_cnt1 = neu1.count()\n",
    "neu_uni_cnt1 = neu_uni1.count()\n",
    "\n",
    "neu_oth_cnt1 = neu_cnt1 - neu_uni_cnt1\n",
    "neu_uni1_ratio = neu_uni_cnt1/neu_cnt1*100\n",
    "neu_oth1_ratio = neu_oth_cnt1/neu_cnt1*100 \n",
    "\n",
    "print(neu_uni1_ratio, \"% of the user NUWxSTEM's tweets are about the university\")\n",
    "print(neu_oth1_ratio, \"% of the user NUWxSTEM's tweets are about other stuff\")"
   ]
  },
  {
   "cell_type": "code",
   "execution_count": 105,
   "metadata": {},
   "outputs": [
    {
     "name": "stdout",
     "output_type": "stream",
     "text": [
      "2.459016393442623 % of the user DreeProvince's tweets are about the university\n",
      "97.54098360655738 % of the user DreeProvince's tweets are about other stuff\n"
     ]
    }
   ],
   "source": [
    "# Northeastern University - Twitterer with most retweets count\n",
    "neu2 = top_tt.where(\"lower(user_screen_name) like '%dreeprovince%'\")\n",
    "neu_uni2 = neu2.where(\"lower(text) like '%northeastern university%'\")\n",
    "\n",
    "neu_cnt2 = neu2.count()\n",
    "neu_uni_cnt2 = neu_uni2.count()\n",
    "\n",
    "neu_oth_cnt2 = neu_cnt2 - neu_uni_cnt2\n",
    "neu_uni2_ratio = neu_uni_cnt2/neu_cnt2*100\n",
    "neu_oth2_ratio = neu_oth_cnt2/neu_cnt2*100 \n",
    "\n",
    "print(neu_uni2_ratio, \"% of the user DreeProvince's tweets are about the university\")\n",
    "print(neu_oth2_ratio, \"% of the user DreeProvince's tweets are about other stuff\")"
   ]
  },
  {
   "cell_type": "markdown",
   "metadata": {},
   "source": [
    "### 2). Where are these Twitterers located?"
   ]
  },
  {
   "cell_type": "markdown",
   "metadata": {},
   "source": [
    "#### For Uchicago and other universities"
   ]
  },
  {
   "cell_type": "code",
   "execution_count": 21,
   "metadata": {},
   "outputs": [],
   "source": [
    "uch_location = uchicago.groupBy('user_location').agg(count(\"*\").alias('number_of_user_locations')).orderBy('number_of_user_locations', ascending = False).toPandas()"
   ]
  },
  {
   "cell_type": "code",
   "execution_count": 22,
   "metadata": {},
   "outputs": [],
   "source": [
    "nw_location = northwestern.groupBy('user_location').agg(count(\"*\").alias('number_of_user_locations')).orderBy('number_of_user_locations', ascending = False).toPandas()"
   ]
  },
  {
   "cell_type": "code",
   "execution_count": 23,
   "metadata": {},
   "outputs": [],
   "source": [
    "bos_location = boston.groupBy('user_location').agg(count(\"*\").alias('number_of_user_locations')).orderBy('number_of_user_locations', ascending = False).toPandas()"
   ]
  },
  {
   "cell_type": "code",
   "execution_count": 24,
   "metadata": {},
   "outputs": [],
   "source": [
    "neu_location = northeastern.groupBy('user_location').agg(count(\"*\").alias('number_of_user_locations')).orderBy('number_of_user_locations', ascending = False).toPandas()"
   ]
  },
  {
   "cell_type": "markdown",
   "metadata": {},
   "source": [
    "#### Identify the relationship between university location and user locations"
   ]
  },
  {
   "cell_type": "code",
   "execution_count": 25,
   "metadata": {},
   "outputs": [
    {
     "name": "stdout",
     "output_type": "stream",
     "text": [
      "University of Chicago vs. user locations:\n",
      "         user_location  number_of_user_locations\n",
      "1         Chicago, IL                     14758\n",
      "2       United States                      5443\n",
      "3             Chicago                      5080\n",
      "4                 USA                      2678\n",
      "5      Washington, DC                      2212\n",
      "6        New York, NY                      1791\n",
      "7     California, USA                      1573\n",
      "8     Los Angeles, CA                      1438\n",
      "9               India                      1401\n",
      "10  Chicago, Illinois                      1137\n",
      "\n",
      " Northwestern University vs. user locations:\n",
      "       user_location  number_of_user_locations\n",
      "1       Chicago, IL                      4770\n",
      "2     United States                      2870\n",
      "3      Evanston, IL                      1794\n",
      "4           Chicago                      1632\n",
      "5               USA                      1252\n",
      "6    Washington, DC                       840\n",
      "7   California, USA                       695\n",
      "8      New York, NY                       659\n",
      "9      Florida, USA                       586\n",
      "10       Texas, USA                       586\n",
      "\n",
      " Boston University vs. user locations:\n",
      "         user_location  number_of_user_locations\n",
      "1          Boston, MA                     19068\n",
      "2       United States                      8276\n",
      "3       Brookline, MA                      4704\n",
      "4         Allston, MA                      3916\n",
      "5   Chestnut Hill, MA                      3513\n",
      "6        Brighton, MA                      3462\n",
      "7              Boston                      2962\n",
      "8                 USA                      2819\n",
      "9          Texas, USA                      2089\n",
      "10    California, USA                      2048\n",
      "\n",
      " Northeastern University vs. user locations:\n",
      "          user_location  number_of_user_locations\n",
      "1           Boston, MA                     16109\n",
      "2        United States                      3039\n",
      "3               Boston                      1022\n",
      "4   Massachusetts, USA                       555\n",
      "5                  USA                       529\n",
      "6       Washington, DC                       519\n",
      "7         New York, NY                       480\n",
      "8      California, USA                       443\n",
      "9      Los Angeles, CA                       391\n",
      "10         Chicago, IL                       367\n"
     ]
    }
   ],
   "source": [
    "print(\"University of Chicago vs. user locations:\\n\", uch_location[1:11])\n",
    "print(\"\\n Northwestern University vs. user locations:\\n\", nw_location[1:11])\n",
    "print(\"\\n Boston University vs. user locations:\\n\", bos_location[1:11])\n",
    "print(\"\\n Northeastern University vs. user locations:\\n\", neu_location[1:11])"
   ]
  },
  {
   "cell_type": "markdown",
   "metadata": {},
   "source": [
    "There are many duplicate location information, let's consolidate them."
   ]
  },
  {
   "cell_type": "code",
   "execution_count": 26,
   "metadata": {},
   "outputs": [],
   "source": [
    "def extract_location(df):\n",
    "    new_df = df.copy()\n",
    "    new_df['location'] = np.zeros(shape = (new_df.shape[0],))\n",
    "    obj = new_df['user_location'].str.lower().str.split(',')\n",
    "    for i in np.arange(obj.shape[0]):\n",
    "        new_df.loc[i, 'location'] = obj[i][0]\n",
    "    return new_df"
   ]
  },
  {
   "cell_type": "code",
   "execution_count": 27,
   "metadata": {},
   "outputs": [],
   "source": [
    "uch_location1 = extract_location(uch_location)"
   ]
  },
  {
   "cell_type": "code",
   "execution_count": 28,
   "metadata": {},
   "outputs": [],
   "source": [
    "nw_location1 = extract_location(nw_location)"
   ]
  },
  {
   "cell_type": "code",
   "execution_count": 29,
   "metadata": {},
   "outputs": [],
   "source": [
    "bos_location1 = extract_location(bos_location)"
   ]
  },
  {
   "cell_type": "code",
   "execution_count": 30,
   "metadata": {},
   "outputs": [],
   "source": [
    "neu_location1 = extract_location(neu_location)"
   ]
  },
  {
   "cell_type": "code",
   "execution_count": 31,
   "metadata": {},
   "outputs": [],
   "source": [
    "uch_l1 = uch_location1.groupby('location').sum().sort_values(by = 'number_of_user_locations', ascending = False)[1:11]\n",
    "nw_l1 = nw_location1.groupby('location').sum().sort_values(by = 'number_of_user_locations', ascending = False)[1:11]\n",
    "bos_l1 = bos_location1.groupby('location').sum().sort_values(by = 'number_of_user_locations', ascending = False)[1:11]\n",
    "neu_l1 = neu_location1.groupby('location').sum().sort_values(by = 'number_of_user_locations', ascending = False)[1:11]"
   ]
  },
  {
   "cell_type": "code",
   "execution_count": 32,
   "metadata": {},
   "outputs": [
    {
     "name": "stdout",
     "output_type": "stream",
     "text": [
      "University of Chicago vs. user locations:\n",
      "                number_of_user_locations\n",
      "location                               \n",
      "chicago                           22984\n",
      "united states                      5498\n",
      "new york                           3688\n",
      "washington                         3058\n",
      "usa                                2822\n",
      "los angeles                        2193\n",
      "california                         2067\n",
      "london                             1857\n",
      "texas                              1659\n",
      "illinois                           1543\n",
      "\n",
      " Northwestern University vs. user locations:\n",
      "                number_of_user_locations\n",
      "location                               \n",
      "chicago                            7344\n",
      "united states                      2898\n",
      "evanston                           2086\n",
      "new york                           1459\n",
      "usa                                1312\n",
      "washington                         1163\n",
      "los angeles                         912\n",
      "california                          909\n",
      "texas                               858\n",
      "florida                             782\n",
      "\n",
      " Boston University vs. user locations:\n",
      "                number_of_user_locations\n",
      "location                               \n",
      "boston                            24485\n",
      "united states                      8408\n",
      "brookline                          4729\n",
      "new york                           4169\n",
      "allston                            3920\n",
      "chestnut hill                      3552\n",
      "brighton                           3510\n",
      "usa                                3029\n",
      "texas                              2910\n",
      "washington                         2781\n",
      "\n",
      " Northeastern University vs. user locations:\n",
      "                number_of_user_locations\n",
      "location                               \n",
      "boston                            17692\n",
      "united states                      3052\n",
      "new york                           1050\n",
      "massachusetts                       763\n",
      "washington                          734\n",
      "chicago                             584\n",
      "california                          579\n",
      "usa                                 571\n",
      "los angeles                         552\n",
      "texas                               543\n"
     ]
    }
   ],
   "source": [
    "print(\"University of Chicago vs. user locations:\\n\", uch_l1)\n",
    "print(\"\\n Northwestern University vs. user locations:\\n\", nw_l1)\n",
    "print(\"\\n Boston University vs. user locations:\\n\", bos_l1)\n",
    "print(\"\\n Northeastern University vs. user locations:\\n\", neu_l1)"
   ]
  },
  {
   "cell_type": "markdown",
   "metadata": {},
   "source": [
    "#### Visualize the relationships"
   ]
  },
  {
   "cell_type": "code",
   "execution_count": 33,
   "metadata": {},
   "outputs": [
    {
     "data": {
      "image/png": "[encoded data removed]",
      "text/plain": [
       "<Figure size 432x288 with 1 Axes>"
      ]
     },
     "metadata": {},
     "output_type": "display_data"
    },
    {
     "data": {
      "image/png": "[encoded data removed]",
      "text/plain": [
       "<Figure size 432x288 with 1 Axes>"
      ]
     },
     "metadata": {},
     "output_type": "display_data"
    },
    {
     "data": {
      "image/png": "[encoded data removed]",
      "text/plain": [
       "<Figure size 432x288 with 1 Axes>"
      ]
     },
     "metadata": {},
     "output_type": "display_data"
    },
    {
     "data": {
      "image/png": "[encoded data removed]",
      "text/plain": [
       "<Figure size 432x288 with 1 Axes>"
      ]
     },
     "metadata": {},
     "output_type": "display_data"
    }
   ],
   "source": [
    "uch_l1.plot(kind = 'bar')\n",
    "plt.ylabel('number_of_user_locations')\n",
    "plt.title('The University of Chicago vs. Users Location')\n",
    "plt.show()\n",
    "\n",
    "nw_l1.plot(kind = 'bar')\n",
    "plt.ylabel('number_of_user_locations')\n",
    "plt.title('Northwestern university vs. Users Location')\n",
    "plt.show()\n",
    "\n",
    "bos_l1.plot(kind = 'bar')\n",
    "plt.ylabel('number_of_user_locations')\n",
    "plt.title('Boston University vs. Users Location')\n",
    "plt.show()\n",
    "\n",
    "neu_l1.plot(kind = 'bar')\n",
    "plt.ylabel('number_of_user_locations')\n",
    "plt.title('Northeastern University vs. Users Location')\n",
    "plt.show()"
   ]
  },
  {
   "cell_type": "markdown",
   "metadata": {},
   "source": [
    "A large number of twitterers who tweet about the University of Chicago are located in Chicago. A majority of twitterers who tweet about Northwestern University are located in Chicago. For Boston University and Northeastern University, a large number of twitterers are located in Boston. "
   ]
  },
  {
   "cell_type": "markdown",
   "metadata": {},
   "source": [
    "### 3). What distinguishes University of Chicago Twitterers vs. Twitterers who tweet about other universities?\n",
    "Visualize the trends"
   ]
  },
  {
   "cell_type": "markdown",
   "metadata": {},
   "source": [
    "#### Analyze column rs_retweet_count"
   ]
  },
  {
   "cell_type": "code",
   "execution_count": 34,
   "metadata": {},
   "outputs": [],
   "source": [
    "uch_rt = uchicago.agg({'rs_retweet_count': 'avg'}).toPandas()\n",
    "nw_rt = northwestern.agg({'rs_retweet_count': 'avg'}).toPandas()\n",
    "bos_rt = boston.agg({'rs_retweet_count': 'avg'}).toPandas()\n",
    "neu_rt = northeastern.agg({'rs_retweet_count': 'avg'}).toPandas()"
   ]
  },
  {
   "cell_type": "code",
   "execution_count": 35,
   "metadata": {},
   "outputs": [
    {
     "data": {
      "image/png": "[encoded data removed]",
      "text/plain": [
       "<Figure size 432x288 with 1 Axes>"
      ]
     },
     "metadata": {},
     "output_type": "display_data"
    }
   ],
   "source": [
    "retweets_df = pd.concat([uch_rt, nw_rt, bos_rt, neu_rt], axis = 0)\n",
    "idx = 0\n",
    "new_col = ['University of Chicago', 'Northwestern University', 'Boston University', 'Northeastern University']\n",
    "\n",
    "retweets_df.insert(loc = idx, column = 'University', value = new_col)\n",
    "retweets_df = retweets_df.set_index('University')\n",
    "ax = retweets_df.plot.barh()\n",
    "ax.invert_yaxis()\n",
    "ax.set_xlabel('Average number of retweets')\n",
    "ax.get_legend().remove()"
   ]
  },
  {
   "cell_type": "markdown",
   "metadata": {},
   "source": [
    "#### Analyze column favorite_count, reply_count"
   ]
  },
  {
   "cell_type": "code",
   "execution_count": 36,
   "metadata": {},
   "outputs": [
    {
     "name": "stdout",
     "output_type": "stream",
     "text": [
      "Avg favorite count - UChicago:\n",
      "   avg(favorite_count)\n",
      "0                  0.0\n",
      "\n",
      "Avg favorite count - Northwestern:\n",
      "   avg(favorite_count)\n",
      "0                  0.0\n",
      "\n",
      "Avg favorite count - Boston\n",
      "   avg(favorite_count)\n",
      "0                  0.0\n",
      "\n",
      "Avg favorite count - Northeastern\n",
      "   avg(favorite_count)\n",
      "0                  0.0\n"
     ]
    }
   ],
   "source": [
    "print(\"Avg favorite count - UChicago:\")\n",
    "print(uchicago.agg({'favorite_count': 'avg'}).toPandas())\n",
    "print(\"\\nAvg favorite count - Northwestern:\")\n",
    "print(northwestern.agg({'favorite_count': 'avg'}).toPandas())\n",
    "print(\"\\nAvg favorite count - Boston\")\n",
    "print(boston.agg({'favorite_count': 'avg'}).toPandas())\n",
    "print(\"\\nAvg favorite count - Northeastern\")\n",
    "print(northeastern.agg({'favorite_count': 'avg'}).toPandas())"
   ]
  },
  {
   "cell_type": "code",
   "execution_count": 37,
   "metadata": {},
   "outputs": [
    {
     "name": "stdout",
     "output_type": "stream",
     "text": [
      "Avg reply count - UChicago:\n",
      "   avg(reply_count)\n",
      "0               0.0\n",
      "\n",
      "Avg reply count - Northwestern:\n",
      "   avg(reply_count)\n",
      "0               0.0\n",
      "\n",
      "Avg reply count - Boston\n",
      "   avg(reply_count)\n",
      "0               0.0\n",
      "\n",
      "Avg reply count - Northeastern\n",
      "   avg(reply_count)\n",
      "0               0.0\n"
     ]
    }
   ],
   "source": [
    "print(\"Avg reply count - UChicago:\")\n",
    "print(uchicago.agg({'reply_count': 'avg'}).toPandas())\n",
    "print(\"\\nAvg reply count - Northwestern:\")\n",
    "print(northwestern.agg({'reply_count': 'avg'}).toPandas())\n",
    "print(\"\\nAvg reply count - Boston\")\n",
    "print(boston.agg({'reply_count': 'avg'}).toPandas())\n",
    "print(\"\\nAvg reply count - Northeastern\")\n",
    "print(northeastern.agg({'reply_count': 'avg'}).toPandas())"
   ]
  },
  {
   "cell_type": "markdown",
   "metadata": {},
   "source": [
    "The values are all 0, so it seems that we cannot distinguish University of Chicago twitterers from other universities' twitters by the information of favorite_count, and reply_count."
   ]
  },
  {
   "cell_type": "markdown",
   "metadata": {},
   "source": [
    "#### Analyze column user_verified"
   ]
  },
  {
   "cell_type": "code",
   "execution_count": 38,
   "metadata": {},
   "outputs": [],
   "source": [
    "uch_verified = uchicago.groupBy('user_verified').agg(count(\"*\").alias('number_of_verified_user')).orderBy('number_of_verified_user', ascending = False).limit(2).toPandas()\n",
    "nw_verified = northwestern.groupBy('user_verified').agg(count(\"*\").alias('number_of_verified_user')).orderBy('number_of_verified_user', ascending = False).limit(2).toPandas()\n",
    "bos_verified = boston.groupBy('user_verified').agg(count(\"*\").alias('number_of_verified_user')).orderBy('number_of_verified_user', ascending = False).limit(2).toPandas()\n",
    "neu_verified = northeastern.groupBy('user_verified').agg(count(\"*\").alias('number_of_verified_user')).orderBy('number_of_verified_user', ascending = False).limit(2).toPandas()"
   ]
  },
  {
   "cell_type": "code",
   "execution_count": 39,
   "metadata": {},
   "outputs": [],
   "source": [
    "from functools import reduce\n",
    "\n",
    "dfs = [uch_verified, nw_verified, bos_verified, neu_verified]\n",
    "v_df = reduce(lambda left, right: pd.merge(left, right, on = 'user_verified'), dfs)\n",
    "v_df.columns = ['user_verified', 'university of chicago', 'northwestern university', 'boston university', 'northeastern university']\n",
    "v_df = v_df.set_index('user_verified')\n",
    "\n",
    "v_df1 = v_df.T\n",
    "v_df1.columns = ['Not verified', 'Verified']\n",
    "v_df1['Verified_ratio'] = v_df1['Verified']/(v_df1['Not verified']+v_df1['Verified'])"
   ]
  },
  {
   "cell_type": "code",
   "execution_count": 40,
   "metadata": {},
   "outputs": [
    {
     "data": {
      "text/html": [
       "<div>\n",
       "<style scoped>\n",
       "    .dataframe tbody tr th:only-of-type {\n",
       "        vertical-align: middle;\n",
       "    }\n",
       "\n",
       "    .dataframe tbody tr th {\n",
       "        vertical-align: top;\n",
       "    }\n",
       "\n",
       "    .dataframe thead th {\n",
       "        text-align: right;\n",
       "    }\n",
       "</style>\n",
       "<table border=\"1\" class=\"dataframe\">\n",
       "  <thead>\n",
       "    <tr style=\"text-align: right;\">\n",
       "      <th></th>\n",
       "      <th>Not verified</th>\n",
       "      <th>Verified</th>\n",
       "      <th>Verified_ratio</th>\n",
       "    </tr>\n",
       "  </thead>\n",
       "  <tbody>\n",
       "    <tr>\n",
       "      <th>university of chicago</th>\n",
       "      <td>292216</td>\n",
       "      <td>7435</td>\n",
       "      <td>0.024812</td>\n",
       "    </tr>\n",
       "    <tr>\n",
       "      <th>northwestern university</th>\n",
       "      <td>125374</td>\n",
       "      <td>3716</td>\n",
       "      <td>0.028786</td>\n",
       "    </tr>\n",
       "    <tr>\n",
       "      <th>boston university</th>\n",
       "      <td>344361</td>\n",
       "      <td>8366</td>\n",
       "      <td>0.023718</td>\n",
       "    </tr>\n",
       "    <tr>\n",
       "      <th>northeastern university</th>\n",
       "      <td>94188</td>\n",
       "      <td>2178</td>\n",
       "      <td>0.022601</td>\n",
       "    </tr>\n",
       "  </tbody>\n",
       "</table>\n",
       "</div>"
      ],
      "text/plain": [
       "                         Not verified  Verified  Verified_ratio\n",
       "university of chicago          292216      7435        0.024812\n",
       "northwestern university        125374      3716        0.028786\n",
       "boston university              344361      8366        0.023718\n",
       "northeastern university         94188      2178        0.022601"
      ]
     },
     "execution_count": 40,
     "metadata": {},
     "output_type": "execute_result"
    }
   ],
   "source": [
    "v_df1"
   ]
  },
  {
   "cell_type": "markdown",
   "metadata": {},
   "source": [
    "Just like Northwestern university's twitterers, University of Chicago's twitterers are more likely to verify their twitter account"
   ]
  },
  {
   "cell_type": "markdown",
   "metadata": {},
   "source": [
    "#### Analyze column user_followers_count, user_friends_count, user_favourites_count "
   ]
  },
  {
   "cell_type": "code",
   "execution_count": 30,
   "metadata": {},
   "outputs": [],
   "source": [
    "# Analyze columns user_follower_count\n",
    "uch_fl = uchicago.agg({'user_followers_count': 'avg'}).toPandas()\n",
    "nw_fl = northwestern.agg({'user_followers_count': 'avg'}).toPandas()\n",
    "bos_fl = boston.agg({'user_followers_count': 'avg'}).toPandas()\n",
    "neu_fl = northeastern.agg({'user_followers_count': 'avg'}).toPandas()"
   ]
  },
  {
   "cell_type": "code",
   "execution_count": 31,
   "metadata": {},
   "outputs": [
    {
     "data": {
      "image/png": "[encoded data removed]",
      "text/plain": [
       "<Figure size 432x288 with 1 Axes>"
      ]
     },
     "metadata": {
      "needs_background": "light"
     },
     "output_type": "display_data"
    }
   ],
   "source": [
    "followers_df = pd.concat([uch_fl, nw_fl, bos_fl, neu_fl], axis = 0)\n",
    "idx = 0\n",
    "new_col = ['University of Chicago', 'Northwestern University', 'Boston University', 'Northeastern University']\n",
    "\n",
    "followers_df.insert(loc = idx, column = 'University', value = new_col)\n",
    "followers_df = followers_df.set_index('University')\n",
    "ax = followers_df.plot.barh()\n",
    "ax.invert_yaxis()\n",
    "ax.set_xlabel('Average number of user followers count')\n",
    "ax.get_legend().remove()"
   ]
  },
  {
   "cell_type": "code",
   "execution_count": 32,
   "metadata": {},
   "outputs": [],
   "source": [
    "# Analyze column user_friends_count\n",
    "uch_fr = uchicago.agg({'user_friends_count': 'avg'}).toPandas()\n",
    "nw_fr = northwestern.agg({'user_friends_count': 'avg'}).toPandas()\n",
    "bos_fr = boston.agg({'user_friends_count': 'avg'}).toPandas()\n",
    "neu_fr = northeastern.agg({'user_friends_count': 'avg'}).toPandas()"
   ]
  },
  {
   "cell_type": "code",
   "execution_count": 33,
   "metadata": {},
   "outputs": [
    {
     "data": {
      "image/png": "[encoded data removed]",
      "text/plain": [
       "<Figure size 432x288 with 1 Axes>"
      ]
     },
     "metadata": {
      "needs_background": "light"
     },
     "output_type": "display_data"
    }
   ],
   "source": [
    "friends_df = pd.concat([uch_fr, nw_fr, bos_fr, neu_fr], axis = 0)\n",
    "\n",
    "friends_df.insert(loc = idx, column = 'University', value = new_col)\n",
    "friends_df = friends_df.set_index('University')\n",
    "ax = friends_df.plot.barh()\n",
    "ax.invert_yaxis()\n",
    "ax.set_xlabel('Average number of user friends count')\n",
    "ax.get_legend().remove()"
   ]
  },
  {
   "cell_type": "code",
   "execution_count": 34,
   "metadata": {},
   "outputs": [],
   "source": [
    "# Analyze column user_favourites_count\n",
    "uch_fa = uchicago.agg({'user_favourites_count': 'avg'}).toPandas()\n",
    "nw_fa = northwestern.agg({'user_favourites_count': 'avg'}).toPandas()\n",
    "bos_fa = boston.agg({'user_favourites_count': 'avg'}).toPandas()\n",
    "neu_fa = northeastern.agg({'user_favourites_count': 'avg'}).toPandas()"
   ]
  },
  {
   "cell_type": "code",
   "execution_count": 35,
   "metadata": {},
   "outputs": [
    {
     "data": {
      "image/png": "[encoded data removed]",
      "text/plain": [
       "<Figure size 432x288 with 1 Axes>"
      ]
     },
     "metadata": {
      "needs_background": "light"
     },
     "output_type": "display_data"
    }
   ],
   "source": [
    "favourites_df = pd.concat([uch_fa, nw_fa, bos_fa, neu_fa], axis = 0)\n",
    "\n",
    "favourites_df.insert(loc = idx, column = 'University', value = new_col)\n",
    "favourites_df = favourites_df.set_index('University')\n",
    "ax = favourites_df.plot.barh()\n",
    "ax.invert_yaxis()\n",
    "ax.set_xlabel('Average number of user favourites count')\n",
    "ax.get_legend().remove()"
   ]
  },
  {
   "cell_type": "markdown",
   "metadata": {},
   "source": [
    "#### What are top 10 retweeted tweets talking about?"
   ]
  },
  {
   "cell_type": "code",
   "execution_count": null,
   "metadata": {},
   "outputs": [],
   "source": [
    "uch_tp10 = uchicago.select(['text', 'rs_retweet_count']).groupBy('text').agg(sum('rs_retweet_count').alias('retweet_count')).orderBy('retweet_count', ascending = False).limit(10).toPandas()\n",
    "nw_tp10 = northwestern.select(['text', 'rs_retweet_count']).groupBy('text').agg(sum('rs_retweet_count').alias('retweet_count')).orderBy('retweet_count', ascending = False).limit(10).toPandas()\n",
    "bos_tp10 = boston.select(['text', 'rs_retweet_count']).groupBy('text').agg(sum('rs_retweet_count').alias('retweet_count')).orderBy('retweet_count', ascending = False).limit(10).toPandas()\n",
    "neu_tp10 = northeastern.select(['text', 'rs_retweet_count']).groupBy('text').agg(sum('rs_retweet_count').alias('retweet_count')).orderBy('retweet_count', ascending = False).limit(10).toPandas()"
   ]
  },
  {
   "cell_type": "code",
   "execution_count": 45,
   "metadata": {},
   "outputs": [
    {
     "data": {
      "text/plain": [
       "array(['RT @ChuckModi1: University of Chicago dropping SAT is huge win against classism. Then THIS!:\\n\\n“UofC is announcing guarantee of free tuition…',\n",
       "       'RT @RahulGandhi: My interaction with Prof Dipesh Chakrabarty &amp; students of The University of Chicago, Institute of Politics. https://t.co/5…',\n",
       "       'RT @TrumpWarRoom: Joe Biden attacked Dr. Scott Atlas, a graduate of the University of Chicago School of Medicine and the former Chief of Ne…',\n",
       "       'RT @AP: Spoiler alert: 2020 has been rough on the American psyche. A new survey by NORC at the University of Chicago finds Americans are mo…',\n",
       "       'RT @JoshBreslowWKRN: Dr. Emily Landon with University of Chicago-Medicine speaking on Illinois residents sheltering-in-place: “It’s really…',\n",
       "       'RT @anthonyocampo: The University of Chicago—whose endowment is $8.5 billion—won’t be paying their resident assistants (RAs) their spring q…',\n",
       "       'RT @DavidLammy: Evening Mr Rowland. The University of Chicago is indeed a prestigious institution, but I decided to attend Harvard Law Scho…',\n",
       "       'RT @ArabMuIa: This professor was grading tests next to me on the whole flight to FL. If there’s an Auston Pugh at the University of Chicago…',\n",
       "       'RT @spectatorindex: Nobel laureates.\\n\\nHarvard: 158\\nCambridge: 118\\nUniversity of California: 107\\nUniversity of Chicago: 98\\nColumbia Universi…',\n",
       "       'RT @MrAndyNgo: Protesters inside and around a new “autonomous zone” at the University of Chicago Police Department are urinating and defeca…'],\n",
       "      dtype=object)"
      ]
     },
     "execution_count": 45,
     "metadata": {},
     "output_type": "execute_result"
    }
   ],
   "source": [
    "uch_tp10['text'].values"
   ]
  },
  {
   "cell_type": "code",
   "execution_count": 46,
   "metadata": {},
   "outputs": [
    {
     "data": {
      "text/plain": [
       "array(['RT @brithume: The author of this nonsense is a professor at the highly regarded Northwestern University. https://t.co/knf7MJpnNH',\n",
       "       \"RT @charliekirk11: Did you know:\\n\\nA new audit of Google's search algorithm by Northwestern University researchers confirmed Google's bias a…\",\n",
       "       'RT @travisakers: An 11-year-old rape victim in northwestern university Ohio is pregnant, and a highly restrictive state law on abortion pas…',\n",
       "       'RT @davidgura: A statement from Northwestern University, on Joseph Epstein: https://t.co/rhCmK2HvSy',\n",
       "       'RT @lostblackboy: Joseph Epstein’s WSJ op-ed about Dr. Jill Biden embarrassed Northwestern University so much that they issued TWO statemen…',\n",
       "       \"RT @davidgura: A statement from Northwestern University's English Department, about Joseph Epstein: https://t.co/7fsk8KJZB9\",\n",
       "       'RT @BarackObama: In Evanston, IL, Northwestern University faculty and students worked with their police department to develop recommendatio…',\n",
       "       'RT @petef08: Northwestern University found that sitting within 25 feet of a high performer at work improved an employee’s performance by 15…',\n",
       "       'RT @BarstoolDW: LeBron James with a high school diploma in education saying that a person with degrees from Northwestern University and MIT…',\n",
       "       'RT @teddyb_h2o: Welcome to Miami Northwestern Senior High School aka Miami Northwestern University, where the culture is one of a kind. \\n\\nL…'],\n",
       "      dtype=object)"
      ]
     },
     "execution_count": 46,
     "metadata": {},
     "output_type": "execute_result"
    }
   ],
   "source": [
    "nw_tp10['text'].values"
   ]
  },
  {
   "cell_type": "code",
   "execution_count": 47,
   "metadata": {},
   "outputs": [
    {
     "data": {
      "text/plain": [
       "array(['RT @tonyposnanski: AOC graduated Magna Cum Laude from Boston University and won her election in a landslide.\\n\\nYou barely graduated college,…',\n",
       "       'RT @DanWetzel: Aaron Hernandez had stage 3 CTE, per attorney Jose Baez. Brain was studied at Boston University. Family will sue NFL and Pat…',\n",
       "       'RT @rwesthead: Breaking: Boston University researchers say they have developed a method that may help diagnose CTE in living patients.',\n",
       "       'RT @hemirdesai: BREAKING &amp; SHOCKING NEWS  Finally FBI arrested Professor from Boston University who was in connection with Chinese universi…',\n",
       "       'RT @TIME: Student who attended Charlottesville white supremacist rally leaves Boston University after backlash… ',\n",
       "       'RT @johncardillo: Strip you of all that? No. \\n\\nYou grew up in Westchester County, not the Bronx. \\n\\nYou went to Boston University, not Bronx…',\n",
       "       \"RT @adamhousley: Microbiologist Robery Davey says they've made a breakthrough last Sunday at Boston University. Using antibodies from a rec…\",\n",
       "       'RT @DailyCaller: Sen. John Kennedy asks ACB about Boston University\\'s @DrIbram saying that she is a \"white colonist\" for adopting two Haiti…',\n",
       "       'RT @TheMarkPantano: Meet Alexandria Ocasio-Cortez.\\n\\nShe is a graduate of Boston University (@BU_Tweets).\\n\\nShe holds degrees in Economics an…',\n",
       "       'RT @mattbc: Reminder: a civil warrant for my arrest was issued over student loan debt I purportedly owe to Boston University. \\n\\nWarrant. Fo…'],\n",
       "      dtype=object)"
      ]
     },
     "execution_count": 47,
     "metadata": {},
     "output_type": "execute_result"
    }
   ],
   "source": [
    "bos_tp10['text'].values"
   ]
  },
  {
   "cell_type": "code",
   "execution_count": 48,
   "metadata": {},
   "outputs": [
    {
     "data": {
      "text/plain": [
       "array(['RT @Northeastern: We want to reassure students who have applied or have been admitted to Northeastern University that disciplinary actions…',\n",
       "       'RT @BostonGlobe: Northeastern University has dismissed 11 first-year students after they were caught violating social distancing rules, the…',\n",
       "       'RT @ChuckCallesto: BREAKING REPORT: Northeastern University has dismissed 11 first-year students after they were caught VIOLATING SOCIAL DI…',\n",
       "       'RT @UberFacts: Humans love dogs more than other humans, according to researchers at Northeastern University and the University of Colorado.',\n",
       "       'RT @eric_clapp: The buried lede is that Northeastern University didn’t want to miss out on $73,000/year/person (!) by going online, so they…',\n",
       "       'RT @denial101x: \"This just happened\" Associate professor Jennifer Bowen at Northeastern University, Boston releases this shocker… ',\n",
       "       'RT @krassenstein: A new study by researchers from Northeastern University and Harvard University have indicated that the vast majority of F…',\n",
       "       'RT @dharmicverangna: URGENT: \\n\\nA PhD candidate named Vijeta Saini at the Northeastern University, Boston Massachusetts had editing rights t…',\n",
       "       'RT @UberFacts: Humans love dogs more than other humans, according to researchers at Northeastern University and the University of Colorado',\n",
       "       'RT @SoxNotes: The Red Sox have played 207 games in the last 245 days, including 2 exhibition games against Northeastern University and Bost…'],\n",
       "      dtype=object)"
      ]
     },
     "execution_count": 48,
     "metadata": {},
     "output_type": "execute_result"
    }
   ],
   "source": [
    "neu_tp10['text'].values"
   ]
  },
  {
   "cell_type": "markdown",
   "metadata": {},
   "source": [
    "### 4). What are the timelines of these tweets? Do you see any significant peaks and valleys?\n",
    "#### Do you see data collection gaps"
   ]
  },
  {
   "cell_type": "code",
   "execution_count": 49,
   "metadata": {},
   "outputs": [],
   "source": [
    "data_ts = data.select('created_at').toPandas()"
   ]
  },
  {
   "cell_type": "code",
   "execution_count": 50,
   "metadata": {},
   "outputs": [
    {
     "data": {
      "text/plain": [
       "(877155, 1)"
      ]
     },
     "execution_count": 50,
     "metadata": {},
     "output_type": "execute_result"
    }
   ],
   "source": [
    "data_ts.shape"
   ]
  },
  {
   "cell_type": "code",
   "execution_count": 51,
   "metadata": {},
   "outputs": [],
   "source": [
    "from datetime import datetime\n",
    "\n",
    "data_ts['created_at_timestamp'] = np.zeros(shape = (data_ts.shape[0],))\n",
    "for i in np.arange(data_ts.shape[0]):\n",
    "    data_ts.loc[i, 'created_at_timestamp'] = datetime.strftime(datetime.strptime(data_ts['created_at'][i],'%a %b %d %H:%M:%S +0000 %Y'), '%Y-%m-%d %H:%M:%S')"
   ]
  },
  {
   "cell_type": "code",
   "execution_count": 52,
   "metadata": {},
   "outputs": [
    {
     "data": {
      "text/html": [
       "<div>\n",
       "<style scoped>\n",
       "    .dataframe tbody tr th:only-of-type {\n",
       "        vertical-align: middle;\n",
       "    }\n",
       "\n",
       "    .dataframe tbody tr th {\n",
       "        vertical-align: top;\n",
       "    }\n",
       "\n",
       "    .dataframe thead th {\n",
       "        text-align: right;\n",
       "    }\n",
       "</style>\n",
       "<table border=\"1\" class=\"dataframe\">\n",
       "  <thead>\n",
       "    <tr style=\"text-align: right;\">\n",
       "      <th></th>\n",
       "      <th>created_at</th>\n",
       "      <th>created_at_timestamp</th>\n",
       "    </tr>\n",
       "  </thead>\n",
       "  <tbody>\n",
       "    <tr>\n",
       "      <th>0</th>\n",
       "      <td>Wed Mar 14 20:15:03 +0000 2018</td>\n",
       "      <td>2018-03-14 20:15:03</td>\n",
       "    </tr>\n",
       "    <tr>\n",
       "      <th>1</th>\n",
       "      <td>Wed Mar 14 20:15:03 +0000 2018</td>\n",
       "      <td>2018-03-14 20:15:03</td>\n",
       "    </tr>\n",
       "    <tr>\n",
       "      <th>2</th>\n",
       "      <td>Wed Mar 14 20:15:03 +0000 2018</td>\n",
       "      <td>2018-03-14 20:15:03</td>\n",
       "    </tr>\n",
       "    <tr>\n",
       "      <th>3</th>\n",
       "      <td>Wed Mar 14 20:15:04 +0000 2018</td>\n",
       "      <td>2018-03-14 20:15:04</td>\n",
       "    </tr>\n",
       "    <tr>\n",
       "      <th>4</th>\n",
       "      <td>Wed Mar 14 20:15:06 +0000 2018</td>\n",
       "      <td>2018-03-14 20:15:06</td>\n",
       "    </tr>\n",
       "  </tbody>\n",
       "</table>\n",
       "</div>"
      ],
      "text/plain": [
       "                       created_at created_at_timestamp\n",
       "0  Wed Mar 14 20:15:03 +0000 2018  2018-03-14 20:15:03\n",
       "1  Wed Mar 14 20:15:03 +0000 2018  2018-03-14 20:15:03\n",
       "2  Wed Mar 14 20:15:03 +0000 2018  2018-03-14 20:15:03\n",
       "3  Wed Mar 14 20:15:04 +0000 2018  2018-03-14 20:15:04\n",
       "4  Wed Mar 14 20:15:06 +0000 2018  2018-03-14 20:15:06"
      ]
     },
     "execution_count": 52,
     "metadata": {},
     "output_type": "execute_result"
    }
   ],
   "source": [
    "data_ts.head()"
   ]
  },
  {
   "cell_type": "code",
   "execution_count": 53,
   "metadata": {},
   "outputs": [
    {
     "name": "stdout",
     "output_type": "stream",
     "text": [
      "<class 'pandas.core.frame.DataFrame'>\n",
      "RangeIndex: 877155 entries, 0 to 877154\n",
      "Data columns (total 2 columns):\n",
      " #   Column                Non-Null Count   Dtype \n",
      "---  ------                --------------   ----- \n",
      " 0   created_at            877155 non-null  object\n",
      " 1   created_at_timestamp  877155 non-null  object\n",
      "dtypes: object(2)\n",
      "memory usage: 13.4+ MB\n"
     ]
    }
   ],
   "source": [
    "data_ts.info()"
   ]
  },
  {
   "cell_type": "code",
   "execution_count": 54,
   "metadata": {},
   "outputs": [],
   "source": [
    "data_ts['year'] = pd.DatetimeIndex(data_ts['created_at_timestamp']).year\n",
    "data_ts['month'] = pd.DatetimeIndex(data_ts['created_at_timestamp']).month\n",
    "data_ts['day'] = pd.DatetimeIndex(data_ts['created_at_timestamp']).day\n",
    "data_ts['day_of_week'] = pd.DatetimeIndex(data_ts['created_at_timestamp']).dayofweek\n",
    "data_ts['hour'] = pd.DatetimeIndex(data_ts['created_at_timestamp']).hour"
   ]
  },
  {
   "cell_type": "code",
   "execution_count": 73,
   "metadata": {},
   "outputs": [],
   "source": [
    "data_ts['year-month-day'] = pd.to_datetime(data_ts[['year', 'month', 'day']])"
   ]
  },
  {
   "cell_type": "code",
   "execution_count": 71,
   "metadata": {},
   "outputs": [
    {
     "data": {
      "text/html": [
       "<div>\n",
       "<style scoped>\n",
       "    .dataframe tbody tr th:only-of-type {\n",
       "        vertical-align: middle;\n",
       "    }\n",
       "\n",
       "    .dataframe tbody tr th {\n",
       "        vertical-align: top;\n",
       "    }\n",
       "\n",
       "    .dataframe thead th {\n",
       "        text-align: right;\n",
       "    }\n",
       "</style>\n",
       "<table border=\"1\" class=\"dataframe\">\n",
       "  <thead>\n",
       "    <tr style=\"text-align: right;\">\n",
       "      <th></th>\n",
       "      <th>created_at</th>\n",
       "      <th>created_at_timestamp</th>\n",
       "      <th>year</th>\n",
       "      <th>month</th>\n",
       "      <th>day</th>\n",
       "      <th>day_of_week</th>\n",
       "      <th>hour</th>\n",
       "      <th>year-month-day</th>\n",
       "    </tr>\n",
       "  </thead>\n",
       "  <tbody>\n",
       "    <tr>\n",
       "      <th>0</th>\n",
       "      <td>Wed Mar 14 20:15:03 +0000 2018</td>\n",
       "      <td>2018-03-14 20:15:03</td>\n",
       "      <td>2018</td>\n",
       "      <td>3</td>\n",
       "      <td>14</td>\n",
       "      <td>2</td>\n",
       "      <td>20</td>\n",
       "      <td>2018-03-14</td>\n",
       "    </tr>\n",
       "    <tr>\n",
       "      <th>1</th>\n",
       "      <td>Wed Mar 14 20:15:03 +0000 2018</td>\n",
       "      <td>2018-03-14 20:15:03</td>\n",
       "      <td>2018</td>\n",
       "      <td>3</td>\n",
       "      <td>14</td>\n",
       "      <td>2</td>\n",
       "      <td>20</td>\n",
       "      <td>2018-03-14</td>\n",
       "    </tr>\n",
       "    <tr>\n",
       "      <th>2</th>\n",
       "      <td>Wed Mar 14 20:15:03 +0000 2018</td>\n",
       "      <td>2018-03-14 20:15:03</td>\n",
       "      <td>2018</td>\n",
       "      <td>3</td>\n",
       "      <td>14</td>\n",
       "      <td>2</td>\n",
       "      <td>20</td>\n",
       "      <td>2018-03-14</td>\n",
       "    </tr>\n",
       "    <tr>\n",
       "      <th>3</th>\n",
       "      <td>Wed Mar 14 20:15:04 +0000 2018</td>\n",
       "      <td>2018-03-14 20:15:04</td>\n",
       "      <td>2018</td>\n",
       "      <td>3</td>\n",
       "      <td>14</td>\n",
       "      <td>2</td>\n",
       "      <td>20</td>\n",
       "      <td>2018-03-14</td>\n",
       "    </tr>\n",
       "    <tr>\n",
       "      <th>4</th>\n",
       "      <td>Wed Mar 14 20:15:06 +0000 2018</td>\n",
       "      <td>2018-03-14 20:15:06</td>\n",
       "      <td>2018</td>\n",
       "      <td>3</td>\n",
       "      <td>14</td>\n",
       "      <td>2</td>\n",
       "      <td>20</td>\n",
       "      <td>2018-03-14</td>\n",
       "    </tr>\n",
       "  </tbody>\n",
       "</table>\n",
       "</div>"
      ],
      "text/plain": [
       "                       created_at created_at_timestamp  year  month  day  \\\n",
       "0  Wed Mar 14 20:15:03 +0000 2018  2018-03-14 20:15:03  2018      3   14   \n",
       "1  Wed Mar 14 20:15:03 +0000 2018  2018-03-14 20:15:03  2018      3   14   \n",
       "2  Wed Mar 14 20:15:03 +0000 2018  2018-03-14 20:15:03  2018      3   14   \n",
       "3  Wed Mar 14 20:15:04 +0000 2018  2018-03-14 20:15:04  2018      3   14   \n",
       "4  Wed Mar 14 20:15:06 +0000 2018  2018-03-14 20:15:06  2018      3   14   \n",
       "\n",
       "   day_of_week  hour year-month-day  \n",
       "0            2    20     2018-03-14  \n",
       "1            2    20     2018-03-14  \n",
       "2            2    20     2018-03-14  \n",
       "3            2    20     2018-03-14  \n",
       "4            2    20     2018-03-14  "
      ]
     },
     "execution_count": 71,
     "metadata": {},
     "output_type": "execute_result"
    }
   ],
   "source": [
    "data_ts.head()"
   ]
  },
  {
   "cell_type": "code",
   "execution_count": 81,
   "metadata": {},
   "outputs": [
    {
     "data": {
      "text/plain": [
       "Text(0.5, 1.0, 'Number of tweets by year')"
      ]
     },
     "execution_count": 81,
     "metadata": {},
     "output_type": "execute_result"
    },
    {
     "data": {
      "image/png": "[encoded data removed]",
      "text/plain": [
       "<Figure size 432x288 with 1 Axes>"
      ]
     },
     "metadata": {
      "needs_background": "light"
     },
     "output_type": "display_data"
    }
   ],
   "source": [
    "year = data_ts.groupby('year').count()['created_at']\n",
    "ax = year.plot.barh()\n",
    "ax.invert_yaxis()\n",
    "ax.set_xlabel('Number of tweets count')\n",
    "ax.set_title('Number of tweets by year')"
   ]
  },
  {
   "cell_type": "code",
   "execution_count": 80,
   "metadata": {},
   "outputs": [
    {
     "data": {
      "text/plain": [
       "Text(0.5, 1.0, 'Number of tweets by month')"
      ]
     },
     "execution_count": 80,
     "metadata": {},
     "output_type": "execute_result"
    },
    {
     "data": {
      "image/png": "[encoded data removed]",
      "text/plain": [
       "<Figure size 432x288 with 1 Axes>"
      ]
     },
     "metadata": {
      "needs_background": "light"
     },
     "output_type": "display_data"
    }
   ],
   "source": [
    "month = data_ts.groupby('month').count()['created_at']\n",
    "ax = month.plot.barh()\n",
    "ax.invert_yaxis()\n",
    "ax.set_xlabel('Number of tweets count')\n",
    "ax.set_title('Number of tweets by month')"
   ]
  },
  {
   "cell_type": "code",
   "execution_count": 79,
   "metadata": {},
   "outputs": [
    {
     "data": {
      "text/plain": [
       "Text(0.5, 1.0, 'Number of tweets by day')"
      ]
     },
     "execution_count": 79,
     "metadata": {},
     "output_type": "execute_result"
    },
    {
     "data": {
      "image/png": "[encoded data removed]",
      "text/plain": [
       "<Figure size 576x432 with 1 Axes>"
      ]
     },
     "metadata": {
      "needs_background": "light"
     },
     "output_type": "display_data"
    }
   ],
   "source": [
    "day = data_ts.groupby('day').count()['created_at']\n",
    "ax = day.plot.barh(figsize = (8,6))\n",
    "ax.invert_yaxis()\n",
    "ax.set_xlabel('Number of tweets count')\n",
    "ax.set_title('Number of tweets by day')"
   ]
  },
  {
   "cell_type": "code",
   "execution_count": 78,
   "metadata": {},
   "outputs": [
    {
     "data": {
      "text/plain": [
       "Text(0.5, 1.0, 'Number of tweets by day of week')"
      ]
     },
     "execution_count": 78,
     "metadata": {},
     "output_type": "execute_result"
    },
    {
     "data": {
      "image/png": "[encoded data removed]",
      "text/plain": [
       "<Figure size 432x288 with 1 Axes>"
      ]
     },
     "metadata": {
      "needs_background": "light"
     },
     "output_type": "display_data"
    }
   ],
   "source": [
    "dayofweek = data_ts.groupby('day_of_week').count()['created_at']\n",
    "labels = ['Mon', 'Tue', 'Wed', 'Thu', 'Fri', 'Sat', 'Sun']\n",
    "ax = dayofweek.plot.barh()\n",
    "ax.invert_yaxis()\n",
    "ax.set_yticklabels(labels)\n",
    "ax.set_xlabel('Number of tweets count')\n",
    "ax.set_title('Number of tweets by day of week')"
   ]
  },
  {
   "cell_type": "code",
   "execution_count": 77,
   "metadata": {},
   "outputs": [
    {
     "data": {
      "text/plain": [
       "Text(0.5, 1.0, 'Number of tweets by hour')"
      ]
     },
     "execution_count": 77,
     "metadata": {},
     "output_type": "execute_result"
    },
    {
     "data": {
      "image/png": "[encoded data removed]",
      "text/plain": [
       "<Figure size 576x432 with 1 Axes>"
      ]
     },
     "metadata": {
      "needs_background": "light"
     },
     "output_type": "display_data"
    }
   ],
   "source": [
    "hour = data_ts.groupby('hour').count()['created_at']\n",
    "ax = hour.plot.barh(figsize = (8,6))\n",
    "ax.invert_yaxis()\n",
    "ax.set_xlabel('Number of tweets count')\n",
    "ax.set_title('Number of tweets by hour')"
   ]
  },
  {
   "cell_type": "code",
   "execution_count": 76,
   "metadata": {},
   "outputs": [
    {
     "data": {
      "text/plain": [
       "Text(0.5, 1.0, 'Number of tweets by year-month')"
      ]
     },
     "execution_count": 76,
     "metadata": {},
     "output_type": "execute_result"
    },
    {
     "data": {
      "image/png": "[encoded data removed]",
      "text/plain": [
       "<Figure size 1440x432 with 1 Axes>"
      ]
     },
     "metadata": {
      "needs_background": "light"
     },
     "output_type": "display_data"
    }
   ],
   "source": [
    "year_month = data_ts.groupby(['year', 'month']).count()['created_at']\n",
    "ax = year_month.plot.bar(figsize = (20, 6))\n",
    "ax.set_ylabel('Number of tweets count')\n",
    "ax.set_title('Number of tweets by year-month')"
   ]
  },
  {
   "cell_type": "code",
   "execution_count": 89,
   "metadata": {},
   "outputs": [
    {
     "data": {
      "text/plain": [
       "Text(0.5, 1.0, 'Number of tweets by year-month')"
      ]
     },
     "execution_count": 89,
     "metadata": {},
     "output_type": "execute_result"
    },
    {
     "data": {
      "image/png": "[encoded data removed]",
      "text/plain": [
       "<Figure size 576x288 with 1 Axes>"
      ]
     },
     "metadata": {
      "needs_background": "light"
     },
     "output_type": "display_data"
    }
   ],
   "source": [
    "# There are three specific period has tweets fewer than 5000, let's check to see if there is any data collection gap\n",
    "# June, 2017\n",
    "df_ts0 = data_ts[(data_ts['year'] == 2017) & (data_ts['month'] == 6)]\n",
    "ts0 = df_ts0.groupby('year-month-day').count()['created_at']\n",
    "ax = ts0.plot.bar(figsize = (8, 4))\n",
    "ax.set_ylabel('Number of tweets count')\n",
    "ax.set_title('Number of tweets by year-month')"
   ]
  },
  {
   "cell_type": "markdown",
   "metadata": {},
   "source": [
    "This may be a data collection gap or a fact that the data is collected starting from June,12 2017"
   ]
  },
  {
   "cell_type": "code",
   "execution_count": 91,
   "metadata": {},
   "outputs": [
    {
     "data": {
      "text/plain": [
       "Text(0.5, 1.0, 'Number of tweets by year-month')"
      ]
     },
     "execution_count": 91,
     "metadata": {},
     "output_type": "execute_result"
    },
    {
     "data": {
      "image/png": "[encoded data removed]",
      "text/plain": [
       "<Figure size 432x288 with 1 Axes>"
      ]
     },
     "metadata": {
      "needs_background": "light"
     },
     "output_type": "display_data"
    }
   ],
   "source": [
    "# January, 2018\n",
    "df_ts1 = data_ts[(data_ts['year'] == 2018) & (data_ts['month'] == 1)]\n",
    "ts1 = df_ts1.groupby('year-month-day').count()['created_at']\n",
    "ax = ts1.plot.bar(figsize = (6, 4))\n",
    "ax.set_ylabel('Number of tweets count')\n",
    "ax.set_title('Number of tweets by year-month')"
   ]
  },
  {
   "cell_type": "markdown",
   "metadata": {},
   "source": [
    "There are more than 15,000 tweets collected in December 2017 and February 2018, while fewer than 2000 tweets have been collected in January 2018. We could definitely draw the conclusion that there is a data collection gap in January 2018. The collection gap starts from January, 06 2018 to the end of January, 2018"
   ]
  },
  {
   "cell_type": "code",
   "execution_count": 93,
   "metadata": {},
   "outputs": [
    {
     "data": {
      "text/plain": [
       "Text(0.5, 1.0, 'Number of tweets by year-month')"
      ]
     },
     "execution_count": 93,
     "metadata": {},
     "output_type": "execute_result"
    },
    {
     "data": {
      "image/png": "[encoded data removed]",
      "text/plain": [
       "<Figure size 576x288 with 1 Axes>"
      ]
     },
     "metadata": {
      "needs_background": "light"
     },
     "output_type": "display_data"
    }
   ],
   "source": [
    "# April, 2018\n",
    "df_ts2 = data_ts[(data_ts['year'] == 2018) & (data_ts['month'] == 4)]\n",
    "ts2 = df_ts2.groupby('year-month-day').count()['created_at']\n",
    "ax = ts2.plot.bar(figsize = (8, 4))\n",
    "ax.set_ylabel('Number of tweets count')\n",
    "ax.set_title('Number of tweets by year-month')"
   ]
  },
  {
   "cell_type": "markdown",
   "metadata": {},
   "source": [
    "There is also a data collection gap in April, 2018. The collection gap starting from April, 3 2018 to April, 21, 2018"
   ]
  },
  {
   "cell_type": "markdown",
   "metadata": {},
   "source": [
    "### 5). How unique are the messages for each of these universities?\n",
    "#### Are they mostly unique? Or mostly people are just copy-pasting the same text?"
   ]
  },
  {
   "cell_type": "markdown",
   "metadata": {},
   "source": [
    "#### Duplicates analysis - University of Chicago"
   ]
  },
  {
   "cell_type": "code",
   "execution_count": 34,
   "metadata": {},
   "outputs": [],
   "source": [
    "uch_df_text_raw = uchicago.select(['text'])"
   ]
  },
  {
   "cell_type": "code",
   "execution_count": 35,
   "metadata": {},
   "outputs": [],
   "source": [
    "uch_text = uch_df_text_raw.rdd.map(lambda x : x['text']).filter(lambda x: x is not None)\n",
    "\n",
    "StopWords = stopwords.words(\"english\")\n",
    "\n",
    "uch_tokens = uch_text\\\n",
    "    .map(lambda document: document.strip().lower())\\\n",
    "    .map(lambda document: re.split(\" \", document))\\\n",
    "    .map(lambda word: [x for x in word if len(x) > 1] )\\\n",
    "    .zipWithIndex()"
   ]
  },
  {
   "cell_type": "code",
   "execution_count": 36,
   "metadata": {},
   "outputs": [
    {
     "data": {
      "text/html": [
       "<table border='1'>\n",
       "<tr><th>text</th><th>id</th></tr>\n",
       "<tr><td>[So the Universit...</td><td>275362</td></tr>\n",
       "<tr><td>[RT @blmohr: 9/ T...</td><td>275363</td></tr>\n",
       "<tr><td>[RT @jadesignlovi...</td><td>275364</td></tr>\n",
       "<tr><td>[RT @blmohr: 9/ T...</td><td>275365</td></tr>\n",
       "<tr><td>[RT @blmohr: 9/ T...</td><td>275366</td></tr>\n",
       "</table>\n"
      ],
      "text/plain": [
       "+--------------------+------+\n",
       "|                text|    id|\n",
       "+--------------------+------+\n",
       "|[RT @ItssAnddreaa...|250648|\n",
       "|[RT @ItssAnddreaa...|250649|\n",
       "|[RT @PSLchicago: ...|250650|\n",
       "|[RT @PSLchicago: ...|250651|\n",
       "|[RT @PSLchicago: ...|250652|\n",
       "+--------------------+------+"
      ]
     },
     "execution_count": 36,
     "metadata": {},
     "output_type": "execute_result"
    }
   ],
   "source": [
    "row = Row('text')\n",
    "uch_df_text = uch_text.map(row).zipWithIndex().toDF(['text','id'])\n",
    "uch_df_text.limit(5)"
   ]
  },
  {
   "cell_type": "code",
   "execution_count": 37,
   "metadata": {},
   "outputs": [
    {
     "data": {
      "text/html": [
       "<div>\n",
       "<style scoped>\n",
       "    .dataframe tbody tr th:only-of-type {\n",
       "        vertical-align: middle;\n",
       "    }\n",
       "\n",
       "    .dataframe tbody tr th {\n",
       "        vertical-align: top;\n",
       "    }\n",
       "\n",
       "    .dataframe thead th {\n",
       "        text-align: right;\n",
       "    }\n",
       "</style>\n",
       "<table border=\"1\" class=\"dataframe\">\n",
       "  <thead>\n",
       "    <tr style=\"text-align: right;\">\n",
       "      <th></th>\n",
       "      <th>list_of_words</th>\n",
       "      <th>id</th>\n",
       "    </tr>\n",
       "  </thead>\n",
       "  <tbody>\n",
       "    <tr>\n",
       "      <th>0</th>\n",
       "      <td>[assistant, dean,, office, of, academic, affai...</td>\n",
       "      <td>0</td>\n",
       "    </tr>\n",
       "    <tr>\n",
       "      <th>1</th>\n",
       "      <td>[rt, @hassankanu:, new:, yale,, columbia,, uni...</td>\n",
       "      <td>1</td>\n",
       "    </tr>\n",
       "    <tr>\n",
       "      <th>2</th>\n",
       "      <td>[rt, @alanfalconx:, glory, carter,, adam, kenn...</td>\n",
       "      <td>2</td>\n",
       "    </tr>\n",
       "    <tr>\n",
       "      <th>3</th>\n",
       "      <td>[rt, @hassankanu:, new:, yale,, columbia,, uni...</td>\n",
       "      <td>3</td>\n",
       "    </tr>\n",
       "    <tr>\n",
       "      <th>4</th>\n",
       "      <td>[rt, @hassankanu:, new:, yale,, columbia,, uni...</td>\n",
       "      <td>4</td>\n",
       "    </tr>\n",
       "  </tbody>\n",
       "</table>\n",
       "</div>"
      ],
      "text/plain": [
       "                                       list_of_words  id\n",
       "0  [assistant, dean,, office, of, academic, affai...   0\n",
       "1  [rt, @hassankanu:, new:, yale,, columbia,, uni...   1\n",
       "2  [rt, @alanfalconx:, glory, carter,, adam, kenn...   2\n",
       "3  [rt, @hassankanu:, new:, yale,, columbia,, uni...   3\n",
       "4  [rt, @hassankanu:, new:, yale,, columbia,, uni...   4"
      ]
     },
     "execution_count": 37,
     "metadata": {},
     "output_type": "execute_result"
    }
   ],
   "source": [
    "uch_df_tokens = spark.createDataFrame(uch_tokens, [\"list_of_words\",'id'])\n",
    "\n",
    "#Drop records with no tokens\n",
    "uch_df_tokens = uch_df_tokens.where(col('list_of_words').getItem(0).isNotNull())\n",
    "uch_df_tokens.limit(5).toPandas()"
   ]
  },
  {
   "cell_type": "code",
   "execution_count": 38,
   "metadata": {},
   "outputs": [],
   "source": [
    "uch_vectorize = CountVectorizer(inputCol=\"list_of_words\", outputCol=\"features\", minDF=1.0)\n",
    "uch_df_vectorize = uch_vectorize.fit(uch_df_tokens).transform(uch_df_tokens)"
   ]
  },
  {
   "cell_type": "code",
   "execution_count": 39,
   "metadata": {},
   "outputs": [
    {
     "data": {
      "text/html": [
       "<div>\n",
       "<style scoped>\n",
       "    .dataframe tbody tr th:only-of-type {\n",
       "        vertical-align: middle;\n",
       "    }\n",
       "\n",
       "    .dataframe tbody tr th {\n",
       "        vertical-align: top;\n",
       "    }\n",
       "\n",
       "    .dataframe thead th {\n",
       "        text-align: right;\n",
       "    }\n",
       "</style>\n",
       "<table border=\"1\" class=\"dataframe\">\n",
       "  <thead>\n",
       "    <tr style=\"text-align: right;\">\n",
       "      <th></th>\n",
       "      <th>list_of_words</th>\n",
       "      <th>id</th>\n",
       "      <th>features</th>\n",
       "    </tr>\n",
       "  </thead>\n",
       "  <tbody>\n",
       "    <tr>\n",
       "      <th>0</th>\n",
       "      <td>[assistant, dean,, office, of, academic, affai...</td>\n",
       "      <td>0</td>\n",
       "      <td>(2.0, 1.0, 1.0, 0.0, 1.0, 0.0, 0.0, 0.0, 0.0, ...</td>\n",
       "    </tr>\n",
       "    <tr>\n",
       "      <th>1</th>\n",
       "      <td>[rt, @hassankanu:, new:, yale,, columbia,, uni...</td>\n",
       "      <td>1</td>\n",
       "      <td>(1.0, 2.0, 0.0, 1.0, 1.0, 1.0, 0.0, 0.0, 0.0, ...</td>\n",
       "    </tr>\n",
       "    <tr>\n",
       "      <th>2</th>\n",
       "      <td>[rt, @alanfalconx:, glory, carter,, adam, kenn...</td>\n",
       "      <td>2</td>\n",
       "      <td>(2.0, 1.0, 1.0, 1.0, 1.0, 0.0, 0.0, 0.0, 0.0, ...</td>\n",
       "    </tr>\n",
       "    <tr>\n",
       "      <th>3</th>\n",
       "      <td>[rt, @hassankanu:, new:, yale,, columbia,, uni...</td>\n",
       "      <td>3</td>\n",
       "      <td>(1.0, 2.0, 0.0, 1.0, 1.0, 1.0, 0.0, 0.0, 0.0, ...</td>\n",
       "    </tr>\n",
       "    <tr>\n",
       "      <th>4</th>\n",
       "      <td>[rt, @hassankanu:, new:, yale,, columbia,, uni...</td>\n",
       "      <td>4</td>\n",
       "      <td>(1.0, 2.0, 0.0, 1.0, 1.0, 1.0, 0.0, 0.0, 0.0, ...</td>\n",
       "    </tr>\n",
       "  </tbody>\n",
       "</table>\n",
       "</div>"
      ],
      "text/plain": [
       "                                       list_of_words  id  \\\n",
       "0  [assistant, dean,, office, of, academic, affai...   0   \n",
       "1  [rt, @hassankanu:, new:, yale,, columbia,, uni...   1   \n",
       "2  [rt, @alanfalconx:, glory, carter,, adam, kenn...   2   \n",
       "3  [rt, @hassankanu:, new:, yale,, columbia,, uni...   3   \n",
       "4  [rt, @hassankanu:, new:, yale,, columbia,, uni...   4   \n",
       "\n",
       "                                            features  \n",
       "0  (2.0, 1.0, 1.0, 0.0, 1.0, 0.0, 0.0, 0.0, 0.0, ...  \n",
       "1  (1.0, 2.0, 0.0, 1.0, 1.0, 1.0, 0.0, 0.0, 0.0, ...  \n",
       "2  (2.0, 1.0, 1.0, 1.0, 1.0, 0.0, 0.0, 0.0, 0.0, ...  \n",
       "3  (1.0, 2.0, 0.0, 1.0, 1.0, 1.0, 0.0, 0.0, 0.0, ...  \n",
       "4  (1.0, 2.0, 0.0, 1.0, 1.0, 1.0, 0.0, 0.0, 0.0, ...  "
      ]
     },
     "execution_count": 39,
     "metadata": {},
     "output_type": "execute_result"
    }
   ],
   "source": [
    "uch_df_vectorize.limit(5).toPandas()"
   ]
  },
  {
   "cell_type": "code",
   "execution_count": 40,
   "metadata": {},
   "outputs": [],
   "source": [
    "uch_mh = MinHashLSH(inputCol=\"features\", outputCol=\"hashes\", numHashTables=5)\n",
    "uch_model = uch_mh.fit(uch_df_vectorize)\n",
    "uch_df_hashed = uch_mh.fit(uch_df_vectorize).transform(uch_df_vectorize).cache()"
   ]
  },
  {
   "cell_type": "code",
   "execution_count": 41,
   "metadata": {},
   "outputs": [
    {
     "data": {
      "text/html": [
       "<table border='1'>\n",
       "<tr><th>id</th><th>text</th><th>list_of_words</th><th>features</th><th>hashes</th></tr>\n",
       "<tr><td>26</td><td>[Check out &quot;Unive...</td><td>[check, out, &quot;uni...</td><td>(189901,[0,4,60,7...</td><td>[[4.7945584E7], [...</td></tr>\n",
       "<tr><td>29</td><td>[RT @DrFrankLipma...</td><td>[rt, @drfranklipm...</td><td>(189901,[0,1,2,3,...</td><td>[[3.331227E7], [1...</td></tr>\n",
       "<tr><td>474</td><td>[RT @RahulGandhi:...</td><td>[rt, @rahulgandhi...</td><td>(189901,[0,1,2,3,...</td><td>[[4.7945584E7], [...</td></tr>\n",
       "<tr><td>964</td><td>[RT @RahulGandhi:...</td><td>[rt, @rahulgandhi...</td><td>(189901,[0,1,2,3,...</td><td>[[4.7945584E7], [...</td></tr>\n",
       "<tr><td>1677</td><td>[RT @RahulGandhi:...</td><td>[rt, @rahulgandhi...</td><td>(189901,[0,1,2,3,...</td><td>[[4.7945584E7], [...</td></tr>\n",
       "</table>\n"
      ],
      "text/plain": [
       "+----+--------------------+--------------------+--------------------+--------------------+\n",
       "|  id|                text|       list_of_words|            features|              hashes|\n",
       "+----+--------------------+--------------------+--------------------+--------------------+\n",
       "|  26|[Check out \"Unive...|[check, out, \"uni...|(189901,[0,4,60,7...|[[4.7945584E7], [...|\n",
       "|  29|[RT @DrFrankLipma...|[rt, @drfranklipm...|(189901,[0,1,2,3,...|[[3.331227E7], [1...|\n",
       "| 474|[RT @RahulGandhi:...|[rt, @rahulgandhi...|(189901,[0,1,2,3,...|[[4.7945584E7], [...|\n",
       "| 964|[RT @RahulGandhi:...|[rt, @rahulgandhi...|(189901,[0,1,2,3,...|[[4.7945584E7], [...|\n",
       "|1677|[RT @RahulGandhi:...|[rt, @rahulgandhi...|(189901,[0,1,2,3,...|[[4.7945584E7], [...|\n",
       "+----+--------------------+--------------------+--------------------+--------------------+"
      ]
     },
     "execution_count": 41,
     "metadata": {},
     "output_type": "execute_result"
    }
   ],
   "source": [
    "uch_df_hashed_text = uch_df_text.join(uch_df_hashed, \"id\", how = 'left').cache()\n",
    "uch_df_hashed_text.limit(5)"
   ]
  },
  {
   "cell_type": "code",
   "execution_count": 42,
   "metadata": {},
   "outputs": [],
   "source": [
    "jaccard_distance = 0.3\n",
    "\n",
    "uch_df_dups_text = uch_model.approxSimilarityJoin(uch_df_hashed_text, uch_df_hashed_text, jaccard_distance).filter(\"datasetA.id < datasetB.id\").select(\n",
    "            col(\"distCol\"),\n",
    "            col(\"datasetA.id\").alias(\"id_A\"),\n",
    "            col(\"datasetB.id\").alias(\"id_B\"),\n",
    "            col('datasetA.text').alias('text_A'),\n",
    "            col('datasetB.text').alias('text_B')\n",
    "            )"
   ]
  },
  {
   "cell_type": "code",
   "execution_count": null,
   "metadata": {},
   "outputs": [
    {
     "name": "stdout",
     "output_type": "stream",
     "text": [
      "Total records:  299669\n",
      "Duplicate titles based on { 0.3 } jaccard distance:  192425\n",
      "Unique titles based on { 0.3 } jaccard distance:  0.3 :  107244\n"
     ]
    }
   ],
   "source": [
    "uch_records = uch_df_hashed_text.count()\n",
    "uch_dups = uch_df_dups_text.select('id_A').distinct().count()\n",
    "uch_uniques = uch_records - uch_dups\n",
    "\n",
    "print ('Total records: ', uch_records)\n",
    "print ('Duplicate titles based on {', jaccard_distance, '} jaccard distance: ', uch_dups)\n",
    "print ('Unique titles based on {', jaccard_distance, '} jaccard distance: ', jaccard_distance, ': ', uch_uniques)"
   ]
  },
  {
   "cell_type": "code",
   "execution_count": null,
   "metadata": {},
   "outputs": [
    {
     "data": {
      "image/png": "[encoded data removed]",
      "text/plain": [
       "<Figure size 432x288 with 1 Axes>"
      ]
     },
     "metadata": {
      "needs_background": "light"
     },
     "output_type": "display_data"
    }
   ],
   "source": [
    "uch_dups_df = pd.DataFrame.from_dict({'near_dups': [uch_dups], 'unique': [uch_uniques]})\n",
    "\n",
    "ax = uch_dups_df.plot(kind = 'bar',y=['near_dups', 'unique'], fontsize=10, color=['C0', 'C1'], align='center', width=0.8)\n",
    "ax.set_title('Tweets duplication analysis - University of Chicago', fontsize=15)\n",
    "ax.set_xlabel(\"Duplicates vs. Unique\")\n",
    "for p in ax.patches:\n",
    "       ax.annotate(format(p.get_height(), '.1f'), \n",
    "                   (p.get_x() + p.get_width() / 2., p.get_height()/2), \n",
    "                   ha = 'center', va = 'center', \n",
    "                   xytext = (0, 9), \n",
    "                   textcoords = 'offset points') "
   ]
  },
  {
   "cell_type": "markdown",
   "metadata": {},
   "source": [
    "#### Duplicate analysis - Northwestern University"
   ]
  },
  {
   "cell_type": "code",
   "execution_count": null,
   "metadata": {},
   "outputs": [],
   "source": [
    "nw_df_text_raw = northwestern.select(['text'])"
   ]
  },
  {
   "cell_type": "code",
   "execution_count": null,
   "metadata": {},
   "outputs": [],
   "source": [
    "nw_text = nw_df_text_raw.rdd.map(lambda x : x['text']).filter(lambda x: x is not None)\n",
    "\n",
    "StopWords = stopwords.words(\"english\")\n",
    "\n",
    "nw_tokens = nw_text\\\n",
    "    .map(lambda document: document.strip().lower())\\\n",
    "    .map(lambda document: re.split(\" \", document))\\\n",
    "    .map(lambda word: [x for x in word if len(x) > 1] )\\\n",
    "    .zipWithIndex()"
   ]
  },
  {
   "cell_type": "code",
   "execution_count": null,
   "metadata": {},
   "outputs": [
    {
     "data": {
      "text/html": [
       "<table border='1'>\n",
       "<tr><th>text</th><th>id</th></tr>\n",
       "<tr><td>[RT @argohs217: C...</td><td>128406</td></tr>\n",
       "<tr><td>[Northwestern Uni...</td><td>128407</td></tr>\n",
       "<tr><td>[New artwork for ...</td><td>128408</td></tr>\n",
       "<tr><td>[@BauhausMovement...</td><td>128409</td></tr>\n",
       "<tr><td>[Northwestern Uni...</td><td>128410</td></tr>\n",
       "</table>\n"
      ],
      "text/plain": [
       "+--------------------+-----+\n",
       "|                text|   id|\n",
       "+--------------------+-----+\n",
       "|[@ladyrocksavage ...|54673|\n",
       "|[RT @SussexPrince...|54674|\n",
       "|[RT @SussexPrince...|54675|\n",
       "|[Ava is a 6th yea...|54676|\n",
       "|[Ava is a 6th yea...|54677|\n",
       "+--------------------+-----+"
      ]
     },
     "execution_count": 47,
     "metadata": {},
     "output_type": "execute_result"
    }
   ],
   "source": [
    "row = Row('text')\n",
    "nw_df_text = nw_text.map(row).zipWithIndex().toDF(['text','id'])\n",
    "nw_df_text.limit(5)"
   ]
  },
  {
   "cell_type": "code",
   "execution_count": null,
   "metadata": {},
   "outputs": [
    {
     "data": {
      "text/html": [
       "<div>\n",
       "<style scoped>\n",
       "    .dataframe tbody tr th:only-of-type {\n",
       "        vertical-align: middle;\n",
       "    }\n",
       "\n",
       "    .dataframe tbody tr th {\n",
       "        vertical-align: top;\n",
       "    }\n",
       "\n",
       "    .dataframe thead th {\n",
       "        text-align: right;\n",
       "    }\n",
       "</style>\n",
       "<table border=\"1\" class=\"dataframe\">\n",
       "  <thead>\n",
       "    <tr style=\"text-align: right;\">\n",
       "      <th></th>\n",
       "      <th>list_of_words</th>\n",
       "      <th>id</th>\n",
       "    </tr>\n",
       "  </thead>\n",
       "  <tbody>\n",
       "    <tr>\n",
       "      <th>0</th>\n",
       "      <td>[rt, @evan_rosenfeld:, breaking:, northwestern...</td>\n",
       "      <td>0</td>\n",
       "    </tr>\n",
       "    <tr>\n",
       "      <th>1</th>\n",
       "      <td>[rt, @dianexlston:, also, feel, like?, we, pro...</td>\n",
       "      <td>1</td>\n",
       "    </tr>\n",
       "    <tr>\n",
       "      <th>2</th>\n",
       "      <td>[rt, @chicagotribune:, breaking:, police, resp...</td>\n",
       "      <td>2</td>\n",
       "    </tr>\n",
       "    <tr>\n",
       "      <th>3</th>\n",
       "      <td>[rt, @tpm:, northwestern, university, reports,...</td>\n",
       "      <td>3</td>\n",
       "    </tr>\n",
       "    <tr>\n",
       "      <th>4</th>\n",
       "      <td>[breaking:, northwestern, university, confirms...</td>\n",
       "      <td>4</td>\n",
       "    </tr>\n",
       "  </tbody>\n",
       "</table>\n",
       "</div>"
      ],
      "text/plain": [
       "                                       list_of_words  id\n",
       "0  [rt, @evan_rosenfeld:, breaking:, northwestern...   0\n",
       "1  [rt, @dianexlston:, also, feel, like?, we, pro...   1\n",
       "2  [rt, @chicagotribune:, breaking:, police, resp...   2\n",
       "3  [rt, @tpm:, northwestern, university, reports,...   3\n",
       "4  [breaking:, northwestern, university, confirms...   4"
      ]
     },
     "execution_count": 48,
     "metadata": {},
     "output_type": "execute_result"
    }
   ],
   "source": [
    "nw_df_tokens = spark.createDataFrame(nw_tokens, [\"list_of_words\",'id'])\n",
    "\n",
    "#Drop records with no tokens\n",
    "nw_df_tokens = nw_df_tokens.where(col('list_of_words').getItem(0).isNotNull())\n",
    "nw_df_tokens.limit(5).toPandas()"
   ]
  },
  {
   "cell_type": "code",
   "execution_count": null,
   "metadata": {},
   "outputs": [],
   "source": [
    "nw_vectorize = CountVectorizer(inputCol=\"list_of_words\", outputCol=\"features\", minDF=1.0)\n",
    "nw_df_vectorize = nw_vectorize.fit(nw_df_tokens).transform(nw_df_tokens)"
   ]
  },
  {
   "cell_type": "code",
   "execution_count": null,
   "metadata": {},
   "outputs": [
    {
     "data": {
      "text/html": [
       "<div>\n",
       "<style scoped>\n",
       "    .dataframe tbody tr th:only-of-type {\n",
       "        vertical-align: middle;\n",
       "    }\n",
       "\n",
       "    .dataframe tbody tr th {\n",
       "        vertical-align: top;\n",
       "    }\n",
       "\n",
       "    .dataframe thead th {\n",
       "        text-align: right;\n",
       "    }\n",
       "</style>\n",
       "<table border=\"1\" class=\"dataframe\">\n",
       "  <thead>\n",
       "    <tr style=\"text-align: right;\">\n",
       "      <th></th>\n",
       "      <th>list_of_words</th>\n",
       "      <th>id</th>\n",
       "      <th>features</th>\n",
       "    </tr>\n",
       "  </thead>\n",
       "  <tbody>\n",
       "    <tr>\n",
       "      <th>0</th>\n",
       "      <td>[rt, @evan_rosenfeld:, breaking:, northwestern...</td>\n",
       "      <td>0</td>\n",
       "      <td>(1.0, 1.0, 1.0, 2.0, 0.0, 0.0, 0.0, 0.0, 0.0, ...</td>\n",
       "    </tr>\n",
       "    <tr>\n",
       "      <th>1</th>\n",
       "      <td>[rt, @dianexlston:, also, feel, like?, we, pro...</td>\n",
       "      <td>1</td>\n",
       "      <td>(1.0, 1.0, 1.0, 1.0, 0.0, 0.0, 1.0, 0.0, 0.0, ...</td>\n",
       "    </tr>\n",
       "    <tr>\n",
       "      <th>2</th>\n",
       "      <td>[rt, @chicagotribune:, breaking:, police, resp...</td>\n",
       "      <td>2</td>\n",
       "      <td>(1.0, 1.0, 1.0, 1.0, 1.0, 0.0, 1.0, 0.0, 0.0, ...</td>\n",
       "    </tr>\n",
       "    <tr>\n",
       "      <th>3</th>\n",
       "      <td>[rt, @tpm:, northwestern, university, reports,...</td>\n",
       "      <td>3</td>\n",
       "      <td>(1.0, 1.0, 1.0, 0.0, 0.0, 0.0, 0.0, 0.0, 0.0, ...</td>\n",
       "    </tr>\n",
       "    <tr>\n",
       "      <th>4</th>\n",
       "      <td>[breaking:, northwestern, university, confirms...</td>\n",
       "      <td>4</td>\n",
       "      <td>(1.0, 0.0, 1.0, 1.0, 0.0, 0.0, 0.0, 0.0, 0.0, ...</td>\n",
       "    </tr>\n",
       "  </tbody>\n",
       "</table>\n",
       "</div>"
      ],
      "text/plain": [
       "                                       list_of_words  id  \\\n",
       "0  [rt, @evan_rosenfeld:, breaking:, northwestern...   0   \n",
       "1  [rt, @dianexlston:, also, feel, like?, we, pro...   1   \n",
       "2  [rt, @chicagotribune:, breaking:, police, resp...   2   \n",
       "3  [rt, @tpm:, northwestern, university, reports,...   3   \n",
       "4  [breaking:, northwestern, university, confirms...   4   \n",
       "\n",
       "                                            features  \n",
       "0  (1.0, 1.0, 1.0, 2.0, 0.0, 0.0, 0.0, 0.0, 0.0, ...  \n",
       "1  (1.0, 1.0, 1.0, 1.0, 0.0, 0.0, 1.0, 0.0, 0.0, ...  \n",
       "2  (1.0, 1.0, 1.0, 1.0, 1.0, 0.0, 1.0, 0.0, 0.0, ...  \n",
       "3  (1.0, 1.0, 1.0, 0.0, 0.0, 0.0, 0.0, 0.0, 0.0, ...  \n",
       "4  (1.0, 0.0, 1.0, 1.0, 0.0, 0.0, 0.0, 0.0, 0.0, ...  "
      ]
     },
     "execution_count": 50,
     "metadata": {},
     "output_type": "execute_result"
    }
   ],
   "source": [
    "nw_df_vectorize.limit(5).toPandas()"
   ]
  },
  {
   "cell_type": "code",
   "execution_count": null,
   "metadata": {},
   "outputs": [],
   "source": [
    "nw_mh = MinHashLSH(inputCol=\"features\", outputCol=\"hashes\", numHashTables=5)\n",
    "nw_model = nw_mh.fit(nw_df_vectorize)\n",
    "nw_df_hashed = nw_mh.fit(nw_df_vectorize).transform(nw_df_vectorize).cache()"
   ]
  },
  {
   "cell_type": "code",
   "execution_count": null,
   "metadata": {},
   "outputs": [
    {
     "data": {
      "text/html": [
       "<table border='1'>\n",
       "<tr><th>id</th><th>text</th><th>list_of_words</th><th>features</th><th>hashes</th></tr>\n",
       "<tr><td>112</td><td>[RT @AlBoeNEWS: #...</td><td>[rt, @alboenews:,...</td><td>(97972,[0,1,2,6,7...</td><td>[[4.7945584E7], [...</td></tr>\n",
       "<tr><td>113</td><td>[RT @KTLA: There&#x27;...</td><td>[rt, @ktla:, ther...</td><td>(97972,[0,1,2,3,5...</td><td>[[515903.0], [1.4...</td></tr>\n",
       "<tr><td>155</td><td>[#DEVELOPING: Eme...</td><td>[#developing:, em...</td><td>(97972,[0,11,15,3...</td><td>[[4.7945584E7], [...</td></tr>\n",
       "<tr><td>167</td><td>[RT @AlBoeNEWS: #...</td><td>[rt, @alboenews:,...</td><td>(97972,[0,1,6,7,1...</td><td>[[4.7945584E7], [...</td></tr>\n",
       "<tr><td>299</td><td>[RT @NPR: Northwe...</td><td>[rt, @npr:, north...</td><td>(97972,[0,1,3,4,7...</td><td>[[4.7945584E7], [...</td></tr>\n",
       "</table>\n"
      ],
      "text/plain": [
       "+----+--------------------+--------------------+--------------------+--------------------+\n",
       "|  id|                text|       list_of_words|            features|              hashes|\n",
       "+----+--------------------+--------------------+--------------------+--------------------+\n",
       "| 361|[RT @AlBoeNEWS: #...|[rt, @alboenews:,...|(97972,[0,1,6,7,1...|[[4.7945584E7], [...|\n",
       "| 644|[RT @NPR: Northwe...|[rt, @npr:, north...|(97972,[0,1,3,4,7...|[[4.7945584E7], [...|\n",
       "|1045|[RT @CBSNews: DEV...|[rt, @cbsnews:, d...|(97972,[0,1,2,3,1...|[[3.1294153E7], [...|\n",
       "|1498|[RT @Quadrant4cha...|[rt, @quadrant4ch...|(97972,[0,1,2,3,1...|[[3.1294153E7], [...|\n",
       "|2147|[AP: Northwestern...|[ap:, northwester...|(97972,[0,2,3,4,1...|[[3.1294153E7], [...|\n",
       "+----+--------------------+--------------------+--------------------+--------------------+"
      ]
     },
     "execution_count": 52,
     "metadata": {},
     "output_type": "execute_result"
    }
   ],
   "source": [
    "nw_df_hashed_text = nw_df_text.join(nw_df_hashed, \"id\", how = 'left').cache()\n",
    "nw_df_hashed_text.limit(5)"
   ]
  },
  {
   "cell_type": "code",
   "execution_count": null,
   "metadata": {},
   "outputs": [],
   "source": [
    "jaccard_distance = 0.3\n",
    "\n",
    "nw_df_dups_text = nw_model.approxSimilarityJoin(nw_df_hashed_text, nw_df_hashed_text, jaccard_distance).filter(\"datasetA.id < datasetB.id\").select(\n",
    "            col(\"distCol\"),\n",
    "            col(\"datasetA.id\").alias(\"id_A\"),\n",
    "            col(\"datasetB.id\").alias(\"id_B\"),\n",
    "            col('datasetA.text').alias('text_A'),\n",
    "            col('datasetB.text').alias('text_B')\n",
    "            )"
   ]
  },
  {
   "cell_type": "code",
   "execution_count": null,
   "metadata": {},
   "outputs": [
    {
     "data": {
      "text/html": [
       "<div>\n",
       "<style scoped>\n",
       "    .dataframe tbody tr th:only-of-type {\n",
       "        vertical-align: middle;\n",
       "    }\n",
       "\n",
       "    .dataframe tbody tr th {\n",
       "        vertical-align: top;\n",
       "    }\n",
       "\n",
       "    .dataframe thead th {\n",
       "        text-align: right;\n",
       "    }\n",
       "</style>\n",
       "<table border=\"1\" class=\"dataframe\">\n",
       "  <thead>\n",
       "    <tr style=\"text-align: right;\">\n",
       "      <th></th>\n",
       "      <th>distCol</th>\n",
       "      <th>id_A</th>\n",
       "      <th>id_B</th>\n",
       "      <th>text_A</th>\n",
       "      <th>text_B</th>\n",
       "    </tr>\n",
       "  </thead>\n",
       "  <tbody>\n",
       "    <tr>\n",
       "      <th>0</th>\n",
       "      <td>0.0</td>\n",
       "      <td>93942</td>\n",
       "      <td>101415</td>\n",
       "      <td>(RT @blakewes8: Blessed to receive a D1 offer ...</td>\n",
       "      <td>(RT @blakewes8: Blessed to receive a D1 offer ...</td>\n",
       "    </tr>\n",
       "    <tr>\n",
       "      <th>1</th>\n",
       "      <td>0.0</td>\n",
       "      <td>18263</td>\n",
       "      <td>32839</td>\n",
       "      <td>(RT @LaCharles88: The new dean of Northwestern...</td>\n",
       "      <td>(RT @LaCharles88: The new dean of Northwestern...</td>\n",
       "    </tr>\n",
       "    <tr>\n",
       "      <th>2</th>\n",
       "      <td>0.0</td>\n",
       "      <td>17860</td>\n",
       "      <td>18262</td>\n",
       "      <td>(RT @LaCharles88: The new dean of Northwestern...</td>\n",
       "      <td>(RT @LaCharles88: The new dean of Northwestern...</td>\n",
       "    </tr>\n",
       "    <tr>\n",
       "      <th>3</th>\n",
       "      <td>0.0</td>\n",
       "      <td>17860</td>\n",
       "      <td>23232</td>\n",
       "      <td>(RT @LaCharles88: The new dean of Northwestern...</td>\n",
       "      <td>(RT @LaCharles88: The new dean of Northwestern...</td>\n",
       "    </tr>\n",
       "    <tr>\n",
       "      <th>4</th>\n",
       "      <td>0.0</td>\n",
       "      <td>11826</td>\n",
       "      <td>18263</td>\n",
       "      <td>(RT @LaCharles88: The new dean of Northwestern...</td>\n",
       "      <td>(RT @LaCharles88: The new dean of Northwestern...</td>\n",
       "    </tr>\n",
       "  </tbody>\n",
       "</table>\n",
       "</div>"
      ],
      "text/plain": [
       "   distCol   id_A    id_B                                             text_A  \\\n",
       "0      0.0  93942  101415  (RT @blakewes8: Blessed to receive a D1 offer ...   \n",
       "1      0.0  18263   32839  (RT @LaCharles88: The new dean of Northwestern...   \n",
       "2      0.0  17860   18262  (RT @LaCharles88: The new dean of Northwestern...   \n",
       "3      0.0  17860   23232  (RT @LaCharles88: The new dean of Northwestern...   \n",
       "4      0.0  11826   18263  (RT @LaCharles88: The new dean of Northwestern...   \n",
       "\n",
       "                                              text_B  \n",
       "0  (RT @blakewes8: Blessed to receive a D1 offer ...  \n",
       "1  (RT @LaCharles88: The new dean of Northwestern...  \n",
       "2  (RT @LaCharles88: The new dean of Northwestern...  \n",
       "3  (RT @LaCharles88: The new dean of Northwestern...  \n",
       "4  (RT @LaCharles88: The new dean of Northwestern...  "
      ]
     },
     "execution_count": 54,
     "metadata": {},
     "output_type": "execute_result"
    }
   ],
   "source": [
    "nw_df_dups_text.cache()\n",
    "nw_df_dups_text.limit(5).toPandas()"
   ]
  },
  {
   "cell_type": "code",
   "execution_count": null,
   "metadata": {},
   "outputs": [
    {
     "name": "stdout",
     "output_type": "stream",
     "text": [
      "Total records:  129098\n",
      "Duplicate titles based on { 0.3 } jaccard distance:  86833\n",
      "Unique titles based on { 0.3 } jaccard distance:  0.3 :  42265\n"
     ]
    }
   ],
   "source": [
    "nw_records = nw_df_hashed_text.count()\n",
    "nw_dups = nw_df_dups_text.select('id_A').distinct().count()\n",
    "nw_uniques = nw_records - nw_dups\n",
    "\n",
    "print ('Total records: ', nw_records)\n",
    "print ('Duplicate titles based on {', jaccard_distance, '} jaccard distance: ', nw_dups)\n",
    "print ('Unique titles based on {', jaccard_distance, '} jaccard distance: ', jaccard_distance, ': ', nw_uniques)"
   ]
  },
  {
   "cell_type": "code",
   "execution_count": null,
   "metadata": {},
   "outputs": [
    {
     "data": {
      "image/png": "[encoded data removed]",
      "text/plain": [
       "<Figure size 432x288 with 1 Axes>"
      ]
     },
     "metadata": {
      "needs_background": "light"
     },
     "output_type": "display_data"
    }
   ],
   "source": [
    "nw_dups_df = pd.DataFrame.from_dict({'near_dups': [nw_dups], 'unique': [nw_uniques]})\n",
    "\n",
    "ax = nw_dups_df.plot(kind = 'bar',y=['near_dups', 'unique'], fontsize=10, color=['C0', 'C1'], align='center', width=0.8)\n",
    "ax.set_title('Tweets duplication analysis - Northwestern University', fontsize=15)\n",
    "ax.set_xlabel(\"Duplicates vs. Unique\")\n",
    "for p in ax.patches:\n",
    "       ax.annotate(format(p.get_height(), '.1f'), \n",
    "                   (p.get_x() + p.get_width() / 2., p.get_height()/2), \n",
    "                   ha = 'center', va = 'center', \n",
    "                   xytext = (0, 9), \n",
    "                   textcoords = 'offset points') "
   ]
  },
  {
   "cell_type": "markdown",
   "metadata": {},
   "source": [
    "#### Duplicate Analysis - Boston University"
   ]
  },
  {
   "cell_type": "code",
   "execution_count": 18,
   "metadata": {},
   "outputs": [],
   "source": [
    "bos_df_text_raw = boston.select(['text'])"
   ]
  },
  {
   "cell_type": "code",
   "execution_count": 19,
   "metadata": {},
   "outputs": [],
   "source": [
    "bos_text = bos_df_text_raw.rdd.map(lambda x : x['text']).filter(lambda x: x is not None)\n",
    "\n",
    "StopWords = stopwords.words(\"english\")\n",
    "\n",
    "bos_tokens = bos_text\\\n",
    "    .map(lambda document: document.strip().lower())\\\n",
    "    .map(lambda document: re.split(\" \", document))\\\n",
    "    .map(lambda word: [x for x in word if len(x) > 1] )\\\n",
    "    .zipWithIndex()"
   ]
  },
  {
   "cell_type": "code",
   "execution_count": null,
   "metadata": {},
   "outputs": [
    {
     "data": {
      "text/html": [
       "<table border='1'>\n",
       "<tr><th>text</th><th>id</th></tr>\n",
       "<tr><td>[RT @umichwsoccer...</td><td>299195</td></tr>\n",
       "<tr><td>[RT @umichwsoccer...</td><td>299196</td></tr>\n",
       "<tr><td>[RT @umichwsoccer...</td><td>299197</td></tr>\n",
       "<tr><td>[RT @umichwsoccer...</td><td>299198</td></tr>\n",
       "<tr><td>[RT @duxfeminafac...</td><td>299199</td></tr>\n",
       "</table>\n"
      ],
      "text/plain": [
       "+--------------------+------+\n",
       "|                text|    id|\n",
       "+--------------------+------+\n",
       "|[RT @ARTIBA_Insig...|116921|\n",
       "|[the fact i gave ...|116922|\n",
       "|[In the Northeast...|116923|\n",
       "|[RT @pacificbizne...|116924|\n",
       "|[RT @chnews: Hobe...|116925|\n",
       "+--------------------+------+"
      ]
     },
     "execution_count": 20,
     "metadata": {},
     "output_type": "execute_result"
    }
   ],
   "source": [
    "row = Row('text')\n",
    "bos_df_text = bos_text.map(row).zipWithIndex().toDF(['text','id'])\n",
    "bos_df_text.limit(5)"
   ]
  },
  {
   "cell_type": "code",
   "execution_count": null,
   "metadata": {},
   "outputs": [
    {
     "data": {
      "text/html": [
       "<div>\n",
       "<style scoped>\n",
       "    .dataframe tbody tr th:only-of-type {\n",
       "        vertical-align: middle;\n",
       "    }\n",
       "\n",
       "    .dataframe tbody tr th {\n",
       "        vertical-align: top;\n",
       "    }\n",
       "\n",
       "    .dataframe thead th {\n",
       "        text-align: right;\n",
       "    }\n",
       "</style>\n",
       "<table border=\"1\" class=\"dataframe\">\n",
       "  <thead>\n",
       "    <tr style=\"text-align: right;\">\n",
       "      <th></th>\n",
       "      <th>list_of_words</th>\n",
       "      <th>id</th>\n",
       "    </tr>\n",
       "  </thead>\n",
       "  <tbody>\n",
       "    <tr>\n",
       "      <th>0</th>\n",
       "      <td>[rt, @stagswomenslax:, gameday, vs., boston, u...</td>\n",
       "      <td>0</td>\n",
       "    </tr>\n",
       "    <tr>\n",
       "      <th>1</th>\n",
       "      <td>[rt, @knopovanita:, boston, university, medica...</td>\n",
       "      <td>1</td>\n",
       "    </tr>\n",
       "    <tr>\n",
       "      <th>2</th>\n",
       "      <td>[rt, @knopovanita:, boston, university, medica...</td>\n",
       "      <td>2</td>\n",
       "    </tr>\n",
       "    <tr>\n",
       "      <th>3</th>\n",
       "      <td>[rt, @tatianamoylan:, #nationalwalkout, day, a...</td>\n",
       "      <td>3</td>\n",
       "    </tr>\n",
       "    <tr>\n",
       "      <th>4</th>\n",
       "      <td>[rt, @tatianamoylan:, #nationalwalkout, day, a...</td>\n",
       "      <td>4</td>\n",
       "    </tr>\n",
       "  </tbody>\n",
       "</table>\n",
       "</div>"
      ],
      "text/plain": [
       "                                       list_of_words  id\n",
       "0  [rt, @stagswomenslax:, gameday, vs., boston, u...   0\n",
       "1  [rt, @knopovanita:, boston, university, medica...   1\n",
       "2  [rt, @knopovanita:, boston, university, medica...   2\n",
       "3  [rt, @tatianamoylan:, #nationalwalkout, day, a...   3\n",
       "4  [rt, @tatianamoylan:, #nationalwalkout, day, a...   4"
      ]
     },
     "execution_count": 21,
     "metadata": {},
     "output_type": "execute_result"
    }
   ],
   "source": [
    "bos_df_tokens = spark.createDataFrame(bos_tokens, [\"list_of_words\",'id'])\n",
    "\n",
    "#Drop records with no tokens\n",
    "bos_df_tokens = bos_df_tokens.where(col('list_of_words').getItem(0).isNotNull())\n",
    "bos_df_tokens.limit(5).toPandas()"
   ]
  },
  {
   "cell_type": "code",
   "execution_count": null,
   "metadata": {},
   "outputs": [],
   "source": [
    "bos_vectorize = CountVectorizer(inputCol=\"list_of_words\", outputCol=\"features\", minDF=1.0)\n",
    "bos_df_vectorize = bos_vectorize.fit(bos_df_tokens).transform(bos_df_tokens)"
   ]
  },
  {
   "cell_type": "code",
   "execution_count": null,
   "metadata": {},
   "outputs": [
    {
     "data": {
      "text/html": [
       "<div>\n",
       "<style scoped>\n",
       "    .dataframe tbody tr th:only-of-type {\n",
       "        vertical-align: middle;\n",
       "    }\n",
       "\n",
       "    .dataframe tbody tr th {\n",
       "        vertical-align: top;\n",
       "    }\n",
       "\n",
       "    .dataframe thead th {\n",
       "        text-align: right;\n",
       "    }\n",
       "</style>\n",
       "<table border=\"1\" class=\"dataframe\">\n",
       "  <thead>\n",
       "    <tr style=\"text-align: right;\">\n",
       "      <th></th>\n",
       "      <th>list_of_words</th>\n",
       "      <th>id</th>\n",
       "      <th>features</th>\n",
       "    </tr>\n",
       "  </thead>\n",
       "  <tbody>\n",
       "    <tr>\n",
       "      <th>0</th>\n",
       "      <td>[rt, @stagswomenslax:, gameday, vs., boston, u...</td>\n",
       "      <td>0</td>\n",
       "      <td>(1.0, 0.0, 1.0, 0.0, 0.0, 0.0, 0.0, 0.0, 0.0, ...</td>\n",
       "    </tr>\n",
       "    <tr>\n",
       "      <th>1</th>\n",
       "      <td>[rt, @knopovanita:, boston, university, medica...</td>\n",
       "      <td>1</td>\n",
       "      <td>(1.0, 1.0, 1.0, 0.0, 0.0, 0.0, 0.0, 0.0, 0.0, ...</td>\n",
       "    </tr>\n",
       "    <tr>\n",
       "      <th>2</th>\n",
       "      <td>[rt, @knopovanita:, boston, university, medica...</td>\n",
       "      <td>2</td>\n",
       "      <td>(1.0, 1.0, 1.0, 0.0, 0.0, 0.0, 0.0, 0.0, 0.0, ...</td>\n",
       "    </tr>\n",
       "    <tr>\n",
       "      <th>3</th>\n",
       "      <td>[rt, @tatianamoylan:, #nationalwalkout, day, a...</td>\n",
       "      <td>3</td>\n",
       "      <td>(1.0, 1.0, 1.0, 0.0, 0.0, 0.0, 0.0, 1.0, 0.0, ...</td>\n",
       "    </tr>\n",
       "    <tr>\n",
       "      <th>4</th>\n",
       "      <td>[rt, @tatianamoylan:, #nationalwalkout, day, a...</td>\n",
       "      <td>4</td>\n",
       "      <td>(1.0, 1.0, 1.0, 0.0, 0.0, 0.0, 0.0, 1.0, 0.0, ...</td>\n",
       "    </tr>\n",
       "  </tbody>\n",
       "</table>\n",
       "</div>"
      ],
      "text/plain": [
       "                                       list_of_words  id  \\\n",
       "0  [rt, @stagswomenslax:, gameday, vs., boston, u...   0   \n",
       "1  [rt, @knopovanita:, boston, university, medica...   1   \n",
       "2  [rt, @knopovanita:, boston, university, medica...   2   \n",
       "3  [rt, @tatianamoylan:, #nationalwalkout, day, a...   3   \n",
       "4  [rt, @tatianamoylan:, #nationalwalkout, day, a...   4   \n",
       "\n",
       "                                            features  \n",
       "0  (1.0, 0.0, 1.0, 0.0, 0.0, 0.0, 0.0, 0.0, 0.0, ...  \n",
       "1  (1.0, 1.0, 1.0, 0.0, 0.0, 0.0, 0.0, 0.0, 0.0, ...  \n",
       "2  (1.0, 1.0, 1.0, 0.0, 0.0, 0.0, 0.0, 0.0, 0.0, ...  \n",
       "3  (1.0, 1.0, 1.0, 0.0, 0.0, 0.0, 0.0, 1.0, 0.0, ...  \n",
       "4  (1.0, 1.0, 1.0, 0.0, 0.0, 0.0, 0.0, 1.0, 0.0, ...  "
      ]
     },
     "execution_count": 23,
     "metadata": {},
     "output_type": "execute_result"
    }
   ],
   "source": [
    "bos_df_vectorize.limit(5).toPandas()"
   ]
  },
  {
   "cell_type": "code",
   "execution_count": null,
   "metadata": {},
   "outputs": [],
   "source": [
    "bos_mh = MinHashLSH(inputCol=\"features\", outputCol=\"hashes\", numHashTables=5)\n",
    "bos_model = bos_mh.fit(bos_df_vectorize)\n",
    "bos_df_hashed = bos_mh.fit(bos_df_vectorize).transform(bos_df_vectorize).cache()"
   ]
  },
  {
   "cell_type": "code",
   "execution_count": null,
   "metadata": {},
   "outputs": [
    {
     "data": {
      "text/html": [
       "<table border='1'>\n",
       "<tr><th>id</th><th>text</th><th>list_of_words</th><th>features</th><th>hashes</th></tr>\n",
       "<tr><td>19</td><td>[RT @lindseyadler...</td><td>[rt, @lindseyadle...</td><td>(233668,[0,1,2,3,...</td><td>[[4.7945584E7], [...</td></tr>\n",
       "<tr><td>54</td><td>[RT @DanWetzel: A...</td><td>[rt, @danwetzel:,...</td><td>(233668,[0,2,6,10...</td><td>[[4.7945584E7], [...</td></tr>\n",
       "<tr><td>296</td><td>[RT @DanWetzel: A...</td><td>[rt, @danwetzel:,...</td><td>(233668,[0,2,6,10...</td><td>[[4.7945584E7], [...</td></tr>\n",
       "<tr><td>926</td><td>[RT @DanWetzel: A...</td><td>[rt, @danwetzel:,...</td><td>(233668,[0,2,6,10...</td><td>[[4.7945584E7], [...</td></tr>\n",
       "<tr><td>965</td><td>[RT @rwesthead: B...</td><td>[rt, @rwesthead:,...</td><td>(233668,[0,1,2,7,...</td><td>[[4.7945584E7], [...</td></tr>\n",
       "</table>\n"
      ],
      "text/plain": [
       "+---+--------------------+--------------------+--------------------+--------------------+\n",
       "| id|                text|       list_of_words|            features|              hashes|\n",
       "+---+--------------------+--------------------+--------------------+--------------------+\n",
       "| 19|[RT @lindseyadler...|[rt, @lindseyadle...|(233668,[0,1,2,3,...|[[4.7945584E7], [...|\n",
       "| 54|[RT @DanWetzel: A...|[rt, @danwetzel:,...|(233668,[0,2,6,10...|[[4.7945584E7], [...|\n",
       "|296|[RT @DanWetzel: A...|[rt, @danwetzel:,...|(233668,[0,2,6,10...|[[4.7945584E7], [...|\n",
       "|926|[RT @DanWetzel: A...|[rt, @danwetzel:,...|(233668,[0,2,6,10...|[[4.7945584E7], [...|\n",
       "|965|[RT @rwesthead: B...|[rt, @rwesthead:,...|(233668,[0,1,2,7,...|[[4.7945584E7], [...|\n",
       "+---+--------------------+--------------------+--------------------+--------------------+"
      ]
     },
     "execution_count": 25,
     "metadata": {},
     "output_type": "execute_result"
    }
   ],
   "source": [
    "bos_df_hashed_text = bos_df_text.join(bos_df_hashed, \"id\", how = 'left').cache()\n",
    "bos_df_hashed_text.limit(5)"
   ]
  },
  {
   "cell_type": "code",
   "execution_count": null,
   "metadata": {},
   "outputs": [],
   "source": [
    "jaccard_distance = 0.3\n",
    "\n",
    "bos_df_dups_text = bos_model.approxSimilarityJoin(bos_df_hashed_text, bos_df_hashed_text, jaccard_distance).filter(\"datasetA.id < datasetB.id\").select(\n",
    "            col(\"distCol\"),\n",
    "            col(\"datasetA.id\").alias(\"id_A\"),\n",
    "            col(\"datasetB.id\").alias(\"id_B\"),\n",
    "            col('datasetA.text').alias('text_A'),\n",
    "            col('datasetB.text').alias('text_B')\n",
    "            )"
   ]
  },
  {
   "cell_type": "code",
   "execution_count": null,
   "metadata": {},
   "outputs": [
    {
     "name": "stdout",
     "output_type": "stream",
     "text": [
      "Total records:  352767\n",
      "Duplicate titles based on { 0.3 } jaccard distance:  207799\n",
      "Unique titles based on { 0.3 } jaccard distance:  0.3 :  144968\n"
     ]
    }
   ],
   "source": [
    "bos_records = bos_df_hashed_text.count()\n",
    "bos_dups = bos_df_dups_text.select('id_A').distinct().count()\n",
    "bos_uniques = bos_records - bos_dups\n",
    "\n",
    "print ('Total records: ', bos_records)\n",
    "print ('Duplicate titles based on {', jaccard_distance, '} jaccard distance: ', bos_dups)\n",
    "print ('Unique titles based on {', jaccard_distance, '} jaccard distance: ', jaccard_distance, ': ', bos_uniques)"
   ]
  },
  {
   "cell_type": "code",
   "execution_count": null,
   "metadata": {},
   "outputs": [
    {
     "data": {
      "image/png": "[encoded data removed]",
      "text/plain": [
       "<Figure size 432x288 with 1 Axes>"
      ]
     },
     "metadata": {
      "needs_background": "light"
     },
     "output_type": "display_data"
    }
   ],
   "source": [
    "bos_dups_df = pd.DataFrame.from_dict({'near_dups': [bos_dups], 'unique': [bos_uniques]})\n",
    "\n",
    "ax = bos_dups_df.plot(kind = 'bar',y=['near_dups', 'unique'], fontsize=10, color=['C0', 'C1'], align='center', width=0.8)\n",
    "ax.set_title('Tweets duplication analysis - Boston University', fontsize=15)\n",
    "ax.set_xlabel(\"Duplicates vs. Unique\")\n",
    "for p in ax.patches:\n",
    "       ax.annotate(format(p.get_height(), '.1f'), \n",
    "                   (p.get_x() + p.get_width() / 2., p.get_height()/2), \n",
    "                   ha = 'center', va = 'center', \n",
    "                   xytext = (0, 9), \n",
    "                   textcoords = 'offset points') "
   ]
  },
  {
   "cell_type": "markdown",
   "metadata": {},
   "source": [
    "#### Duplicate Analysis - Northeastern University"
   ]
  },
  {
   "cell_type": "code",
   "execution_count": null,
   "metadata": {},
   "outputs": [],
   "source": [
    "neu_df_text_raw = northeastern.select(['text'])"
   ]
  },
  {
   "cell_type": "code",
   "execution_count": null,
   "metadata": {},
   "outputs": [],
   "source": [
    "neu_text = neu_df_text_raw.rdd.map(lambda x : x['text']).filter(lambda x: x is not None)\n",
    "\n",
    "StopWords = stopwords.words(\"english\")\n",
    "\n",
    "neu_tokens = neu_text\\\n",
    "    .map(lambda document: document.strip().lower())\\\n",
    "    .map(lambda document: re.split(\" \", document))\\\n",
    "    .map(lambda word: [x for x in word if len(x) > 1] )\\\n",
    "    .zipWithIndex()"
   ]
  },
  {
   "cell_type": "code",
   "execution_count": null,
   "metadata": {},
   "outputs": [
    {
     "data": {
      "text/html": [
       "<table border='1'>\n",
       "<tr><th>text</th><th>id</th></tr>\n",
       "<tr><td>[Did you know? 73...</td><td>38845</td></tr>\n",
       "<tr><td>[Congratulations ...</td><td>38846</td></tr>\n",
       "<tr><td>[Northeastern Uni...</td><td>38847</td></tr>\n",
       "<tr><td>[Northeastern Uni...</td><td>38848</td></tr>\n",
       "<tr><td>[RT @BHSWarhawks:...</td><td>38849</td></tr>\n",
       "</table>\n"
      ],
      "text/plain": [
       "+--------------------+-----+\n",
       "|                text|   id|\n",
       "+--------------------+-----+\n",
       "|[RT@Amazng_Books ...|57961|\n",
       "|[RT @keilon_elder...|57962|\n",
       "|[It's windy at No...|57963|\n",
       "|[RT @keilon_elder...|57964|\n",
       "|[Chewy is sponsor...|57965|\n",
       "+--------------------+-----+"
      ]
     },
     "execution_count": 31,
     "metadata": {},
     "output_type": "execute_result"
    }
   ],
   "source": [
    "row = Row('text')\n",
    "neu_df_text = neu_text.map(row).zipWithIndex().toDF(['text','id'])\n",
    "neu_df_text.limit(5)"
   ]
  },
  {
   "cell_type": "code",
   "execution_count": null,
   "metadata": {},
   "outputs": [
    {
     "data": {
      "text/html": [
       "<div>\n",
       "<style scoped>\n",
       "    .dataframe tbody tr th:only-of-type {\n",
       "        vertical-align: middle;\n",
       "    }\n",
       "\n",
       "    .dataframe tbody tr th {\n",
       "        vertical-align: top;\n",
       "    }\n",
       "\n",
       "    .dataframe thead th {\n",
       "        text-align: right;\n",
       "    }\n",
       "</style>\n",
       "<table border=\"1\" class=\"dataframe\">\n",
       "  <thead>\n",
       "    <tr style=\"text-align: right;\">\n",
       "      <th></th>\n",
       "      <th>list_of_words</th>\n",
       "      <th>id</th>\n",
       "    </tr>\n",
       "  </thead>\n",
       "  <tbody>\n",
       "    <tr>\n",
       "      <th>0</th>\n",
       "      <td>[please, join, us, for, our, part, webinar, se...</td>\n",
       "      <td>0</td>\n",
       "    </tr>\n",
       "    <tr>\n",
       "      <th>1</th>\n",
       "      <td>[join, us, for, our, webinar, series, on, nort...</td>\n",
       "      <td>1</td>\n",
       "    </tr>\n",
       "    <tr>\n",
       "      <th>2</th>\n",
       "      <td>[several, student, organizations, at, the, nor...</td>\n",
       "      <td>2</td>\n",
       "    </tr>\n",
       "    <tr>\n",
       "      <th>3</th>\n",
       "      <td>[find, yourself, parking, lot, that, gives, yo...</td>\n",
       "      <td>3</td>\n",
       "    </tr>\n",
       "    <tr>\n",
       "      <th>4</th>\n",
       "      <td>[please, join, us, for, our, part, webinar, se...</td>\n",
       "      <td>4</td>\n",
       "    </tr>\n",
       "  </tbody>\n",
       "</table>\n",
       "</div>"
      ],
      "text/plain": [
       "                                       list_of_words  id\n",
       "0  [please, join, us, for, our, part, webinar, se...   0\n",
       "1  [join, us, for, our, webinar, series, on, nort...   1\n",
       "2  [several, student, organizations, at, the, nor...   2\n",
       "3  [find, yourself, parking, lot, that, gives, yo...   3\n",
       "4  [please, join, us, for, our, part, webinar, se...   4"
      ]
     },
     "execution_count": 32,
     "metadata": {},
     "output_type": "execute_result"
    }
   ],
   "source": [
    "neu_df_tokens = spark.createDataFrame(neu_tokens, [\"list_of_words\",'id'])\n",
    "\n",
    "#Drop records with no tokens\n",
    "neu_df_tokens = neu_df_tokens.where(col('list_of_words').getItem(0).isNotNull())\n",
    "neu_df_tokens.limit(5).toPandas()"
   ]
  },
  {
   "cell_type": "code",
   "execution_count": null,
   "metadata": {},
   "outputs": [],
   "source": [
    "neu_vectorize = CountVectorizer(inputCol=\"list_of_words\", outputCol=\"features\", minDF=1.0)\n",
    "neu_df_vectorize = neu_vectorize.fit(neu_df_tokens).transform(neu_df_tokens)"
   ]
  },
  {
   "cell_type": "code",
   "execution_count": null,
   "metadata": {},
   "outputs": [
    {
     "data": {
      "text/html": [
       "<div>\n",
       "<style scoped>\n",
       "    .dataframe tbody tr th:only-of-type {\n",
       "        vertical-align: middle;\n",
       "    }\n",
       "\n",
       "    .dataframe tbody tr th {\n",
       "        vertical-align: top;\n",
       "    }\n",
       "\n",
       "    .dataframe thead th {\n",
       "        text-align: right;\n",
       "    }\n",
       "</style>\n",
       "<table border=\"1\" class=\"dataframe\">\n",
       "  <thead>\n",
       "    <tr style=\"text-align: right;\">\n",
       "      <th></th>\n",
       "      <th>list_of_words</th>\n",
       "      <th>id</th>\n",
       "      <th>features</th>\n",
       "    </tr>\n",
       "  </thead>\n",
       "  <tbody>\n",
       "    <tr>\n",
       "      <th>0</th>\n",
       "      <td>[please, join, us, for, our, part, webinar, se...</td>\n",
       "      <td>0</td>\n",
       "      <td>(1.0, 0.0, 0.0, 0.0, 0.0, 0.0, 0.0, 0.0, 0.0, ...</td>\n",
       "    </tr>\n",
       "    <tr>\n",
       "      <th>1</th>\n",
       "      <td>[join, us, for, our, webinar, series, on, nort...</td>\n",
       "      <td>1</td>\n",
       "      <td>(1.0, 0.0, 0.0, 0.0, 0.0, 0.0, 0.0, 0.0, 0.0, ...</td>\n",
       "    </tr>\n",
       "    <tr>\n",
       "      <th>2</th>\n",
       "      <td>[several, student, organizations, at, the, nor...</td>\n",
       "      <td>2</td>\n",
       "      <td>(1.0, 1.0, 0.0, 1.0, 1.0, 1.0, 0.0, 1.0, 0.0, ...</td>\n",
       "    </tr>\n",
       "    <tr>\n",
       "      <th>3</th>\n",
       "      <td>[find, yourself, parking, lot, that, gives, yo...</td>\n",
       "      <td>3</td>\n",
       "      <td>(1.0, 1.0, 0.0, 0.0, 0.0, 0.0, 0.0, 0.0, 0.0, ...</td>\n",
       "    </tr>\n",
       "    <tr>\n",
       "      <th>4</th>\n",
       "      <td>[please, join, us, for, our, part, webinar, se...</td>\n",
       "      <td>4</td>\n",
       "      <td>(1.0, 0.0, 0.0, 0.0, 0.0, 0.0, 0.0, 0.0, 0.0, ...</td>\n",
       "    </tr>\n",
       "  </tbody>\n",
       "</table>\n",
       "</div>"
      ],
      "text/plain": [
       "                                       list_of_words  id  \\\n",
       "0  [please, join, us, for, our, part, webinar, se...   0   \n",
       "1  [join, us, for, our, webinar, series, on, nort...   1   \n",
       "2  [several, student, organizations, at, the, nor...   2   \n",
       "3  [find, yourself, parking, lot, that, gives, yo...   3   \n",
       "4  [please, join, us, for, our, part, webinar, se...   4   \n",
       "\n",
       "                                            features  \n",
       "0  (1.0, 0.0, 0.0, 0.0, 0.0, 0.0, 0.0, 0.0, 0.0, ...  \n",
       "1  (1.0, 0.0, 0.0, 0.0, 0.0, 0.0, 0.0, 0.0, 0.0, ...  \n",
       "2  (1.0, 1.0, 0.0, 1.0, 1.0, 1.0, 0.0, 1.0, 0.0, ...  \n",
       "3  (1.0, 1.0, 0.0, 0.0, 0.0, 0.0, 0.0, 0.0, 0.0, ...  \n",
       "4  (1.0, 0.0, 0.0, 0.0, 0.0, 0.0, 0.0, 0.0, 0.0, ...  "
      ]
     },
     "execution_count": 34,
     "metadata": {},
     "output_type": "execute_result"
    }
   ],
   "source": [
    "neu_df_vectorize.limit(5).toPandas()"
   ]
  },
  {
   "cell_type": "code",
   "execution_count": null,
   "metadata": {},
   "outputs": [],
   "source": [
    "neu_mh = MinHashLSH(inputCol=\"features\", outputCol=\"hashes\", numHashTables=5)\n",
    "neu_model = neu_mh.fit(neu_df_vectorize)\n",
    "neu_df_hashed = neu_mh.fit(neu_df_vectorize).transform(neu_df_vectorize).cache()"
   ]
  },
  {
   "cell_type": "code",
   "execution_count": null,
   "metadata": {},
   "outputs": [
    {
     "data": {
      "text/html": [
       "<table border='1'>\n",
       "<tr><th>id</th><th>text</th><th>list_of_words</th><th>features</th><th>hashes</th></tr>\n",
       "<tr><td>243</td><td>[RT @BostonGlobe:...</td><td>[rt, @bostonglobe...</td><td>(71544,[0,1,2,7,1...</td><td>[[3.331227E7], [1...</td></tr>\n",
       "<tr><td>278</td><td>[RT @ChuckCallest...</td><td>[rt, @chuckcalles...</td><td>(71544,[0,1,2,7,1...</td><td>[[3.331227E7], [1...</td></tr>\n",
       "<tr><td>367</td><td>[RT @ChuckCallest...</td><td>[rt, @chuckcalles...</td><td>(71544,[0,1,2,7,1...</td><td>[[3.331227E7], [1...</td></tr>\n",
       "<tr><td>442</td><td>[RT @ChuckCallest...</td><td>[rt, @chuckcalles...</td><td>(71544,[0,1,2,7,1...</td><td>[[3.331227E7], [1...</td></tr>\n",
       "<tr><td>705</td><td>[RT @ChuckCallest...</td><td>[rt, @chuckcalles...</td><td>(71544,[0,1,2,7,1...</td><td>[[3.331227E7], [1...</td></tr>\n",
       "</table>\n"
      ],
      "text/plain": [
       "+----+--------------------+--------------------+--------------------+--------------------+\n",
       "|  id|                text|       list_of_words|            features|              hashes|\n",
       "+----+--------------------+--------------------+--------------------+--------------------+\n",
       "|  26|[RT @BostonGlobe:...|[rt, @bostonglobe...|(71544,[0,1,2,7,1...|[[3.331227E7], [1...|\n",
       "|  29|[RT @BostonGlobe:...|[rt, @bostonglobe...|(71544,[0,1,2,7,1...|[[3.331227E7], [1...|\n",
       "| 474|[RT @BostonGlobe:...|[rt, @bostonglobe...|(71544,[0,1,2,7,1...|[[3.331227E7], [1...|\n",
       "| 964|[RT @ChuckCallest...|[rt, @chuckcalles...|(71544,[0,1,2,7,1...|[[3.331227E7], [1...|\n",
       "|1677|[RT @ChuckCallest...|[rt, @chuckcalles...|(71544,[0,1,2,7,1...|[[3.331227E7], [1...|\n",
       "+----+--------------------+--------------------+--------------------+--------------------+"
      ]
     },
     "execution_count": 36,
     "metadata": {},
     "output_type": "execute_result"
    }
   ],
   "source": [
    "neu_df_hashed_text = neu_df_text.join(neu_df_hashed, \"id\", how = 'left').cache()\n",
    "neu_df_hashed_text.limit(5)"
   ]
  },
  {
   "cell_type": "code",
   "execution_count": null,
   "metadata": {},
   "outputs": [],
   "source": [
    "jaccard_distance = 0.3\n",
    "\n",
    "neu_df_dups_text = neu_model.approxSimilarityJoin(neu_df_hashed_text, neu_df_hashed_text, jaccard_distance).filter(\"datasetA.id < datasetB.id\").select(\n",
    "            col(\"distCol\"),\n",
    "            col(\"datasetA.id\").alias(\"id_A\"),\n",
    "            col(\"datasetB.id\").alias(\"id_B\"),\n",
    "            col('datasetA.text').alias('text_A'),\n",
    "            col('datasetB.text').alias('text_B')\n",
    "            )"
   ]
  },
  {
   "cell_type": "code",
   "execution_count": null,
   "metadata": {},
   "outputs": [
    {
     "name": "stdout",
     "output_type": "stream",
     "text": [
      "Total records:  96374\n",
      "Duplicate titles based on { 0.3 } jaccard distance:  76792\n",
      "Unique titles based on { 0.3 } jaccard distance:  0.3 :  19582\n"
     ]
    }
   ],
   "source": [
    "neu_records = neu_df_hashed_text.count()\n",
    "neu_dups = neu_df_dups_text.select('id_A').distinct().count()\n",
    "neu_uniques = neu_records - neu_dups\n",
    "\n",
    "print ('Total records: ', neu_records)\n",
    "print ('Duplicate titles based on {', jaccard_distance, '} jaccard distance: ', neu_dups)\n",
    "print ('Unique titles based on {', jaccard_distance, '} jaccard distance: ', jaccard_distance, ': ', neu_uniques)"
   ]
  },
  {
   "cell_type": "code",
   "execution_count": null,
   "metadata": {},
   "outputs": [
    {
     "data": {
      "image/png": "[encoded data removed]",
      "text/plain": [
       "<Figure size 432x288 with 1 Axes>"
      ]
     },
     "metadata": {
      "needs_background": "light"
     },
     "output_type": "display_data"
    }
   ],
   "source": [
    "neu_dups_df = pd.DataFrame.from_dict({'near_dups': [neu_dups], 'unique': [neu_uniques]})\n",
    "\n",
    "ax = neu_dups_df.plot(kind = 'bar',y=['near_dups', 'unique'], fontsize=10, color=['C0', 'C1'], align='center', width=0.8)\n",
    "ax.set_title('Tweets duplication analysis - Northeastern University', fontsize=15)\n",
    "ax.set_xlabel(\"Duplicates vs. Unique\")\n",
    "for p in ax.patches:\n",
    "       ax.annotate(format(p.get_height(), '.1f'), \n",
    "                   (p.get_x() + p.get_width() / 2., p.get_height()/2), \n",
    "                   ha = 'center', va = 'center', \n",
    "                   xytext = (0, 9), \n",
    "                   textcoords = 'offset points') "
   ]
  },
  {
   "cell_type": "code",
   "execution_count": null,
   "metadata": {},
   "outputs": [],
   "source": []
  }
 ],
 "metadata": {
  "kernelspec": {
   "display_name": "Python 3",
   "language": "python",
   "name": "python3"
  },
  "language_info": {
   "codemirror_mode": {
    "name": "ipython",
    "version": 3
   },
   "file_extension": ".py",
   "mimetype": "text/x-python",
   "name": "python",
   "nbconvert_exporter": "python",
   "pygments_lexer": "ipython3",
   "version": "3.8.2"
  }
 },
 "nbformat": 4,
 "nbformat_minor": 4
}
